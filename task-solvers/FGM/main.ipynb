{
 "cells": [
  {
   "cell_type": "code",
   "execution_count": 5,
   "metadata": {},
   "outputs": [],
   "source": [
    "\n",
    "import torch\n",
    "from torch import nn\n",
    "from transformers import XLMRobertaModel, XLMRobertaTokenizer\n",
    "from torch.utils.data import Dataset, DataLoader\n",
    "from typing import List, Dict, Optional\n",
    "import numpy as np"
   ]
  },
  {
   "cell_type": "code",
   "execution_count": 6,
   "metadata": {},
   "outputs": [],
   "source": [
    "import pandas as pd"
   ]
  },
  {
   "cell_type": "code",
   "execution_count": 6,
   "metadata": {},
   "outputs": [],
   "source": [
    "# train_df = pd.read_csv(\"/home/ka55gawy/semeval2025/task_data/subtask2_hf/EN_fine-grained/train.csv\"\n",
    "train_df = pd.read_csv(\"combined_lang_train.csv\")"
   ]
  },
  {
   "cell_type": "code",
   "execution_count": 13,
   "metadata": {},
   "outputs": [],
   "source": [
    "train_df = train_df.sample(frac=1, random_state=42).reset_index(drop=True)"
   ]
  },
  {
   "cell_type": "code",
   "execution_count": 15,
   "metadata": {},
   "outputs": [
    {
     "data": {
      "text/plain": [
       "(1781, 98)"
      ]
     },
     "execution_count": 15,
     "metadata": {},
     "output_type": "execute_result"
    }
   ],
   "source": [
    "train_df.shape"
   ]
  },
  {
   "cell_type": "code",
   "execution_count": 16,
   "metadata": {},
   "outputs": [
    {
     "data": {
      "text/html": [
       "<div>\n",
       "<style scoped>\n",
       "    .dataframe tbody tr th:only-of-type {\n",
       "        vertical-align: middle;\n",
       "    }\n",
       "\n",
       "    .dataframe tbody tr th {\n",
       "        vertical-align: top;\n",
       "    }\n",
       "\n",
       "    .dataframe thead th {\n",
       "        text-align: right;\n",
       "    }\n",
       "</style>\n",
       "<table border=\"1\" class=\"dataframe\">\n",
       "  <thead>\n",
       "    <tr style=\"text-align: right;\">\n",
       "      <th></th>\n",
       "      <th>file</th>\n",
       "      <th>text</th>\n",
       "      <th>CC: Amplifying Climate Fears: Amplifying existing fears of global warming</th>\n",
       "      <th>CC: Amplifying Climate Fears: Doomsday scenarios for humans</th>\n",
       "      <th>CC: Amplifying Climate Fears: Earth will be uninhabitable soon</th>\n",
       "      <th>CC: Amplifying Climate Fears: Whatever we do it is already too late</th>\n",
       "      <th>CC: Amplifying Climate Fears: Other</th>\n",
       "      <th>CC: Climate change is beneficial: CO2 is beneficial</th>\n",
       "      <th>CC: Climate change is beneficial: Temperature increase is beneficial</th>\n",
       "      <th>CC: Climate change is beneficial: Other</th>\n",
       "      <th>...</th>\n",
       "      <th>URW: Praise of Russia: Other</th>\n",
       "      <th>URW: Russia is the Victim: Russia actions in Ukraine are only self-defence</th>\n",
       "      <th>URW: Russia is the Victim: The West is russophobic</th>\n",
       "      <th>URW: Russia is the Victim: UA is anti-RU extremists</th>\n",
       "      <th>URW: Russia is the Victim: Other</th>\n",
       "      <th>URW: Speculating war outcomes: Russian army is collapsing</th>\n",
       "      <th>URW: Speculating war outcomes: Russian army will lose all the occupied territories</th>\n",
       "      <th>URW: Speculating war outcomes: Ukrainian army is collapsing</th>\n",
       "      <th>URW: Speculating war outcomes: Other</th>\n",
       "      <th>Other</th>\n",
       "    </tr>\n",
       "  </thead>\n",
       "  <tbody>\n",
       "    <tr>\n",
       "      <th>0</th>\n",
       "      <td>HI_128.txt</td>\n",
       "      <td>पुतिन ने कमला हैरिस के बारे में मुस्कुराकर क्य...</td>\n",
       "      <td>0</td>\n",
       "      <td>0</td>\n",
       "      <td>0</td>\n",
       "      <td>0</td>\n",
       "      <td>0</td>\n",
       "      <td>0</td>\n",
       "      <td>0</td>\n",
       "      <td>0</td>\n",
       "      <td>...</td>\n",
       "      <td>0</td>\n",
       "      <td>0</td>\n",
       "      <td>1</td>\n",
       "      <td>0</td>\n",
       "      <td>0</td>\n",
       "      <td>0</td>\n",
       "      <td>0</td>\n",
       "      <td>0</td>\n",
       "      <td>0</td>\n",
       "      <td>0</td>\n",
       "    </tr>\n",
       "    <tr>\n",
       "      <th>1</th>\n",
       "      <td>PT_40.txt</td>\n",
       "      <td>Sobre os ataques de Kiev às estações de radar ...</td>\n",
       "      <td>0</td>\n",
       "      <td>0</td>\n",
       "      <td>0</td>\n",
       "      <td>0</td>\n",
       "      <td>0</td>\n",
       "      <td>0</td>\n",
       "      <td>0</td>\n",
       "      <td>0</td>\n",
       "      <td>...</td>\n",
       "      <td>0</td>\n",
       "      <td>0</td>\n",
       "      <td>0</td>\n",
       "      <td>0</td>\n",
       "      <td>0</td>\n",
       "      <td>0</td>\n",
       "      <td>0</td>\n",
       "      <td>0</td>\n",
       "      <td>0</td>\n",
       "      <td>0</td>\n",
       "    </tr>\n",
       "    <tr>\n",
       "      <th>2</th>\n",
       "      <td>EN_UA_023816.txt</td>\n",
       "      <td>NATO Troops Are Operating In Ukraine Disguised...</td>\n",
       "      <td>0</td>\n",
       "      <td>0</td>\n",
       "      <td>0</td>\n",
       "      <td>0</td>\n",
       "      <td>0</td>\n",
       "      <td>0</td>\n",
       "      <td>0</td>\n",
       "      <td>0</td>\n",
       "      <td>...</td>\n",
       "      <td>0</td>\n",
       "      <td>0</td>\n",
       "      <td>1</td>\n",
       "      <td>1</td>\n",
       "      <td>0</td>\n",
       "      <td>0</td>\n",
       "      <td>0</td>\n",
       "      <td>0</td>\n",
       "      <td>0</td>\n",
       "      <td>0</td>\n",
       "    </tr>\n",
       "    <tr>\n",
       "      <th>3</th>\n",
       "      <td>BG_939.txt</td>\n",
       "      <td>ВТЪЛПЯВАНЕТО НА ВИНА ОБСЛУЖВА ГЛОБАЛИСТИТЕ\\n\\n...</td>\n",
       "      <td>0</td>\n",
       "      <td>0</td>\n",
       "      <td>0</td>\n",
       "      <td>0</td>\n",
       "      <td>0</td>\n",
       "      <td>0</td>\n",
       "      <td>0</td>\n",
       "      <td>0</td>\n",
       "      <td>...</td>\n",
       "      <td>0</td>\n",
       "      <td>0</td>\n",
       "      <td>0</td>\n",
       "      <td>0</td>\n",
       "      <td>0</td>\n",
       "      <td>0</td>\n",
       "      <td>0</td>\n",
       "      <td>0</td>\n",
       "      <td>0</td>\n",
       "      <td>0</td>\n",
       "    </tr>\n",
       "    <tr>\n",
       "      <th>4</th>\n",
       "      <td>BG_704.txt</td>\n",
       "      <td>Всеки път, размишлявайки върху териториалната ...</td>\n",
       "      <td>0</td>\n",
       "      <td>0</td>\n",
       "      <td>0</td>\n",
       "      <td>0</td>\n",
       "      <td>0</td>\n",
       "      <td>0</td>\n",
       "      <td>0</td>\n",
       "      <td>0</td>\n",
       "      <td>...</td>\n",
       "      <td>0</td>\n",
       "      <td>0</td>\n",
       "      <td>0</td>\n",
       "      <td>0</td>\n",
       "      <td>0</td>\n",
       "      <td>0</td>\n",
       "      <td>0</td>\n",
       "      <td>0</td>\n",
       "      <td>0</td>\n",
       "      <td>0</td>\n",
       "    </tr>\n",
       "    <tr>\n",
       "      <th>...</th>\n",
       "      <td>...</td>\n",
       "      <td>...</td>\n",
       "      <td>...</td>\n",
       "      <td>...</td>\n",
       "      <td>...</td>\n",
       "      <td>...</td>\n",
       "      <td>...</td>\n",
       "      <td>...</td>\n",
       "      <td>...</td>\n",
       "      <td>...</td>\n",
       "      <td>...</td>\n",
       "      <td>...</td>\n",
       "      <td>...</td>\n",
       "      <td>...</td>\n",
       "      <td>...</td>\n",
       "      <td>...</td>\n",
       "      <td>...</td>\n",
       "      <td>...</td>\n",
       "      <td>...</td>\n",
       "      <td>...</td>\n",
       "      <td>...</td>\n",
       "    </tr>\n",
       "    <tr>\n",
       "      <th>1776</th>\n",
       "      <td>HI_62.txt</td>\n",
       "      <td>यूक्रेन ने निंदा की कि रूस डोनेट्स्क, लुहान्स्...</td>\n",
       "      <td>0</td>\n",
       "      <td>0</td>\n",
       "      <td>0</td>\n",
       "      <td>0</td>\n",
       "      <td>0</td>\n",
       "      <td>0</td>\n",
       "      <td>0</td>\n",
       "      <td>0</td>\n",
       "      <td>...</td>\n",
       "      <td>0</td>\n",
       "      <td>0</td>\n",
       "      <td>0</td>\n",
       "      <td>0</td>\n",
       "      <td>0</td>\n",
       "      <td>0</td>\n",
       "      <td>0</td>\n",
       "      <td>1</td>\n",
       "      <td>0</td>\n",
       "      <td>0</td>\n",
       "    </tr>\n",
       "    <tr>\n",
       "      <th>1777</th>\n",
       "      <td>PT_222.txt</td>\n",
       "      <td>Itália prepara-se para vaga de calor recorde c...</td>\n",
       "      <td>0</td>\n",
       "      <td>0</td>\n",
       "      <td>0</td>\n",
       "      <td>0</td>\n",
       "      <td>1</td>\n",
       "      <td>0</td>\n",
       "      <td>0</td>\n",
       "      <td>0</td>\n",
       "      <td>...</td>\n",
       "      <td>0</td>\n",
       "      <td>0</td>\n",
       "      <td>0</td>\n",
       "      <td>0</td>\n",
       "      <td>0</td>\n",
       "      <td>0</td>\n",
       "      <td>0</td>\n",
       "      <td>0</td>\n",
       "      <td>0</td>\n",
       "      <td>0</td>\n",
       "    </tr>\n",
       "    <tr>\n",
       "      <th>1778</th>\n",
       "      <td>HI_171.txt</td>\n",
       "      <td>अब रूस-यूक्रेन युद्ध में मच सकता है कोहराम, US...</td>\n",
       "      <td>0</td>\n",
       "      <td>0</td>\n",
       "      <td>0</td>\n",
       "      <td>0</td>\n",
       "      <td>0</td>\n",
       "      <td>0</td>\n",
       "      <td>0</td>\n",
       "      <td>0</td>\n",
       "      <td>...</td>\n",
       "      <td>0</td>\n",
       "      <td>0</td>\n",
       "      <td>0</td>\n",
       "      <td>0</td>\n",
       "      <td>0</td>\n",
       "      <td>0</td>\n",
       "      <td>0</td>\n",
       "      <td>0</td>\n",
       "      <td>0</td>\n",
       "      <td>0</td>\n",
       "    </tr>\n",
       "    <tr>\n",
       "      <th>1779</th>\n",
       "      <td>PT_39.txt</td>\n",
       "      <td>\"É necessário usar Zelensky\": um apelo ao \"car...</td>\n",
       "      <td>0</td>\n",
       "      <td>0</td>\n",
       "      <td>0</td>\n",
       "      <td>0</td>\n",
       "      <td>0</td>\n",
       "      <td>0</td>\n",
       "      <td>0</td>\n",
       "      <td>0</td>\n",
       "      <td>...</td>\n",
       "      <td>0</td>\n",
       "      <td>0</td>\n",
       "      <td>0</td>\n",
       "      <td>0</td>\n",
       "      <td>0</td>\n",
       "      <td>0</td>\n",
       "      <td>0</td>\n",
       "      <td>0</td>\n",
       "      <td>0</td>\n",
       "      <td>0</td>\n",
       "    </tr>\n",
       "    <tr>\n",
       "      <th>1780</th>\n",
       "      <td>HI_59.txt</td>\n",
       "      <td>संपादकीय: रूस-यूक्रेन युद्ध में जारी है हमला, ...</td>\n",
       "      <td>0</td>\n",
       "      <td>0</td>\n",
       "      <td>0</td>\n",
       "      <td>0</td>\n",
       "      <td>0</td>\n",
       "      <td>0</td>\n",
       "      <td>0</td>\n",
       "      <td>0</td>\n",
       "      <td>...</td>\n",
       "      <td>0</td>\n",
       "      <td>0</td>\n",
       "      <td>0</td>\n",
       "      <td>0</td>\n",
       "      <td>0</td>\n",
       "      <td>0</td>\n",
       "      <td>0</td>\n",
       "      <td>0</td>\n",
       "      <td>0</td>\n",
       "      <td>1</td>\n",
       "    </tr>\n",
       "  </tbody>\n",
       "</table>\n",
       "<p>1781 rows × 98 columns</p>\n",
       "</div>"
      ],
      "text/plain": [
       "                  file                                               text  \\\n",
       "0           HI_128.txt  पुतिन ने कमला हैरिस के बारे में मुस्कुराकर क्य...   \n",
       "1            PT_40.txt  Sobre os ataques de Kiev às estações de radar ...   \n",
       "2     EN_UA_023816.txt  NATO Troops Are Operating In Ukraine Disguised...   \n",
       "3           BG_939.txt  ВТЪЛПЯВАНЕТО НА ВИНА ОБСЛУЖВА ГЛОБАЛИСТИТЕ\\n\\n...   \n",
       "4           BG_704.txt  Всеки път, размишлявайки върху териториалната ...   \n",
       "...                ...                                                ...   \n",
       "1776         HI_62.txt  यूक्रेन ने निंदा की कि रूस डोनेट्स्क, लुहान्स्...   \n",
       "1777        PT_222.txt  Itália prepara-se para vaga de calor recorde c...   \n",
       "1778        HI_171.txt  अब रूस-यूक्रेन युद्ध में मच सकता है कोहराम, US...   \n",
       "1779         PT_39.txt  \"É necessário usar Zelensky\": um apelo ao \"car...   \n",
       "1780         HI_59.txt  संपादकीय: रूस-यूक्रेन युद्ध में जारी है हमला, ...   \n",
       "\n",
       "      CC: Amplifying Climate Fears: Amplifying existing fears of global warming  \\\n",
       "0                                                     0                           \n",
       "1                                                     0                           \n",
       "2                                                     0                           \n",
       "3                                                     0                           \n",
       "4                                                     0                           \n",
       "...                                                 ...                           \n",
       "1776                                                  0                           \n",
       "1777                                                  0                           \n",
       "1778                                                  0                           \n",
       "1779                                                  0                           \n",
       "1780                                                  0                           \n",
       "\n",
       "      CC: Amplifying Climate Fears: Doomsday scenarios for humans  \\\n",
       "0                                                     0             \n",
       "1                                                     0             \n",
       "2                                                     0             \n",
       "3                                                     0             \n",
       "4                                                     0             \n",
       "...                                                 ...             \n",
       "1776                                                  0             \n",
       "1777                                                  0             \n",
       "1778                                                  0             \n",
       "1779                                                  0             \n",
       "1780                                                  0             \n",
       "\n",
       "      CC: Amplifying Climate Fears: Earth will be uninhabitable soon  \\\n",
       "0                                                     0                \n",
       "1                                                     0                \n",
       "2                                                     0                \n",
       "3                                                     0                \n",
       "4                                                     0                \n",
       "...                                                 ...                \n",
       "1776                                                  0                \n",
       "1777                                                  0                \n",
       "1778                                                  0                \n",
       "1779                                                  0                \n",
       "1780                                                  0                \n",
       "\n",
       "      CC: Amplifying Climate Fears: Whatever we do it is already too late  \\\n",
       "0                                                     0                     \n",
       "1                                                     0                     \n",
       "2                                                     0                     \n",
       "3                                                     0                     \n",
       "4                                                     0                     \n",
       "...                                                 ...                     \n",
       "1776                                                  0                     \n",
       "1777                                                  0                     \n",
       "1778                                                  0                     \n",
       "1779                                                  0                     \n",
       "1780                                                  0                     \n",
       "\n",
       "      CC: Amplifying Climate Fears: Other  \\\n",
       "0                                       0   \n",
       "1                                       0   \n",
       "2                                       0   \n",
       "3                                       0   \n",
       "4                                       0   \n",
       "...                                   ...   \n",
       "1776                                    0   \n",
       "1777                                    1   \n",
       "1778                                    0   \n",
       "1779                                    0   \n",
       "1780                                    0   \n",
       "\n",
       "      CC: Climate change is beneficial: CO2 is beneficial  \\\n",
       "0                                                     0     \n",
       "1                                                     0     \n",
       "2                                                     0     \n",
       "3                                                     0     \n",
       "4                                                     0     \n",
       "...                                                 ...     \n",
       "1776                                                  0     \n",
       "1777                                                  0     \n",
       "1778                                                  0     \n",
       "1779                                                  0     \n",
       "1780                                                  0     \n",
       "\n",
       "      CC: Climate change is beneficial: Temperature increase is beneficial  \\\n",
       "0                                                     0                      \n",
       "1                                                     0                      \n",
       "2                                                     0                      \n",
       "3                                                     0                      \n",
       "4                                                     0                      \n",
       "...                                                 ...                      \n",
       "1776                                                  0                      \n",
       "1777                                                  0                      \n",
       "1778                                                  0                      \n",
       "1779                                                  0                      \n",
       "1780                                                  0                      \n",
       "\n",
       "      CC: Climate change is beneficial: Other  ...  \\\n",
       "0                                           0  ...   \n",
       "1                                           0  ...   \n",
       "2                                           0  ...   \n",
       "3                                           0  ...   \n",
       "4                                           0  ...   \n",
       "...                                       ...  ...   \n",
       "1776                                        0  ...   \n",
       "1777                                        0  ...   \n",
       "1778                                        0  ...   \n",
       "1779                                        0  ...   \n",
       "1780                                        0  ...   \n",
       "\n",
       "      URW: Praise of Russia: Other  \\\n",
       "0                                0   \n",
       "1                                0   \n",
       "2                                0   \n",
       "3                                0   \n",
       "4                                0   \n",
       "...                            ...   \n",
       "1776                             0   \n",
       "1777                             0   \n",
       "1778                             0   \n",
       "1779                             0   \n",
       "1780                             0   \n",
       "\n",
       "      URW: Russia is the Victim: Russia actions in Ukraine are only self-defence  \\\n",
       "0                                                     0                            \n",
       "1                                                     0                            \n",
       "2                                                     0                            \n",
       "3                                                     0                            \n",
       "4                                                     0                            \n",
       "...                                                 ...                            \n",
       "1776                                                  0                            \n",
       "1777                                                  0                            \n",
       "1778                                                  0                            \n",
       "1779                                                  0                            \n",
       "1780                                                  0                            \n",
       "\n",
       "      URW: Russia is the Victim: The West is russophobic  \\\n",
       "0                                                     1    \n",
       "1                                                     0    \n",
       "2                                                     1    \n",
       "3                                                     0    \n",
       "4                                                     0    \n",
       "...                                                 ...    \n",
       "1776                                                  0    \n",
       "1777                                                  0    \n",
       "1778                                                  0    \n",
       "1779                                                  0    \n",
       "1780                                                  0    \n",
       "\n",
       "      URW: Russia is the Victim: UA is anti-RU extremists  \\\n",
       "0                                                     0     \n",
       "1                                                     0     \n",
       "2                                                     1     \n",
       "3                                                     0     \n",
       "4                                                     0     \n",
       "...                                                 ...     \n",
       "1776                                                  0     \n",
       "1777                                                  0     \n",
       "1778                                                  0     \n",
       "1779                                                  0     \n",
       "1780                                                  0     \n",
       "\n",
       "      URW: Russia is the Victim: Other  \\\n",
       "0                                    0   \n",
       "1                                    0   \n",
       "2                                    0   \n",
       "3                                    0   \n",
       "4                                    0   \n",
       "...                                ...   \n",
       "1776                                 0   \n",
       "1777                                 0   \n",
       "1778                                 0   \n",
       "1779                                 0   \n",
       "1780                                 0   \n",
       "\n",
       "      URW: Speculating war outcomes: Russian army is collapsing  \\\n",
       "0                                                     0           \n",
       "1                                                     0           \n",
       "2                                                     0           \n",
       "3                                                     0           \n",
       "4                                                     0           \n",
       "...                                                 ...           \n",
       "1776                                                  0           \n",
       "1777                                                  0           \n",
       "1778                                                  0           \n",
       "1779                                                  0           \n",
       "1780                                                  0           \n",
       "\n",
       "      URW: Speculating war outcomes: Russian army will lose all the occupied territories  \\\n",
       "0                                                     0                                    \n",
       "1                                                     0                                    \n",
       "2                                                     0                                    \n",
       "3                                                     0                                    \n",
       "4                                                     0                                    \n",
       "...                                                 ...                                    \n",
       "1776                                                  0                                    \n",
       "1777                                                  0                                    \n",
       "1778                                                  0                                    \n",
       "1779                                                  0                                    \n",
       "1780                                                  0                                    \n",
       "\n",
       "      URW: Speculating war outcomes: Ukrainian army is collapsing  \\\n",
       "0                                                     0             \n",
       "1                                                     0             \n",
       "2                                                     0             \n",
       "3                                                     0             \n",
       "4                                                     0             \n",
       "...                                                 ...             \n",
       "1776                                                  1             \n",
       "1777                                                  0             \n",
       "1778                                                  0             \n",
       "1779                                                  0             \n",
       "1780                                                  0             \n",
       "\n",
       "      URW: Speculating war outcomes: Other  Other  \n",
       "0                                        0      0  \n",
       "1                                        0      0  \n",
       "2                                        0      0  \n",
       "3                                        0      0  \n",
       "4                                        0      0  \n",
       "...                                    ...    ...  \n",
       "1776                                     0      0  \n",
       "1777                                     0      0  \n",
       "1778                                     0      0  \n",
       "1779                                     0      0  \n",
       "1780                                     0      1  \n",
       "\n",
       "[1781 rows x 98 columns]"
      ]
     },
     "execution_count": 16,
     "metadata": {},
     "output_type": "execute_result"
    }
   ],
   "source": [
    "train_df"
   ]
  },
  {
   "cell_type": "code",
   "execution_count": 7,
   "metadata": {},
   "outputs": [],
   "source": [
    "\n",
    "class MultilingualMultiLabelClassifier(nn.Module):\n",
    "    def __init__(self, num_classes: int = 96, dropout: float = 0.1):\n",
    "        super().__init__()\n",
    "        \n",
    "        # Load pre-trained XLM-RoBERTa model\n",
    "        self.roberta = XLMRobertaModel.from_pretrained('xlm-roberta-base')\n",
    "        \n",
    "        # Hidden dimensions\n",
    "        self.hidden_dim = self.roberta.config.hidden_size\n",
    "        \n",
    "        # Multi-label classification head\n",
    "        self.classifier = nn.Sequential(\n",
    "            nn.Linear(self.hidden_dim, self.hidden_dim),\n",
    "            nn.ReLU(),\n",
    "            nn.Dropout(dropout),\n",
    "            nn.Linear(self.hidden_dim, num_classes),\n",
    "            nn.Sigmoid()  # Sigmoid for multi-label classification\n",
    "        )\n",
    "\n",
    "    def forward(self, input_ids, attention_mask):\n",
    "        # Get RoBERTa embeddings\n",
    "        outputs = self.roberta(input_ids=input_ids, attention_mask=attention_mask)\n",
    "        \n",
    "        # Use [CLS] token representation for classification\n",
    "        pooled_output = outputs.last_hidden_state[:, 0, :]\n",
    "        \n",
    "        # Pass through classification head\n",
    "        logits = self.classifier(pooled_output)\n",
    "        \n",
    "        return logits"
   ]
  },
  {
   "cell_type": "code",
   "execution_count": 8,
   "metadata": {},
   "outputs": [],
   "source": [
    "\n",
    "\n",
    "class MultilingualMultiLabelDataset(Dataset):\n",
    "    def __init__(self, texts: List[str], labels: Optional[np.ndarray] = None, \n",
    "                 max_length: int = 512):\n",
    "        \"\"\"\n",
    "        Args:\n",
    "            texts: List of input texts\n",
    "            labels: numpy array of one-hot encoded labels (num_samples x num_classes)\n",
    "            max_length: Maximum sequence length\n",
    "        \"\"\"\n",
    "        self.texts = texts\n",
    "        self.labels = labels\n",
    "        self.max_length = max_length\n",
    "        self.tokenizer = XLMRobertaTokenizer.from_pretrained('xlm-roberta-base')\n",
    "\n",
    "    def __len__(self):\n",
    "        return len(self.texts)\n",
    "\n",
    "    def __getitem__(self, idx):\n",
    "        text = str(self.texts[idx])\n",
    "        \n",
    "        # Tokenize text\n",
    "        encoding = self.tokenizer(\n",
    "            text,\n",
    "            max_length=self.max_length,\n",
    "            padding='max_length',\n",
    "            truncation=True,\n",
    "            return_tensors='pt'\n",
    "        )\n",
    "\n",
    "        item = {\n",
    "            'input_ids': encoding['input_ids'].squeeze(),\n",
    "            'attention_mask': encoding['attention_mask'].squeeze(),\n",
    "        }\n",
    "\n",
    "        if self.labels is not None:\n",
    "            item['labels'] = torch.FloatTensor(self.labels[idx])  # Convert to float for BCELoss\n",
    "\n",
    "        return item"
   ]
  },
  {
   "cell_type": "code",
   "execution_count": 23,
   "metadata": {},
   "outputs": [],
   "source": [
    "from tqdm.auto import tqdm"
   ]
  },
  {
   "cell_type": "code",
   "execution_count": 27,
   "metadata": {},
   "outputs": [],
   "source": [
    "def train_model(model, train_dataloader, val_dataloader, \n",
    "                num_epochs=5, learning_rate=2e-5, device='cuda:1'):\n",
    "    # Move model to device\n",
    "    model = model.to(device)\n",
    "    \n",
    "    # Initialize optimizer\n",
    "    optimizer = torch.optim.AdamW(model.parameters(), lr=learning_rate)\n",
    "    \n",
    "    # Binary Cross Entropy Loss for multi-label classification\n",
    "    criterion = nn.BCELoss()\n",
    "    \n",
    "    # Training loop\n",
    "    progress_bar = tqdm(range(num_epochs), desc=\"Training\", position=0)\n",
    "    for epoch in progress_bar:\n",
    "        model.train()\n",
    "        total_loss = 0\n",
    "        \n",
    "        # Create progress bar for batches\n",
    "        batch_progress = tqdm(train_dataloader, \n",
    "                            desc=f\"Epoch {epoch+1}/{num_epochs}\",\n",
    "                            leave=False,\n",
    "                            position=1)\n",
    "        \n",
    "        for batch in batch_progress:\n",
    "            # Move batch to device\n",
    "            input_ids = batch['input_ids'].to(device)\n",
    "            attention_mask = batch['attention_mask'].to(device)\n",
    "            labels = batch['labels'].to(device)\n",
    "            \n",
    "            # Forward pass\n",
    "            optimizer.zero_grad()\n",
    "            outputs = model(input_ids=input_ids, attention_mask=attention_mask)\n",
    "            \n",
    "            # Calculate loss\n",
    "            loss = criterion(outputs, labels)\n",
    "            total_loss += loss.item()\n",
    "            \n",
    "            # Backward pass\n",
    "            loss.backward()\n",
    "            optimizer.step()\n",
    "            \n",
    "            # Update batch progress bar\n",
    "            batch_progress.set_postfix({\"loss\": f\"{loss.item():.4f}\"})\n",
    "        \n",
    "        # Validation\n",
    "        model.eval()\n",
    "        val_loss = 0\n",
    "        all_predictions = []\n",
    "        all_labels = []\n",
    "        \n",
    "        with torch.no_grad():\n",
    "            val_progress = tqdm(val_dataloader, \n",
    "                              desc=\"Validation\",\n",
    "                              leave=False,\n",
    "                              position=1)\n",
    "            for batch in val_progress:\n",
    "                input_ids = batch['input_ids'].to(device)\n",
    "                attention_mask = batch['attention_mask'].to(device)\n",
    "                labels = batch['labels'].to(device)\n",
    "                \n",
    "                outputs = model(input_ids=input_ids, attention_mask=attention_mask)\n",
    "                loss = criterion(outputs, labels)\n",
    "                val_loss += loss.item()\n",
    "                \n",
    "                # Convert predictions to binary (0 or 1) using threshold of 0.5\n",
    "                predictions = (outputs > 0.5).float()\n",
    "                \n",
    "                all_predictions.extend(predictions.cpu().numpy())\n",
    "                all_labels.extend(labels.cpu().numpy())\n",
    "        \n",
    "        # Calculate metrics\n",
    "        all_predictions = np.array(all_predictions)\n",
    "        all_labels = np.array(all_labels)\n",
    "        \n",
    "        # Calculate accuracy, precision, recall, f1 per class\n",
    "        accuracy = np.mean(all_predictions == all_labels)\n",
    "        \n",
    "        # Calculate hamming loss (fraction of wrong labels)\n",
    "        hamming_loss = np.mean(all_predictions != all_labels)\n",
    "        \n",
    "        # Update progress bar with metrics\n",
    "        metrics = {\n",
    "            \"train_loss\": f\"{total_loss/len(train_dataloader):.4f}\",\n",
    "            \"val_loss\": f\"{val_loss/len(val_dataloader):.4f}\",\n",
    "            \"accuracy\": f\"{accuracy:.4f}\",\n",
    "            \"hamming_loss\": f\"{hamming_loss:.4f}\"\n",
    "        }\n",
    "        progress_bar.set_postfix(metrics)\n",
    "        \n",
    "        # Optional: still print detailed metrics\n",
    "        tqdm.write(f\"\\nEpoch {epoch+1}/{num_epochs}:\")\n",
    "        tqdm.write(f\"Training Loss: {metrics['train_loss']}\")\n",
    "        tqdm.write(f\"Validation Loss: {metrics['val_loss']}\")\n",
    "        tqdm.write(f\"Accuracy: {metrics['accuracy']}\")\n",
    "        tqdm.write(f\"Hamming Loss: {metrics['hamming_loss']}\\n\")"
   ]
  },
  {
   "cell_type": "code",
   "execution_count": null,
   "metadata": {},
   "outputs": [],
   "source": []
  },
  {
   "cell_type": "code",
   "execution_count": 3,
   "metadata": {},
   "outputs": [],
   "source": [
    "\n",
    "def predict(model, text: str, threshold: float = 0.5, device='cuda:1'):\n",
    "    model.eval()\n",
    "    tokenizer = XLMRobertaTokenizer.from_pretrained('xlm-roberta-base')\n",
    "    \n",
    "    # Tokenize input text\n",
    "    encoding = tokenizer(\n",
    "        text,\n",
    "        max_length=512,\n",
    "        padding='max_length',\n",
    "        truncation=True,\n",
    "        return_tensors='pt'\n",
    "    )\n",
    "    \n",
    "    # Move to device\n",
    "    input_ids = encoding['input_ids'].to(device)\n",
    "    attention_mask = encoding['attention_mask'].to(device)\n",
    "    \n",
    "    # Get prediction\n",
    "    with torch.no_grad():\n",
    "        outputs = model(input_ids=input_ids, attention_mask=attention_mask)\n",
    "        probabilities = outputs.squeeze()\n",
    "        predicted_labels = (probabilities > threshold).cpu().numpy()\n",
    "        class_probabilities = probabilities.cpu().numpy()\n",
    "    \n",
    "    return predicted_labels, class_probabilities\n",
    "\n",
    "# Example usage"
   ]
  },
  {
   "cell_type": "code",
   "execution_count": null,
   "metadata": {},
   "outputs": [],
   "source": []
  },
  {
   "cell_type": "code",
   "execution_count": 29,
   "metadata": {},
   "outputs": [
    {
     "data": {
      "application/vnd.jupyter.widget-view+json": {
       "model_id": "81710007c285434794c21191f0b88307",
       "version_major": 2,
       "version_minor": 0
      },
      "text/plain": [
       "Training:   0%|          | 0/100 [00:00<?, ?it/s]"
      ]
     },
     "metadata": {},
     "output_type": "display_data"
    },
    {
     "data": {
      "application/vnd.jupyter.widget-view+json": {
       "model_id": "7aa80e2ed26b4261af01373c0c7361f2",
       "version_major": 2,
       "version_minor": 0
      },
      "text/plain": [
       "Epoch 1/100:   0%|          | 0/89 [00:00<?, ?it/s]"
      ]
     },
     "metadata": {},
     "output_type": "display_data"
    },
    {
     "data": {
      "application/vnd.jupyter.widget-view+json": {
       "model_id": "8930592768cf43018b4eca3d979720c9",
       "version_major": 2,
       "version_minor": 0
      },
      "text/plain": [
       "Validation:   0%|          | 0/23 [00:00<?, ?it/s]"
      ]
     },
     "metadata": {},
     "output_type": "display_data"
    },
    {
     "name": "stdout",
     "output_type": "stream",
     "text": [
      "\n",
      "Epoch 1/100:\n",
      "Training Loss: 0.4443\n",
      "Validation Loss: 0.2020\n",
      "Accuracy: 0.9770\n",
      "Hamming Loss: 0.0230\n",
      "\n"
     ]
    },
    {
     "data": {
      "application/vnd.jupyter.widget-view+json": {
       "model_id": "b1a8845362a34f77910e02958d949d38",
       "version_major": 2,
       "version_minor": 0
      },
      "text/plain": [
       "Epoch 2/100:   0%|          | 0/89 [00:00<?, ?it/s]"
      ]
     },
     "metadata": {},
     "output_type": "display_data"
    },
    {
     "data": {
      "application/vnd.jupyter.widget-view+json": {
       "model_id": "f3c5c2e5152544308a9e844e661f76d7",
       "version_major": 2,
       "version_minor": 0
      },
      "text/plain": [
       "Validation:   0%|          | 0/23 [00:00<?, ?it/s]"
      ]
     },
     "metadata": {},
     "output_type": "display_data"
    },
    {
     "name": "stdout",
     "output_type": "stream",
     "text": [
      "\n",
      "Epoch 2/100:\n",
      "Training Loss: 0.1446\n",
      "Validation Loss: 0.1052\n",
      "Accuracy: 0.9770\n",
      "Hamming Loss: 0.0230\n",
      "\n"
     ]
    },
    {
     "data": {
      "application/vnd.jupyter.widget-view+json": {
       "model_id": "46ade1e1f38948f7b378c7c3b5f0f635",
       "version_major": 2,
       "version_minor": 0
      },
      "text/plain": [
       "Epoch 3/100:   0%|          | 0/89 [00:00<?, ?it/s]"
      ]
     },
     "metadata": {},
     "output_type": "display_data"
    },
    {
     "data": {
      "application/vnd.jupyter.widget-view+json": {
       "model_id": "3246ded391b84663a450c030fef08287",
       "version_major": 2,
       "version_minor": 0
      },
      "text/plain": [
       "Validation:   0%|          | 0/23 [00:00<?, ?it/s]"
      ]
     },
     "metadata": {},
     "output_type": "display_data"
    },
    {
     "name": "stdout",
     "output_type": "stream",
     "text": [
      "\n",
      "Epoch 3/100:\n",
      "Training Loss: 0.1060\n",
      "Validation Loss: 0.0994\n",
      "Accuracy: 0.9770\n",
      "Hamming Loss: 0.0230\n",
      "\n"
     ]
    },
    {
     "data": {
      "application/vnd.jupyter.widget-view+json": {
       "model_id": "0276fdea47f84e178ce8d99dd3957e06",
       "version_major": 2,
       "version_minor": 0
      },
      "text/plain": [
       "Epoch 4/100:   0%|          | 0/89 [00:00<?, ?it/s]"
      ]
     },
     "metadata": {},
     "output_type": "display_data"
    },
    {
     "data": {
      "application/vnd.jupyter.widget-view+json": {
       "model_id": "3de79ee99ae04d078ed684c31e24d859",
       "version_major": 2,
       "version_minor": 0
      },
      "text/plain": [
       "Validation:   0%|          | 0/23 [00:00<?, ?it/s]"
      ]
     },
     "metadata": {},
     "output_type": "display_data"
    },
    {
     "name": "stdout",
     "output_type": "stream",
     "text": [
      "\n",
      "Epoch 4/100:\n",
      "Training Loss: 0.1024\n",
      "Validation Loss: 0.0987\n",
      "Accuracy: 0.9770\n",
      "Hamming Loss: 0.0230\n",
      "\n"
     ]
    },
    {
     "data": {
      "application/vnd.jupyter.widget-view+json": {
       "model_id": "3debc087934347f0bb5fe8b3b9b007ac",
       "version_major": 2,
       "version_minor": 0
      },
      "text/plain": [
       "Epoch 5/100:   0%|          | 0/89 [00:00<?, ?it/s]"
      ]
     },
     "metadata": {},
     "output_type": "display_data"
    },
    {
     "data": {
      "application/vnd.jupyter.widget-view+json": {
       "model_id": "ffe974f6741b41308fa37dc1ba27df9e",
       "version_major": 2,
       "version_minor": 0
      },
      "text/plain": [
       "Validation:   0%|          | 0/23 [00:00<?, ?it/s]"
      ]
     },
     "metadata": {},
     "output_type": "display_data"
    },
    {
     "name": "stdout",
     "output_type": "stream",
     "text": [
      "\n",
      "Epoch 5/100:\n",
      "Training Loss: 0.1016\n",
      "Validation Loss: 0.0983\n",
      "Accuracy: 0.9770\n",
      "Hamming Loss: 0.0230\n",
      "\n"
     ]
    },
    {
     "data": {
      "application/vnd.jupyter.widget-view+json": {
       "model_id": "2ff7f575fddc41d58ba4dcd5c69e39db",
       "version_major": 2,
       "version_minor": 0
      },
      "text/plain": [
       "Epoch 6/100:   0%|          | 0/89 [00:00<?, ?it/s]"
      ]
     },
     "metadata": {},
     "output_type": "display_data"
    },
    {
     "data": {
      "application/vnd.jupyter.widget-view+json": {
       "model_id": "86b414e7a2364231bc8f29de146c6775",
       "version_major": 2,
       "version_minor": 0
      },
      "text/plain": [
       "Validation:   0%|          | 0/23 [00:00<?, ?it/s]"
      ]
     },
     "metadata": {},
     "output_type": "display_data"
    },
    {
     "name": "stdout",
     "output_type": "stream",
     "text": [
      "\n",
      "Epoch 6/100:\n",
      "Training Loss: 0.1012\n",
      "Validation Loss: 0.0969\n",
      "Accuracy: 0.9770\n",
      "Hamming Loss: 0.0230\n",
      "\n"
     ]
    },
    {
     "data": {
      "application/vnd.jupyter.widget-view+json": {
       "model_id": "f66201c2b7d14cb580c3d8bfa6448581",
       "version_major": 2,
       "version_minor": 0
      },
      "text/plain": [
       "Epoch 7/100:   0%|          | 0/89 [00:00<?, ?it/s]"
      ]
     },
     "metadata": {},
     "output_type": "display_data"
    },
    {
     "data": {
      "application/vnd.jupyter.widget-view+json": {
       "model_id": "02d0dfcfc24647fe98ac601b9afcf71c",
       "version_major": 2,
       "version_minor": 0
      },
      "text/plain": [
       "Validation:   0%|          | 0/23 [00:00<?, ?it/s]"
      ]
     },
     "metadata": {},
     "output_type": "display_data"
    },
    {
     "name": "stdout",
     "output_type": "stream",
     "text": [
      "\n",
      "Epoch 7/100:\n",
      "Training Loss: 0.0998\n",
      "Validation Loss: 0.0960\n",
      "Accuracy: 0.9770\n",
      "Hamming Loss: 0.0230\n",
      "\n"
     ]
    },
    {
     "data": {
      "application/vnd.jupyter.widget-view+json": {
       "model_id": "55c1f3c9283740f8b025e62fb7544b6f",
       "version_major": 2,
       "version_minor": 0
      },
      "text/plain": [
       "Epoch 8/100:   0%|          | 0/89 [00:00<?, ?it/s]"
      ]
     },
     "metadata": {},
     "output_type": "display_data"
    },
    {
     "data": {
      "application/vnd.jupyter.widget-view+json": {
       "model_id": "a931f2b2fc0f4ba1b08d3151ab143a0f",
       "version_major": 2,
       "version_minor": 0
      },
      "text/plain": [
       "Validation:   0%|          | 0/23 [00:00<?, ?it/s]"
      ]
     },
     "metadata": {},
     "output_type": "display_data"
    },
    {
     "name": "stdout",
     "output_type": "stream",
     "text": [
      "\n",
      "Epoch 8/100:\n",
      "Training Loss: 0.0977\n",
      "Validation Loss: 0.0936\n",
      "Accuracy: 0.9770\n",
      "Hamming Loss: 0.0230\n",
      "\n"
     ]
    },
    {
     "data": {
      "application/vnd.jupyter.widget-view+json": {
       "model_id": "117638f05a84484cb980cf1d24b37f58",
       "version_major": 2,
       "version_minor": 0
      },
      "text/plain": [
       "Epoch 9/100:   0%|          | 0/89 [00:00<?, ?it/s]"
      ]
     },
     "metadata": {},
     "output_type": "display_data"
    },
    {
     "data": {
      "application/vnd.jupyter.widget-view+json": {
       "model_id": "63d8556bc04c4d069aa2a6624792af1e",
       "version_major": 2,
       "version_minor": 0
      },
      "text/plain": [
       "Validation:   0%|          | 0/23 [00:00<?, ?it/s]"
      ]
     },
     "metadata": {},
     "output_type": "display_data"
    },
    {
     "name": "stdout",
     "output_type": "stream",
     "text": [
      "\n",
      "Epoch 9/100:\n",
      "Training Loss: 0.0940\n",
      "Validation Loss: 0.0887\n",
      "Accuracy: 0.9769\n",
      "Hamming Loss: 0.0231\n",
      "\n"
     ]
    },
    {
     "data": {
      "application/vnd.jupyter.widget-view+json": {
       "model_id": "af8a70131368422f8817e15adfb5c4b2",
       "version_major": 2,
       "version_minor": 0
      },
      "text/plain": [
       "Epoch 10/100:   0%|          | 0/89 [00:00<?, ?it/s]"
      ]
     },
     "metadata": {},
     "output_type": "display_data"
    },
    {
     "data": {
      "application/vnd.jupyter.widget-view+json": {
       "model_id": "40c00b50085341abb8fd7bbb9f5c54f2",
       "version_major": 2,
       "version_minor": 0
      },
      "text/plain": [
       "Validation:   0%|          | 0/23 [00:00<?, ?it/s]"
      ]
     },
     "metadata": {},
     "output_type": "display_data"
    },
    {
     "name": "stdout",
     "output_type": "stream",
     "text": [
      "\n",
      "Epoch 10/100:\n",
      "Training Loss: 0.0906\n",
      "Validation Loss: 0.0854\n",
      "Accuracy: 0.9769\n",
      "Hamming Loss: 0.0231\n",
      "\n"
     ]
    },
    {
     "data": {
      "application/vnd.jupyter.widget-view+json": {
       "model_id": "7716ea1e164f423ab0f5fbd5b077b968",
       "version_major": 2,
       "version_minor": 0
      },
      "text/plain": [
       "Epoch 11/100:   0%|          | 0/89 [00:00<?, ?it/s]"
      ]
     },
     "metadata": {},
     "output_type": "display_data"
    },
    {
     "data": {
      "application/vnd.jupyter.widget-view+json": {
       "model_id": "118fc416df1e422191ca2ea0c1ca6f09",
       "version_major": 2,
       "version_minor": 0
      },
      "text/plain": [
       "Validation:   0%|          | 0/23 [00:00<?, ?it/s]"
      ]
     },
     "metadata": {},
     "output_type": "display_data"
    },
    {
     "name": "stdout",
     "output_type": "stream",
     "text": [
      "\n",
      "Epoch 11/100:\n",
      "Training Loss: 0.0872\n",
      "Validation Loss: 0.0816\n",
      "Accuracy: 0.9777\n",
      "Hamming Loss: 0.0223\n",
      "\n"
     ]
    },
    {
     "data": {
      "application/vnd.jupyter.widget-view+json": {
       "model_id": "88d917c4fc6f40418d9d9fc2613a5d0a",
       "version_major": 2,
       "version_minor": 0
      },
      "text/plain": [
       "Epoch 12/100:   0%|          | 0/89 [00:00<?, ?it/s]"
      ]
     },
     "metadata": {},
     "output_type": "display_data"
    },
    {
     "data": {
      "application/vnd.jupyter.widget-view+json": {
       "model_id": "2c95f8fd65874beda2f98f8f6cfe26ce",
       "version_major": 2,
       "version_minor": 0
      },
      "text/plain": [
       "Validation:   0%|          | 0/23 [00:00<?, ?it/s]"
      ]
     },
     "metadata": {},
     "output_type": "display_data"
    },
    {
     "name": "stdout",
     "output_type": "stream",
     "text": [
      "\n",
      "Epoch 12/100:\n",
      "Training Loss: 0.0830\n",
      "Validation Loss: 0.0818\n",
      "Accuracy: 0.9774\n",
      "Hamming Loss: 0.0226\n",
      "\n"
     ]
    },
    {
     "data": {
      "application/vnd.jupyter.widget-view+json": {
       "model_id": "6f72287f1b9441d7a1eaf5cb8a7fac81",
       "version_major": 2,
       "version_minor": 0
      },
      "text/plain": [
       "Epoch 13/100:   0%|          | 0/89 [00:00<?, ?it/s]"
      ]
     },
     "metadata": {},
     "output_type": "display_data"
    },
    {
     "data": {
      "application/vnd.jupyter.widget-view+json": {
       "model_id": "3daf3649d1cb4ba286243583352f01fe",
       "version_major": 2,
       "version_minor": 0
      },
      "text/plain": [
       "Validation:   0%|          | 0/23 [00:00<?, ?it/s]"
      ]
     },
     "metadata": {},
     "output_type": "display_data"
    },
    {
     "name": "stdout",
     "output_type": "stream",
     "text": [
      "\n",
      "Epoch 13/100:\n",
      "Training Loss: 0.0799\n",
      "Validation Loss: 0.0784\n",
      "Accuracy: 0.9781\n",
      "Hamming Loss: 0.0219\n",
      "\n"
     ]
    },
    {
     "data": {
      "application/vnd.jupyter.widget-view+json": {
       "model_id": "95cce4314b7f4eeca798e6a0e3b0c0f1",
       "version_major": 2,
       "version_minor": 0
      },
      "text/plain": [
       "Epoch 14/100:   0%|          | 0/89 [00:00<?, ?it/s]"
      ]
     },
     "metadata": {},
     "output_type": "display_data"
    },
    {
     "data": {
      "application/vnd.jupyter.widget-view+json": {
       "model_id": "e8f9bca4729c4583b676d6adf9733aea",
       "version_major": 2,
       "version_minor": 0
      },
      "text/plain": [
       "Validation:   0%|          | 0/23 [00:00<?, ?it/s]"
      ]
     },
     "metadata": {},
     "output_type": "display_data"
    },
    {
     "name": "stdout",
     "output_type": "stream",
     "text": [
      "\n",
      "Epoch 14/100:\n",
      "Training Loss: 0.0769\n",
      "Validation Loss: 0.0786\n",
      "Accuracy: 0.9776\n",
      "Hamming Loss: 0.0224\n",
      "\n"
     ]
    },
    {
     "data": {
      "application/vnd.jupyter.widget-view+json": {
       "model_id": "f30cd5ab42c14c0eb940035c42b33402",
       "version_major": 2,
       "version_minor": 0
      },
      "text/plain": [
       "Epoch 15/100:   0%|          | 0/89 [00:00<?, ?it/s]"
      ]
     },
     "metadata": {},
     "output_type": "display_data"
    },
    {
     "data": {
      "application/vnd.jupyter.widget-view+json": {
       "model_id": "f961e897929346b298d732daec1ab416",
       "version_major": 2,
       "version_minor": 0
      },
      "text/plain": [
       "Validation:   0%|          | 0/23 [00:00<?, ?it/s]"
      ]
     },
     "metadata": {},
     "output_type": "display_data"
    },
    {
     "name": "stdout",
     "output_type": "stream",
     "text": [
      "\n",
      "Epoch 15/100:\n",
      "Training Loss: 0.0740\n",
      "Validation Loss: 0.0765\n",
      "Accuracy: 0.9778\n",
      "Hamming Loss: 0.0222\n",
      "\n"
     ]
    },
    {
     "data": {
      "application/vnd.jupyter.widget-view+json": {
       "model_id": "9e029ead3880462c8e6c33772f18093e",
       "version_major": 2,
       "version_minor": 0
      },
      "text/plain": [
       "Epoch 16/100:   0%|          | 0/89 [00:00<?, ?it/s]"
      ]
     },
     "metadata": {},
     "output_type": "display_data"
    },
    {
     "data": {
      "application/vnd.jupyter.widget-view+json": {
       "model_id": "e3b15b99e236432c90e76e166dd3e6ee",
       "version_major": 2,
       "version_minor": 0
      },
      "text/plain": [
       "Validation:   0%|          | 0/23 [00:00<?, ?it/s]"
      ]
     },
     "metadata": {},
     "output_type": "display_data"
    },
    {
     "name": "stdout",
     "output_type": "stream",
     "text": [
      "\n",
      "Epoch 16/100:\n",
      "Training Loss: 0.0708\n",
      "Validation Loss: 0.0751\n",
      "Accuracy: 0.9781\n",
      "Hamming Loss: 0.0219\n",
      "\n"
     ]
    },
    {
     "data": {
      "application/vnd.jupyter.widget-view+json": {
       "model_id": "83e80fffd31849bcb449e2712ac8a5e2",
       "version_major": 2,
       "version_minor": 0
      },
      "text/plain": [
       "Epoch 17/100:   0%|          | 0/89 [00:00<?, ?it/s]"
      ]
     },
     "metadata": {},
     "output_type": "display_data"
    },
    {
     "data": {
      "application/vnd.jupyter.widget-view+json": {
       "model_id": "ec1166546bd84594a3081cdeec303b41",
       "version_major": 2,
       "version_minor": 0
      },
      "text/plain": [
       "Validation:   0%|          | 0/23 [00:00<?, ?it/s]"
      ]
     },
     "metadata": {},
     "output_type": "display_data"
    },
    {
     "name": "stdout",
     "output_type": "stream",
     "text": [
      "\n",
      "Epoch 17/100:\n",
      "Training Loss: 0.0690\n",
      "Validation Loss: 0.0742\n",
      "Accuracy: 0.9781\n",
      "Hamming Loss: 0.0219\n",
      "\n"
     ]
    },
    {
     "data": {
      "application/vnd.jupyter.widget-view+json": {
       "model_id": "ee8391c1d2994aa693ea30542aca52a7",
       "version_major": 2,
       "version_minor": 0
      },
      "text/plain": [
       "Epoch 18/100:   0%|          | 0/89 [00:00<?, ?it/s]"
      ]
     },
     "metadata": {},
     "output_type": "display_data"
    },
    {
     "data": {
      "application/vnd.jupyter.widget-view+json": {
       "model_id": "7f7a0d57fd7242e0886fdfa2b8068854",
       "version_major": 2,
       "version_minor": 0
      },
      "text/plain": [
       "Validation:   0%|          | 0/23 [00:00<?, ?it/s]"
      ]
     },
     "metadata": {},
     "output_type": "display_data"
    },
    {
     "name": "stdout",
     "output_type": "stream",
     "text": [
      "\n",
      "Epoch 18/100:\n",
      "Training Loss: 0.0669\n",
      "Validation Loss: 0.0749\n",
      "Accuracy: 0.9781\n",
      "Hamming Loss: 0.0219\n",
      "\n"
     ]
    },
    {
     "data": {
      "application/vnd.jupyter.widget-view+json": {
       "model_id": "510c914946b9437590d30c6a2b55b217",
       "version_major": 2,
       "version_minor": 0
      },
      "text/plain": [
       "Epoch 19/100:   0%|          | 0/89 [00:00<?, ?it/s]"
      ]
     },
     "metadata": {},
     "output_type": "display_data"
    },
    {
     "data": {
      "application/vnd.jupyter.widget-view+json": {
       "model_id": "bacc3db571ed46cc9fef91f9663a2e71",
       "version_major": 2,
       "version_minor": 0
      },
      "text/plain": [
       "Validation:   0%|          | 0/23 [00:00<?, ?it/s]"
      ]
     },
     "metadata": {},
     "output_type": "display_data"
    },
    {
     "name": "stdout",
     "output_type": "stream",
     "text": [
      "\n",
      "Epoch 19/100:\n",
      "Training Loss: 0.0645\n",
      "Validation Loss: 0.0737\n",
      "Accuracy: 0.9781\n",
      "Hamming Loss: 0.0219\n",
      "\n"
     ]
    },
    {
     "data": {
      "application/vnd.jupyter.widget-view+json": {
       "model_id": "c0b0ad864c9a4039b90dee4727e7afea",
       "version_major": 2,
       "version_minor": 0
      },
      "text/plain": [
       "Epoch 20/100:   0%|          | 0/89 [00:00<?, ?it/s]"
      ]
     },
     "metadata": {},
     "output_type": "display_data"
    },
    {
     "data": {
      "application/vnd.jupyter.widget-view+json": {
       "model_id": "b9d9115037684d379c8963d928fca46b",
       "version_major": 2,
       "version_minor": 0
      },
      "text/plain": [
       "Validation:   0%|          | 0/23 [00:00<?, ?it/s]"
      ]
     },
     "metadata": {},
     "output_type": "display_data"
    },
    {
     "name": "stdout",
     "output_type": "stream",
     "text": [
      "\n",
      "Epoch 20/100:\n",
      "Training Loss: 0.0621\n",
      "Validation Loss: 0.0737\n",
      "Accuracy: 0.9782\n",
      "Hamming Loss: 0.0218\n",
      "\n"
     ]
    },
    {
     "data": {
      "application/vnd.jupyter.widget-view+json": {
       "model_id": "d5ac814fe7c440a995c6f6dd276ac5ed",
       "version_major": 2,
       "version_minor": 0
      },
      "text/plain": [
       "Epoch 21/100:   0%|          | 0/89 [00:00<?, ?it/s]"
      ]
     },
     "metadata": {},
     "output_type": "display_data"
    },
    {
     "data": {
      "application/vnd.jupyter.widget-view+json": {
       "model_id": "74a0406b7bec4f05ae1852c66d7ff457",
       "version_major": 2,
       "version_minor": 0
      },
      "text/plain": [
       "Validation:   0%|          | 0/23 [00:00<?, ?it/s]"
      ]
     },
     "metadata": {},
     "output_type": "display_data"
    },
    {
     "name": "stdout",
     "output_type": "stream",
     "text": [
      "\n",
      "Epoch 21/100:\n",
      "Training Loss: 0.0604\n",
      "Validation Loss: 0.0728\n",
      "Accuracy: 0.9784\n",
      "Hamming Loss: 0.0216\n",
      "\n"
     ]
    },
    {
     "data": {
      "application/vnd.jupyter.widget-view+json": {
       "model_id": "882c4cfe24f14bc2ad1844c4a4f6b970",
       "version_major": 2,
       "version_minor": 0
      },
      "text/plain": [
       "Epoch 22/100:   0%|          | 0/89 [00:00<?, ?it/s]"
      ]
     },
     "metadata": {},
     "output_type": "display_data"
    },
    {
     "data": {
      "application/vnd.jupyter.widget-view+json": {
       "model_id": "83477d34faa949a490774159d30b9a15",
       "version_major": 2,
       "version_minor": 0
      },
      "text/plain": [
       "Validation:   0%|          | 0/23 [00:00<?, ?it/s]"
      ]
     },
     "metadata": {},
     "output_type": "display_data"
    },
    {
     "name": "stdout",
     "output_type": "stream",
     "text": [
      "\n",
      "Epoch 22/100:\n",
      "Training Loss: 0.0582\n",
      "Validation Loss: 0.0737\n",
      "Accuracy: 0.9782\n",
      "Hamming Loss: 0.0218\n",
      "\n"
     ]
    },
    {
     "data": {
      "application/vnd.jupyter.widget-view+json": {
       "model_id": "3244a1c6a48b40b1a5de864f3c0c1598",
       "version_major": 2,
       "version_minor": 0
      },
      "text/plain": [
       "Epoch 23/100:   0%|          | 0/89 [00:00<?, ?it/s]"
      ]
     },
     "metadata": {},
     "output_type": "display_data"
    },
    {
     "data": {
      "application/vnd.jupyter.widget-view+json": {
       "model_id": "1d57ddfacc6a44d9b33f5b38b9f459f8",
       "version_major": 2,
       "version_minor": 0
      },
      "text/plain": [
       "Validation:   0%|          | 0/23 [00:00<?, ?it/s]"
      ]
     },
     "metadata": {},
     "output_type": "display_data"
    },
    {
     "name": "stdout",
     "output_type": "stream",
     "text": [
      "\n",
      "Epoch 23/100:\n",
      "Training Loss: 0.0566\n",
      "Validation Loss: 0.0781\n",
      "Accuracy: 0.9779\n",
      "Hamming Loss: 0.0221\n",
      "\n"
     ]
    },
    {
     "data": {
      "application/vnd.jupyter.widget-view+json": {
       "model_id": "b274b1c9264f4afc871579cbbbb45ee5",
       "version_major": 2,
       "version_minor": 0
      },
      "text/plain": [
       "Epoch 24/100:   0%|          | 0/89 [00:00<?, ?it/s]"
      ]
     },
     "metadata": {},
     "output_type": "display_data"
    },
    {
     "data": {
      "application/vnd.jupyter.widget-view+json": {
       "model_id": "04f48ab4eeda4325b9b906ba4afef2f4",
       "version_major": 2,
       "version_minor": 0
      },
      "text/plain": [
       "Validation:   0%|          | 0/23 [00:00<?, ?it/s]"
      ]
     },
     "metadata": {},
     "output_type": "display_data"
    },
    {
     "name": "stdout",
     "output_type": "stream",
     "text": [
      "\n",
      "Epoch 24/100:\n",
      "Training Loss: 0.0542\n",
      "Validation Loss: 0.0756\n",
      "Accuracy: 0.9780\n",
      "Hamming Loss: 0.0220\n",
      "\n"
     ]
    },
    {
     "data": {
      "application/vnd.jupyter.widget-view+json": {
       "model_id": "15c59e34e67a4024b83a5ef1927ac6b8",
       "version_major": 2,
       "version_minor": 0
      },
      "text/plain": [
       "Epoch 25/100:   0%|          | 0/89 [00:00<?, ?it/s]"
      ]
     },
     "metadata": {},
     "output_type": "display_data"
    },
    {
     "data": {
      "application/vnd.jupyter.widget-view+json": {
       "model_id": "5443a5deb75548ec91b60b3eab6b8ac9",
       "version_major": 2,
       "version_minor": 0
      },
      "text/plain": [
       "Validation:   0%|          | 0/23 [00:00<?, ?it/s]"
      ]
     },
     "metadata": {},
     "output_type": "display_data"
    },
    {
     "name": "stdout",
     "output_type": "stream",
     "text": [
      "\n",
      "Epoch 25/100:\n",
      "Training Loss: 0.0527\n",
      "Validation Loss: 0.0756\n",
      "Accuracy: 0.9787\n",
      "Hamming Loss: 0.0213\n",
      "\n"
     ]
    },
    {
     "data": {
      "application/vnd.jupyter.widget-view+json": {
       "model_id": "31726c93a1814587b982d5d66865fcfd",
       "version_major": 2,
       "version_minor": 0
      },
      "text/plain": [
       "Epoch 26/100:   0%|          | 0/89 [00:00<?, ?it/s]"
      ]
     },
     "metadata": {},
     "output_type": "display_data"
    },
    {
     "data": {
      "application/vnd.jupyter.widget-view+json": {
       "model_id": "160ea359c6584d0d9e13c0f8bf6d4b13",
       "version_major": 2,
       "version_minor": 0
      },
      "text/plain": [
       "Validation:   0%|          | 0/23 [00:00<?, ?it/s]"
      ]
     },
     "metadata": {},
     "output_type": "display_data"
    },
    {
     "name": "stdout",
     "output_type": "stream",
     "text": [
      "\n",
      "Epoch 26/100:\n",
      "Training Loss: 0.0510\n",
      "Validation Loss: 0.0770\n",
      "Accuracy: 0.9783\n",
      "Hamming Loss: 0.0217\n",
      "\n"
     ]
    },
    {
     "data": {
      "application/vnd.jupyter.widget-view+json": {
       "model_id": "860231ed6adc438b8635adaac9204562",
       "version_major": 2,
       "version_minor": 0
      },
      "text/plain": [
       "Epoch 27/100:   0%|          | 0/89 [00:00<?, ?it/s]"
      ]
     },
     "metadata": {},
     "output_type": "display_data"
    },
    {
     "data": {
      "application/vnd.jupyter.widget-view+json": {
       "model_id": "bd1e7e8f4f2a4d618716b80b91a56964",
       "version_major": 2,
       "version_minor": 0
      },
      "text/plain": [
       "Validation:   0%|          | 0/23 [00:00<?, ?it/s]"
      ]
     },
     "metadata": {},
     "output_type": "display_data"
    },
    {
     "name": "stdout",
     "output_type": "stream",
     "text": [
      "\n",
      "Epoch 27/100:\n",
      "Training Loss: 0.0486\n",
      "Validation Loss: 0.0733\n",
      "Accuracy: 0.9789\n",
      "Hamming Loss: 0.0211\n",
      "\n"
     ]
    },
    {
     "data": {
      "application/vnd.jupyter.widget-view+json": {
       "model_id": "9e5708907b374885971b89bad92c2604",
       "version_major": 2,
       "version_minor": 0
      },
      "text/plain": [
       "Epoch 28/100:   0%|          | 0/89 [00:00<?, ?it/s]"
      ]
     },
     "metadata": {},
     "output_type": "display_data"
    },
    {
     "data": {
      "application/vnd.jupyter.widget-view+json": {
       "model_id": "59508e01c2984c63aefa1e361a2997a2",
       "version_major": 2,
       "version_minor": 0
      },
      "text/plain": [
       "Validation:   0%|          | 0/23 [00:00<?, ?it/s]"
      ]
     },
     "metadata": {},
     "output_type": "display_data"
    },
    {
     "name": "stdout",
     "output_type": "stream",
     "text": [
      "\n",
      "Epoch 28/100:\n",
      "Training Loss: 0.0470\n",
      "Validation Loss: 0.0778\n",
      "Accuracy: 0.9785\n",
      "Hamming Loss: 0.0215\n",
      "\n"
     ]
    },
    {
     "data": {
      "application/vnd.jupyter.widget-view+json": {
       "model_id": "96022c5ff2c84d97b16858d5124fe5e7",
       "version_major": 2,
       "version_minor": 0
      },
      "text/plain": [
       "Epoch 29/100:   0%|          | 0/89 [00:00<?, ?it/s]"
      ]
     },
     "metadata": {},
     "output_type": "display_data"
    },
    {
     "data": {
      "application/vnd.jupyter.widget-view+json": {
       "model_id": "3b6b5e2c504f45d3b27d261701572b75",
       "version_major": 2,
       "version_minor": 0
      },
      "text/plain": [
       "Validation:   0%|          | 0/23 [00:00<?, ?it/s]"
      ]
     },
     "metadata": {},
     "output_type": "display_data"
    },
    {
     "name": "stdout",
     "output_type": "stream",
     "text": [
      "\n",
      "Epoch 29/100:\n",
      "Training Loss: 0.0450\n",
      "Validation Loss: 0.0749\n",
      "Accuracy: 0.9787\n",
      "Hamming Loss: 0.0213\n",
      "\n"
     ]
    },
    {
     "data": {
      "application/vnd.jupyter.widget-view+json": {
       "model_id": "4d14135c705647b9b56054d2138b0699",
       "version_major": 2,
       "version_minor": 0
      },
      "text/plain": [
       "Epoch 30/100:   0%|          | 0/89 [00:00<?, ?it/s]"
      ]
     },
     "metadata": {},
     "output_type": "display_data"
    },
    {
     "data": {
      "application/vnd.jupyter.widget-view+json": {
       "model_id": "b4a99bcd6a4b4ac598a7321e9a0b3d0f",
       "version_major": 2,
       "version_minor": 0
      },
      "text/plain": [
       "Validation:   0%|          | 0/23 [00:00<?, ?it/s]"
      ]
     },
     "metadata": {},
     "output_type": "display_data"
    },
    {
     "name": "stdout",
     "output_type": "stream",
     "text": [
      "\n",
      "Epoch 30/100:\n",
      "Training Loss: 0.0434\n",
      "Validation Loss: 0.0752\n",
      "Accuracy: 0.9784\n",
      "Hamming Loss: 0.0216\n",
      "\n"
     ]
    },
    {
     "data": {
      "application/vnd.jupyter.widget-view+json": {
       "model_id": "dc084d9761e9484bb249ee781c9ea3a0",
       "version_major": 2,
       "version_minor": 0
      },
      "text/plain": [
       "Epoch 31/100:   0%|          | 0/89 [00:00<?, ?it/s]"
      ]
     },
     "metadata": {},
     "output_type": "display_data"
    },
    {
     "data": {
      "application/vnd.jupyter.widget-view+json": {
       "model_id": "d6f46a34c4c449e799a1ebc9edf43179",
       "version_major": 2,
       "version_minor": 0
      },
      "text/plain": [
       "Validation:   0%|          | 0/23 [00:00<?, ?it/s]"
      ]
     },
     "metadata": {},
     "output_type": "display_data"
    },
    {
     "name": "stdout",
     "output_type": "stream",
     "text": [
      "\n",
      "Epoch 31/100:\n",
      "Training Loss: 0.0413\n",
      "Validation Loss: 0.0803\n",
      "Accuracy: 0.9781\n",
      "Hamming Loss: 0.0219\n",
      "\n"
     ]
    },
    {
     "data": {
      "application/vnd.jupyter.widget-view+json": {
       "model_id": "ca4893e13c7346518f7ab9a41b88712d",
       "version_major": 2,
       "version_minor": 0
      },
      "text/plain": [
       "Epoch 32/100:   0%|          | 0/89 [00:00<?, ?it/s]"
      ]
     },
     "metadata": {},
     "output_type": "display_data"
    },
    {
     "data": {
      "application/vnd.jupyter.widget-view+json": {
       "model_id": "931d8698211c4d93a15d71078adb95b6",
       "version_major": 2,
       "version_minor": 0
      },
      "text/plain": [
       "Validation:   0%|          | 0/23 [00:00<?, ?it/s]"
      ]
     },
     "metadata": {},
     "output_type": "display_data"
    },
    {
     "name": "stdout",
     "output_type": "stream",
     "text": [
      "\n",
      "Epoch 32/100:\n",
      "Training Loss: 0.0398\n",
      "Validation Loss: 0.0796\n",
      "Accuracy: 0.9786\n",
      "Hamming Loss: 0.0214\n",
      "\n"
     ]
    },
    {
     "data": {
      "application/vnd.jupyter.widget-view+json": {
       "model_id": "14b7bdfabd0d49299458c96235961238",
       "version_major": 2,
       "version_minor": 0
      },
      "text/plain": [
       "Epoch 33/100:   0%|          | 0/89 [00:00<?, ?it/s]"
      ]
     },
     "metadata": {},
     "output_type": "display_data"
    },
    {
     "data": {
      "application/vnd.jupyter.widget-view+json": {
       "model_id": "2b636f457b6842489cba7fd4f727dfdf",
       "version_major": 2,
       "version_minor": 0
      },
      "text/plain": [
       "Validation:   0%|          | 0/23 [00:00<?, ?it/s]"
      ]
     },
     "metadata": {},
     "output_type": "display_data"
    },
    {
     "name": "stdout",
     "output_type": "stream",
     "text": [
      "\n",
      "Epoch 33/100:\n",
      "Training Loss: 0.0383\n",
      "Validation Loss: 0.0775\n",
      "Accuracy: 0.9781\n",
      "Hamming Loss: 0.0219\n",
      "\n"
     ]
    },
    {
     "data": {
      "application/vnd.jupyter.widget-view+json": {
       "model_id": "c6e62e45b73444f79999494966738f79",
       "version_major": 2,
       "version_minor": 0
      },
      "text/plain": [
       "Epoch 34/100:   0%|          | 0/89 [00:00<?, ?it/s]"
      ]
     },
     "metadata": {},
     "output_type": "display_data"
    },
    {
     "data": {
      "application/vnd.jupyter.widget-view+json": {
       "model_id": "e61c49c1a1c94dd0b6cdd6f65d80d8ae",
       "version_major": 2,
       "version_minor": 0
      },
      "text/plain": [
       "Validation:   0%|          | 0/23 [00:00<?, ?it/s]"
      ]
     },
     "metadata": {},
     "output_type": "display_data"
    },
    {
     "name": "stdout",
     "output_type": "stream",
     "text": [
      "\n",
      "Epoch 34/100:\n",
      "Training Loss: 0.0365\n",
      "Validation Loss: 0.0787\n",
      "Accuracy: 0.9780\n",
      "Hamming Loss: 0.0220\n",
      "\n"
     ]
    },
    {
     "data": {
      "application/vnd.jupyter.widget-view+json": {
       "model_id": "03b769ecf3374e04b12ae03a830025a1",
       "version_major": 2,
       "version_minor": 0
      },
      "text/plain": [
       "Epoch 35/100:   0%|          | 0/89 [00:00<?, ?it/s]"
      ]
     },
     "metadata": {},
     "output_type": "display_data"
    },
    {
     "data": {
      "application/vnd.jupyter.widget-view+json": {
       "model_id": "9cd4853ab69547c3858a3814c745b122",
       "version_major": 2,
       "version_minor": 0
      },
      "text/plain": [
       "Validation:   0%|          | 0/23 [00:00<?, ?it/s]"
      ]
     },
     "metadata": {},
     "output_type": "display_data"
    },
    {
     "name": "stdout",
     "output_type": "stream",
     "text": [
      "\n",
      "Epoch 35/100:\n",
      "Training Loss: 0.0350\n",
      "Validation Loss: 0.0802\n",
      "Accuracy: 0.9783\n",
      "Hamming Loss: 0.0217\n",
      "\n"
     ]
    },
    {
     "data": {
      "application/vnd.jupyter.widget-view+json": {
       "model_id": "4a84e0c0bc654da38305056e58dd833d",
       "version_major": 2,
       "version_minor": 0
      },
      "text/plain": [
       "Epoch 36/100:   0%|          | 0/89 [00:00<?, ?it/s]"
      ]
     },
     "metadata": {},
     "output_type": "display_data"
    },
    {
     "data": {
      "application/vnd.jupyter.widget-view+json": {
       "model_id": "5771ca62e9fd4db38808625892c48d71",
       "version_major": 2,
       "version_minor": 0
      },
      "text/plain": [
       "Validation:   0%|          | 0/23 [00:00<?, ?it/s]"
      ]
     },
     "metadata": {},
     "output_type": "display_data"
    },
    {
     "name": "stdout",
     "output_type": "stream",
     "text": [
      "\n",
      "Epoch 36/100:\n",
      "Training Loss: 0.0333\n",
      "Validation Loss: 0.0825\n",
      "Accuracy: 0.9781\n",
      "Hamming Loss: 0.0219\n",
      "\n"
     ]
    },
    {
     "data": {
      "application/vnd.jupyter.widget-view+json": {
       "model_id": "c38c523ff3c44cfba5b50b3da49461f3",
       "version_major": 2,
       "version_minor": 0
      },
      "text/plain": [
       "Epoch 37/100:   0%|          | 0/89 [00:00<?, ?it/s]"
      ]
     },
     "metadata": {},
     "output_type": "display_data"
    },
    {
     "data": {
      "application/vnd.jupyter.widget-view+json": {
       "model_id": "d5b6ee7db2b44f3495ae5becbdcf6f92",
       "version_major": 2,
       "version_minor": 0
      },
      "text/plain": [
       "Validation:   0%|          | 0/23 [00:00<?, ?it/s]"
      ]
     },
     "metadata": {},
     "output_type": "display_data"
    },
    {
     "name": "stdout",
     "output_type": "stream",
     "text": [
      "\n",
      "Epoch 37/100:\n",
      "Training Loss: 0.0319\n",
      "Validation Loss: 0.0788\n",
      "Accuracy: 0.9778\n",
      "Hamming Loss: 0.0222\n",
      "\n"
     ]
    },
    {
     "data": {
      "application/vnd.jupyter.widget-view+json": {
       "model_id": "55b707a49942470391b50966f8bb1d7b",
       "version_major": 2,
       "version_minor": 0
      },
      "text/plain": [
       "Epoch 38/100:   0%|          | 0/89 [00:00<?, ?it/s]"
      ]
     },
     "metadata": {},
     "output_type": "display_data"
    },
    {
     "data": {
      "application/vnd.jupyter.widget-view+json": {
       "model_id": "71513126ba8245dda723cb8ee364f472",
       "version_major": 2,
       "version_minor": 0
      },
      "text/plain": [
       "Validation:   0%|          | 0/23 [00:00<?, ?it/s]"
      ]
     },
     "metadata": {},
     "output_type": "display_data"
    },
    {
     "name": "stdout",
     "output_type": "stream",
     "text": [
      "\n",
      "Epoch 38/100:\n",
      "Training Loss: 0.0306\n",
      "Validation Loss: 0.0837\n",
      "Accuracy: 0.9782\n",
      "Hamming Loss: 0.0218\n",
      "\n"
     ]
    },
    {
     "data": {
      "application/vnd.jupyter.widget-view+json": {
       "model_id": "ce716309a2244cbf9eb77844e2c467ec",
       "version_major": 2,
       "version_minor": 0
      },
      "text/plain": [
       "Epoch 39/100:   0%|          | 0/89 [00:00<?, ?it/s]"
      ]
     },
     "metadata": {},
     "output_type": "display_data"
    },
    {
     "data": {
      "application/vnd.jupyter.widget-view+json": {
       "model_id": "40fc2c30757b4522b5fffbc607999890",
       "version_major": 2,
       "version_minor": 0
      },
      "text/plain": [
       "Validation:   0%|          | 0/23 [00:00<?, ?it/s]"
      ]
     },
     "metadata": {},
     "output_type": "display_data"
    },
    {
     "name": "stdout",
     "output_type": "stream",
     "text": [
      "\n",
      "Epoch 39/100:\n",
      "Training Loss: 0.0293\n",
      "Validation Loss: 0.0822\n",
      "Accuracy: 0.9777\n",
      "Hamming Loss: 0.0223\n",
      "\n"
     ]
    },
    {
     "data": {
      "application/vnd.jupyter.widget-view+json": {
       "model_id": "1369ae07f94e4ef08bb44fe2e96f489e",
       "version_major": 2,
       "version_minor": 0
      },
      "text/plain": [
       "Epoch 40/100:   0%|          | 0/89 [00:00<?, ?it/s]"
      ]
     },
     "metadata": {},
     "output_type": "display_data"
    },
    {
     "data": {
      "application/vnd.jupyter.widget-view+json": {
       "model_id": "08e0f53b6cc54596ac3586550de891d5",
       "version_major": 2,
       "version_minor": 0
      },
      "text/plain": [
       "Validation:   0%|          | 0/23 [00:00<?, ?it/s]"
      ]
     },
     "metadata": {},
     "output_type": "display_data"
    },
    {
     "name": "stdout",
     "output_type": "stream",
     "text": [
      "\n",
      "Epoch 40/100:\n",
      "Training Loss: 0.0276\n",
      "Validation Loss: 0.0828\n",
      "Accuracy: 0.9786\n",
      "Hamming Loss: 0.0214\n",
      "\n"
     ]
    },
    {
     "data": {
      "application/vnd.jupyter.widget-view+json": {
       "model_id": "f6149bf3ec964ee1b0fe30bae46221af",
       "version_major": 2,
       "version_minor": 0
      },
      "text/plain": [
       "Epoch 41/100:   0%|          | 0/89 [00:00<?, ?it/s]"
      ]
     },
     "metadata": {},
     "output_type": "display_data"
    },
    {
     "data": {
      "application/vnd.jupyter.widget-view+json": {
       "model_id": "2032ff770ccf497285fa6e2bfa49c94e",
       "version_major": 2,
       "version_minor": 0
      },
      "text/plain": [
       "Validation:   0%|          | 0/23 [00:00<?, ?it/s]"
      ]
     },
     "metadata": {},
     "output_type": "display_data"
    },
    {
     "name": "stdout",
     "output_type": "stream",
     "text": [
      "\n",
      "Epoch 41/100:\n",
      "Training Loss: 0.0268\n",
      "Validation Loss: 0.0889\n",
      "Accuracy: 0.9779\n",
      "Hamming Loss: 0.0221\n",
      "\n"
     ]
    },
    {
     "data": {
      "application/vnd.jupyter.widget-view+json": {
       "model_id": "f18ecb18412d44469a17d12ecdb874c3",
       "version_major": 2,
       "version_minor": 0
      },
      "text/plain": [
       "Epoch 42/100:   0%|          | 0/89 [00:00<?, ?it/s]"
      ]
     },
     "metadata": {},
     "output_type": "display_data"
    },
    {
     "data": {
      "application/vnd.jupyter.widget-view+json": {
       "model_id": "8cc4ff351dc14ecca42a3786fe8f807b",
       "version_major": 2,
       "version_minor": 0
      },
      "text/plain": [
       "Validation:   0%|          | 0/23 [00:00<?, ?it/s]"
      ]
     },
     "metadata": {},
     "output_type": "display_data"
    },
    {
     "name": "stdout",
     "output_type": "stream",
     "text": [
      "\n",
      "Epoch 42/100:\n",
      "Training Loss: 0.0257\n",
      "Validation Loss: 0.0867\n",
      "Accuracy: 0.9781\n",
      "Hamming Loss: 0.0219\n",
      "\n"
     ]
    },
    {
     "data": {
      "application/vnd.jupyter.widget-view+json": {
       "model_id": "9085a6e60d2e42618736ff476fa799ef",
       "version_major": 2,
       "version_minor": 0
      },
      "text/plain": [
       "Epoch 43/100:   0%|          | 0/89 [00:00<?, ?it/s]"
      ]
     },
     "metadata": {},
     "output_type": "display_data"
    },
    {
     "data": {
      "application/vnd.jupyter.widget-view+json": {
       "model_id": "50fecf10c53c4c23ab0ba562ce8aa29c",
       "version_major": 2,
       "version_minor": 0
      },
      "text/plain": [
       "Validation:   0%|          | 0/23 [00:00<?, ?it/s]"
      ]
     },
     "metadata": {},
     "output_type": "display_data"
    },
    {
     "name": "stdout",
     "output_type": "stream",
     "text": [
      "\n",
      "Epoch 43/100:\n",
      "Training Loss: 0.0243\n",
      "Validation Loss: 0.0855\n",
      "Accuracy: 0.9783\n",
      "Hamming Loss: 0.0217\n",
      "\n"
     ]
    },
    {
     "data": {
      "application/vnd.jupyter.widget-view+json": {
       "model_id": "cab0975d4e8f460aada7d593e632c30a",
       "version_major": 2,
       "version_minor": 0
      },
      "text/plain": [
       "Epoch 44/100:   0%|          | 0/89 [00:00<?, ?it/s]"
      ]
     },
     "metadata": {},
     "output_type": "display_data"
    },
    {
     "data": {
      "application/vnd.jupyter.widget-view+json": {
       "model_id": "82a12b000933471590c985c4d5d42fbe",
       "version_major": 2,
       "version_minor": 0
      },
      "text/plain": [
       "Validation:   0%|          | 0/23 [00:00<?, ?it/s]"
      ]
     },
     "metadata": {},
     "output_type": "display_data"
    },
    {
     "name": "stdout",
     "output_type": "stream",
     "text": [
      "\n",
      "Epoch 44/100:\n",
      "Training Loss: 0.0232\n",
      "Validation Loss: 0.0893\n",
      "Accuracy: 0.9778\n",
      "Hamming Loss: 0.0222\n",
      "\n"
     ]
    },
    {
     "data": {
      "application/vnd.jupyter.widget-view+json": {
       "model_id": "552eb41009874d61aad5ccc0699382a5",
       "version_major": 2,
       "version_minor": 0
      },
      "text/plain": [
       "Epoch 45/100:   0%|          | 0/89 [00:00<?, ?it/s]"
      ]
     },
     "metadata": {},
     "output_type": "display_data"
    },
    {
     "data": {
      "application/vnd.jupyter.widget-view+json": {
       "model_id": "39681384fd2044d69e0f85ec7e485bc5",
       "version_major": 2,
       "version_minor": 0
      },
      "text/plain": [
       "Validation:   0%|          | 0/23 [00:00<?, ?it/s]"
      ]
     },
     "metadata": {},
     "output_type": "display_data"
    },
    {
     "name": "stdout",
     "output_type": "stream",
     "text": [
      "\n",
      "Epoch 45/100:\n",
      "Training Loss: 0.0223\n",
      "Validation Loss: 0.0853\n",
      "Accuracy: 0.9778\n",
      "Hamming Loss: 0.0222\n",
      "\n"
     ]
    },
    {
     "data": {
      "application/vnd.jupyter.widget-view+json": {
       "model_id": "0e888b0f07f64fd78348882e03bb3748",
       "version_major": 2,
       "version_minor": 0
      },
      "text/plain": [
       "Epoch 46/100:   0%|          | 0/89 [00:00<?, ?it/s]"
      ]
     },
     "metadata": {},
     "output_type": "display_data"
    },
    {
     "data": {
      "application/vnd.jupyter.widget-view+json": {
       "model_id": "a8961667fdb248ccae4d08802b4d2dd1",
       "version_major": 2,
       "version_minor": 0
      },
      "text/plain": [
       "Validation:   0%|          | 0/23 [00:00<?, ?it/s]"
      ]
     },
     "metadata": {},
     "output_type": "display_data"
    },
    {
     "name": "stdout",
     "output_type": "stream",
     "text": [
      "\n",
      "Epoch 46/100:\n",
      "Training Loss: 0.0212\n",
      "Validation Loss: 0.0905\n",
      "Accuracy: 0.9783\n",
      "Hamming Loss: 0.0217\n",
      "\n"
     ]
    },
    {
     "data": {
      "application/vnd.jupyter.widget-view+json": {
       "model_id": "2a599a0bc6074ebf9ccbab8e0b5e3c1e",
       "version_major": 2,
       "version_minor": 0
      },
      "text/plain": [
       "Epoch 47/100:   0%|          | 0/89 [00:00<?, ?it/s]"
      ]
     },
     "metadata": {},
     "output_type": "display_data"
    },
    {
     "data": {
      "application/vnd.jupyter.widget-view+json": {
       "model_id": "8fce470c763a41d983de337912212366",
       "version_major": 2,
       "version_minor": 0
      },
      "text/plain": [
       "Validation:   0%|          | 0/23 [00:00<?, ?it/s]"
      ]
     },
     "metadata": {},
     "output_type": "display_data"
    },
    {
     "name": "stdout",
     "output_type": "stream",
     "text": [
      "\n",
      "Epoch 47/100:\n",
      "Training Loss: 0.0202\n",
      "Validation Loss: 0.0914\n",
      "Accuracy: 0.9779\n",
      "Hamming Loss: 0.0221\n",
      "\n"
     ]
    },
    {
     "data": {
      "application/vnd.jupyter.widget-view+json": {
       "model_id": "1d7dca9f0ddd40b5a602e0950aaf967f",
       "version_major": 2,
       "version_minor": 0
      },
      "text/plain": [
       "Epoch 48/100:   0%|          | 0/89 [00:00<?, ?it/s]"
      ]
     },
     "metadata": {},
     "output_type": "display_data"
    },
    {
     "data": {
      "application/vnd.jupyter.widget-view+json": {
       "model_id": "4d606bd09b084285b0f7e8e03b0f2e9a",
       "version_major": 2,
       "version_minor": 0
      },
      "text/plain": [
       "Validation:   0%|          | 0/23 [00:00<?, ?it/s]"
      ]
     },
     "metadata": {},
     "output_type": "display_data"
    },
    {
     "name": "stdout",
     "output_type": "stream",
     "text": [
      "\n",
      "Epoch 48/100:\n",
      "Training Loss: 0.0197\n",
      "Validation Loss: 0.0938\n",
      "Accuracy: 0.9779\n",
      "Hamming Loss: 0.0221\n",
      "\n"
     ]
    },
    {
     "data": {
      "application/vnd.jupyter.widget-view+json": {
       "model_id": "7d83f1a23ea3429abc4ef01515d648e3",
       "version_major": 2,
       "version_minor": 0
      },
      "text/plain": [
       "Epoch 49/100:   0%|          | 0/89 [00:00<?, ?it/s]"
      ]
     },
     "metadata": {},
     "output_type": "display_data"
    },
    {
     "data": {
      "application/vnd.jupyter.widget-view+json": {
       "model_id": "09fe4864aac14745a60624b139847942",
       "version_major": 2,
       "version_minor": 0
      },
      "text/plain": [
       "Validation:   0%|          | 0/23 [00:00<?, ?it/s]"
      ]
     },
     "metadata": {},
     "output_type": "display_data"
    },
    {
     "name": "stdout",
     "output_type": "stream",
     "text": [
      "\n",
      "Epoch 49/100:\n",
      "Training Loss: 0.0184\n",
      "Validation Loss: 0.0917\n",
      "Accuracy: 0.9775\n",
      "Hamming Loss: 0.0225\n",
      "\n"
     ]
    },
    {
     "data": {
      "application/vnd.jupyter.widget-view+json": {
       "model_id": "273e5d6e7d874d46896185b33772444b",
       "version_major": 2,
       "version_minor": 0
      },
      "text/plain": [
       "Epoch 50/100:   0%|          | 0/89 [00:00<?, ?it/s]"
      ]
     },
     "metadata": {},
     "output_type": "display_data"
    },
    {
     "data": {
      "application/vnd.jupyter.widget-view+json": {
       "model_id": "fc342830dcdc4e4994e19745d591e4bb",
       "version_major": 2,
       "version_minor": 0
      },
      "text/plain": [
       "Validation:   0%|          | 0/23 [00:00<?, ?it/s]"
      ]
     },
     "metadata": {},
     "output_type": "display_data"
    },
    {
     "name": "stdout",
     "output_type": "stream",
     "text": [
      "\n",
      "Epoch 50/100:\n",
      "Training Loss: 0.0175\n",
      "Validation Loss: 0.0935\n",
      "Accuracy: 0.9781\n",
      "Hamming Loss: 0.0219\n",
      "\n"
     ]
    },
    {
     "data": {
      "application/vnd.jupyter.widget-view+json": {
       "model_id": "f0aca795e7bf4b6cb4d4bdb07339adf4",
       "version_major": 2,
       "version_minor": 0
      },
      "text/plain": [
       "Epoch 51/100:   0%|          | 0/89 [00:00<?, ?it/s]"
      ]
     },
     "metadata": {},
     "output_type": "display_data"
    },
    {
     "data": {
      "application/vnd.jupyter.widget-view+json": {
       "model_id": "4c02c270232941d7a22f388059aa2757",
       "version_major": 2,
       "version_minor": 0
      },
      "text/plain": [
       "Validation:   0%|          | 0/23 [00:00<?, ?it/s]"
      ]
     },
     "metadata": {},
     "output_type": "display_data"
    },
    {
     "name": "stdout",
     "output_type": "stream",
     "text": [
      "\n",
      "Epoch 51/100:\n",
      "Training Loss: 0.0167\n",
      "Validation Loss: 0.0948\n",
      "Accuracy: 0.9778\n",
      "Hamming Loss: 0.0222\n",
      "\n"
     ]
    },
    {
     "data": {
      "application/vnd.jupyter.widget-view+json": {
       "model_id": "7001c4c38b294fc389ea91d141db47eb",
       "version_major": 2,
       "version_minor": 0
      },
      "text/plain": [
       "Epoch 52/100:   0%|          | 0/89 [00:00<?, ?it/s]"
      ]
     },
     "metadata": {},
     "output_type": "display_data"
    },
    {
     "data": {
      "application/vnd.jupyter.widget-view+json": {
       "model_id": "54a4747deadd4f09a2d0e4ec316243ab",
       "version_major": 2,
       "version_minor": 0
      },
      "text/plain": [
       "Validation:   0%|          | 0/23 [00:00<?, ?it/s]"
      ]
     },
     "metadata": {},
     "output_type": "display_data"
    },
    {
     "name": "stdout",
     "output_type": "stream",
     "text": [
      "\n",
      "Epoch 52/100:\n",
      "Training Loss: 0.0159\n",
      "Validation Loss: 0.0956\n",
      "Accuracy: 0.9777\n",
      "Hamming Loss: 0.0223\n",
      "\n"
     ]
    },
    {
     "data": {
      "application/vnd.jupyter.widget-view+json": {
       "model_id": "469f77d4d2fa4d1dbe7d21138b4b8ee7",
       "version_major": 2,
       "version_minor": 0
      },
      "text/plain": [
       "Epoch 53/100:   0%|          | 0/89 [00:00<?, ?it/s]"
      ]
     },
     "metadata": {},
     "output_type": "display_data"
    },
    {
     "data": {
      "application/vnd.jupyter.widget-view+json": {
       "model_id": "93f3d9f9a02b4c9796b16bdf672d0bb1",
       "version_major": 2,
       "version_minor": 0
      },
      "text/plain": [
       "Validation:   0%|          | 0/23 [00:00<?, ?it/s]"
      ]
     },
     "metadata": {},
     "output_type": "display_data"
    },
    {
     "name": "stdout",
     "output_type": "stream",
     "text": [
      "\n",
      "Epoch 53/100:\n",
      "Training Loss: 0.0151\n",
      "Validation Loss: 0.0962\n",
      "Accuracy: 0.9776\n",
      "Hamming Loss: 0.0224\n",
      "\n"
     ]
    },
    {
     "data": {
      "application/vnd.jupyter.widget-view+json": {
       "model_id": "7b64056a16b94f6f876e942e542beb77",
       "version_major": 2,
       "version_minor": 0
      },
      "text/plain": [
       "Epoch 54/100:   0%|          | 0/89 [00:00<?, ?it/s]"
      ]
     },
     "metadata": {},
     "output_type": "display_data"
    },
    {
     "data": {
      "application/vnd.jupyter.widget-view+json": {
       "model_id": "bc1bb6a3abca4faea5121397c8fd084e",
       "version_major": 2,
       "version_minor": 0
      },
      "text/plain": [
       "Validation:   0%|          | 0/23 [00:00<?, ?it/s]"
      ]
     },
     "metadata": {},
     "output_type": "display_data"
    },
    {
     "name": "stdout",
     "output_type": "stream",
     "text": [
      "\n",
      "Epoch 54/100:\n",
      "Training Loss: 0.0146\n",
      "Validation Loss: 0.0937\n",
      "Accuracy: 0.9773\n",
      "Hamming Loss: 0.0227\n",
      "\n"
     ]
    },
    {
     "data": {
      "application/vnd.jupyter.widget-view+json": {
       "model_id": "78e9215439ed4ae3a3f441d36cb491d4",
       "version_major": 2,
       "version_minor": 0
      },
      "text/plain": [
       "Epoch 55/100:   0%|          | 0/89 [00:00<?, ?it/s]"
      ]
     },
     "metadata": {},
     "output_type": "display_data"
    },
    {
     "data": {
      "application/vnd.jupyter.widget-view+json": {
       "model_id": "0fa5ef93ea6e420fa0d7835b076306a2",
       "version_major": 2,
       "version_minor": 0
      },
      "text/plain": [
       "Validation:   0%|          | 0/23 [00:00<?, ?it/s]"
      ]
     },
     "metadata": {},
     "output_type": "display_data"
    },
    {
     "name": "stdout",
     "output_type": "stream",
     "text": [
      "\n",
      "Epoch 55/100:\n",
      "Training Loss: 0.0137\n",
      "Validation Loss: 0.1009\n",
      "Accuracy: 0.9775\n",
      "Hamming Loss: 0.0225\n",
      "\n"
     ]
    },
    {
     "data": {
      "application/vnd.jupyter.widget-view+json": {
       "model_id": "5adbdb628f4342d89387833d8d3e12b4",
       "version_major": 2,
       "version_minor": 0
      },
      "text/plain": [
       "Epoch 56/100:   0%|          | 0/89 [00:00<?, ?it/s]"
      ]
     },
     "metadata": {},
     "output_type": "display_data"
    },
    {
     "data": {
      "application/vnd.jupyter.widget-view+json": {
       "model_id": "2e7ac34cc38541eda64f4c3222cf13af",
       "version_major": 2,
       "version_minor": 0
      },
      "text/plain": [
       "Validation:   0%|          | 0/23 [00:00<?, ?it/s]"
      ]
     },
     "metadata": {},
     "output_type": "display_data"
    },
    {
     "name": "stdout",
     "output_type": "stream",
     "text": [
      "\n",
      "Epoch 56/100:\n",
      "Training Loss: 0.0132\n",
      "Validation Loss: 0.0980\n",
      "Accuracy: 0.9774\n",
      "Hamming Loss: 0.0226\n",
      "\n"
     ]
    },
    {
     "data": {
      "application/vnd.jupyter.widget-view+json": {
       "model_id": "3a3158742b9f47fb9bccab96ff83352f",
       "version_major": 2,
       "version_minor": 0
      },
      "text/plain": [
       "Epoch 57/100:   0%|          | 0/89 [00:00<?, ?it/s]"
      ]
     },
     "metadata": {},
     "output_type": "display_data"
    },
    {
     "data": {
      "application/vnd.jupyter.widget-view+json": {
       "model_id": "20a6d0996f5a465fa564650168293e4b",
       "version_major": 2,
       "version_minor": 0
      },
      "text/plain": [
       "Validation:   0%|          | 0/23 [00:00<?, ?it/s]"
      ]
     },
     "metadata": {},
     "output_type": "display_data"
    },
    {
     "name": "stdout",
     "output_type": "stream",
     "text": [
      "\n",
      "Epoch 57/100:\n",
      "Training Loss: 0.0125\n",
      "Validation Loss: 0.1034\n",
      "Accuracy: 0.9776\n",
      "Hamming Loss: 0.0224\n",
      "\n"
     ]
    },
    {
     "data": {
      "application/vnd.jupyter.widget-view+json": {
       "model_id": "707024134b6242649a424a4d83a530b4",
       "version_major": 2,
       "version_minor": 0
      },
      "text/plain": [
       "Epoch 58/100:   0%|          | 0/89 [00:00<?, ?it/s]"
      ]
     },
     "metadata": {},
     "output_type": "display_data"
    },
    {
     "data": {
      "application/vnd.jupyter.widget-view+json": {
       "model_id": "76f947bc70514bf7bcc3a8084e85a5d2",
       "version_major": 2,
       "version_minor": 0
      },
      "text/plain": [
       "Validation:   0%|          | 0/23 [00:00<?, ?it/s]"
      ]
     },
     "metadata": {},
     "output_type": "display_data"
    },
    {
     "name": "stdout",
     "output_type": "stream",
     "text": [
      "\n",
      "Epoch 58/100:\n",
      "Training Loss: 0.0121\n",
      "Validation Loss: 0.1002\n",
      "Accuracy: 0.9774\n",
      "Hamming Loss: 0.0226\n",
      "\n"
     ]
    },
    {
     "data": {
      "application/vnd.jupyter.widget-view+json": {
       "model_id": "121f3ed806bc4eff8f1c188ebeed7a0c",
       "version_major": 2,
       "version_minor": 0
      },
      "text/plain": [
       "Epoch 59/100:   0%|          | 0/89 [00:00<?, ?it/s]"
      ]
     },
     "metadata": {},
     "output_type": "display_data"
    },
    {
     "data": {
      "application/vnd.jupyter.widget-view+json": {
       "model_id": "0e03f4bcbc8c485480ede64ba72470a7",
       "version_major": 2,
       "version_minor": 0
      },
      "text/plain": [
       "Validation:   0%|          | 0/23 [00:00<?, ?it/s]"
      ]
     },
     "metadata": {},
     "output_type": "display_data"
    },
    {
     "name": "stdout",
     "output_type": "stream",
     "text": [
      "\n",
      "Epoch 59/100:\n",
      "Training Loss: 0.0114\n",
      "Validation Loss: 0.1025\n",
      "Accuracy: 0.9772\n",
      "Hamming Loss: 0.0228\n",
      "\n"
     ]
    },
    {
     "data": {
      "application/vnd.jupyter.widget-view+json": {
       "model_id": "c7e5b54579544582819b7612a1981e0e",
       "version_major": 2,
       "version_minor": 0
      },
      "text/plain": [
       "Epoch 60/100:   0%|          | 0/89 [00:00<?, ?it/s]"
      ]
     },
     "metadata": {},
     "output_type": "display_data"
    },
    {
     "data": {
      "application/vnd.jupyter.widget-view+json": {
       "model_id": "e97846f09cb64aea877e9c64ec9a2131",
       "version_major": 2,
       "version_minor": 0
      },
      "text/plain": [
       "Validation:   0%|          | 0/23 [00:00<?, ?it/s]"
      ]
     },
     "metadata": {},
     "output_type": "display_data"
    },
    {
     "name": "stdout",
     "output_type": "stream",
     "text": [
      "\n",
      "Epoch 60/100:\n",
      "Training Loss: 0.0109\n",
      "Validation Loss: 0.1051\n",
      "Accuracy: 0.9773\n",
      "Hamming Loss: 0.0227\n",
      "\n"
     ]
    },
    {
     "data": {
      "application/vnd.jupyter.widget-view+json": {
       "model_id": "cca68fdace59428b82e11203a053a6fb",
       "version_major": 2,
       "version_minor": 0
      },
      "text/plain": [
       "Epoch 61/100:   0%|          | 0/89 [00:00<?, ?it/s]"
      ]
     },
     "metadata": {},
     "output_type": "display_data"
    },
    {
     "data": {
      "application/vnd.jupyter.widget-view+json": {
       "model_id": "ae511a7718844e2bab657b382be33be2",
       "version_major": 2,
       "version_minor": 0
      },
      "text/plain": [
       "Validation:   0%|          | 0/23 [00:00<?, ?it/s]"
      ]
     },
     "metadata": {},
     "output_type": "display_data"
    },
    {
     "name": "stdout",
     "output_type": "stream",
     "text": [
      "\n",
      "Epoch 61/100:\n",
      "Training Loss: 0.0104\n",
      "Validation Loss: 0.1019\n",
      "Accuracy: 0.9773\n",
      "Hamming Loss: 0.0227\n",
      "\n"
     ]
    },
    {
     "data": {
      "application/vnd.jupyter.widget-view+json": {
       "model_id": "6b5274c74c514902842935ac20720a13",
       "version_major": 2,
       "version_minor": 0
      },
      "text/plain": [
       "Epoch 62/100:   0%|          | 0/89 [00:00<?, ?it/s]"
      ]
     },
     "metadata": {},
     "output_type": "display_data"
    },
    {
     "data": {
      "application/vnd.jupyter.widget-view+json": {
       "model_id": "e5c7893dc2fe46b19eb703fe3cb0fd69",
       "version_major": 2,
       "version_minor": 0
      },
      "text/plain": [
       "Validation:   0%|          | 0/23 [00:00<?, ?it/s]"
      ]
     },
     "metadata": {},
     "output_type": "display_data"
    },
    {
     "name": "stdout",
     "output_type": "stream",
     "text": [
      "\n",
      "Epoch 62/100:\n",
      "Training Loss: 0.0100\n",
      "Validation Loss: 0.1043\n",
      "Accuracy: 0.9781\n",
      "Hamming Loss: 0.0219\n",
      "\n"
     ]
    },
    {
     "data": {
      "application/vnd.jupyter.widget-view+json": {
       "model_id": "42b78f9843644edfa8a954753f72f4b1",
       "version_major": 2,
       "version_minor": 0
      },
      "text/plain": [
       "Epoch 63/100:   0%|          | 0/89 [00:00<?, ?it/s]"
      ]
     },
     "metadata": {},
     "output_type": "display_data"
    },
    {
     "data": {
      "application/vnd.jupyter.widget-view+json": {
       "model_id": "c7140388e6b14b439488a9ebe76d2631",
       "version_major": 2,
       "version_minor": 0
      },
      "text/plain": [
       "Validation:   0%|          | 0/23 [00:00<?, ?it/s]"
      ]
     },
     "metadata": {},
     "output_type": "display_data"
    },
    {
     "name": "stdout",
     "output_type": "stream",
     "text": [
      "\n",
      "Epoch 63/100:\n",
      "Training Loss: 0.0099\n",
      "Validation Loss: 0.1045\n",
      "Accuracy: 0.9772\n",
      "Hamming Loss: 0.0228\n",
      "\n"
     ]
    },
    {
     "data": {
      "application/vnd.jupyter.widget-view+json": {
       "model_id": "bf99646f38c042348cccd31237e8ecfa",
       "version_major": 2,
       "version_minor": 0
      },
      "text/plain": [
       "Epoch 64/100:   0%|          | 0/89 [00:00<?, ?it/s]"
      ]
     },
     "metadata": {},
     "output_type": "display_data"
    },
    {
     "data": {
      "application/vnd.jupyter.widget-view+json": {
       "model_id": "cf0dac8604cc4cc8bbe2cd663baec095",
       "version_major": 2,
       "version_minor": 0
      },
      "text/plain": [
       "Validation:   0%|          | 0/23 [00:00<?, ?it/s]"
      ]
     },
     "metadata": {},
     "output_type": "display_data"
    },
    {
     "name": "stdout",
     "output_type": "stream",
     "text": [
      "\n",
      "Epoch 64/100:\n",
      "Training Loss: 0.0093\n",
      "Validation Loss: 0.1080\n",
      "Accuracy: 0.9772\n",
      "Hamming Loss: 0.0228\n",
      "\n"
     ]
    },
    {
     "data": {
      "application/vnd.jupyter.widget-view+json": {
       "model_id": "0e079a015b144c7f9af54ece42f3242a",
       "version_major": 2,
       "version_minor": 0
      },
      "text/plain": [
       "Epoch 65/100:   0%|          | 0/89 [00:00<?, ?it/s]"
      ]
     },
     "metadata": {},
     "output_type": "display_data"
    },
    {
     "data": {
      "application/vnd.jupyter.widget-view+json": {
       "model_id": "2c00dc028dd643b5b28943a649665651",
       "version_major": 2,
       "version_minor": 0
      },
      "text/plain": [
       "Validation:   0%|          | 0/23 [00:00<?, ?it/s]"
      ]
     },
     "metadata": {},
     "output_type": "display_data"
    },
    {
     "name": "stdout",
     "output_type": "stream",
     "text": [
      "\n",
      "Epoch 65/100:\n",
      "Training Loss: 0.0088\n",
      "Validation Loss: 0.1122\n",
      "Accuracy: 0.9775\n",
      "Hamming Loss: 0.0225\n",
      "\n"
     ]
    },
    {
     "data": {
      "application/vnd.jupyter.widget-view+json": {
       "model_id": "419723c6d9af40929bd24826785f507c",
       "version_major": 2,
       "version_minor": 0
      },
      "text/plain": [
       "Epoch 66/100:   0%|          | 0/89 [00:00<?, ?it/s]"
      ]
     },
     "metadata": {},
     "output_type": "display_data"
    },
    {
     "data": {
      "application/vnd.jupyter.widget-view+json": {
       "model_id": "2df4013d31bc4cd888c5e302d177a432",
       "version_major": 2,
       "version_minor": 0
      },
      "text/plain": [
       "Validation:   0%|          | 0/23 [00:00<?, ?it/s]"
      ]
     },
     "metadata": {},
     "output_type": "display_data"
    },
    {
     "name": "stdout",
     "output_type": "stream",
     "text": [
      "\n",
      "Epoch 66/100:\n",
      "Training Loss: 0.0084\n",
      "Validation Loss: 0.1071\n",
      "Accuracy: 0.9778\n",
      "Hamming Loss: 0.0222\n",
      "\n"
     ]
    },
    {
     "data": {
      "application/vnd.jupyter.widget-view+json": {
       "model_id": "3eb3673e32dc468e8b293bec115ee70d",
       "version_major": 2,
       "version_minor": 0
      },
      "text/plain": [
       "Epoch 67/100:   0%|          | 0/89 [00:00<?, ?it/s]"
      ]
     },
     "metadata": {},
     "output_type": "display_data"
    },
    {
     "data": {
      "application/vnd.jupyter.widget-view+json": {
       "model_id": "2dbb2da23f494ee4a57bbf3334001002",
       "version_major": 2,
       "version_minor": 0
      },
      "text/plain": [
       "Validation:   0%|          | 0/23 [00:00<?, ?it/s]"
      ]
     },
     "metadata": {},
     "output_type": "display_data"
    },
    {
     "name": "stdout",
     "output_type": "stream",
     "text": [
      "\n",
      "Epoch 67/100:\n",
      "Training Loss: 0.0081\n",
      "Validation Loss: 0.1113\n",
      "Accuracy: 0.9772\n",
      "Hamming Loss: 0.0228\n",
      "\n"
     ]
    },
    {
     "data": {
      "application/vnd.jupyter.widget-view+json": {
       "model_id": "c32026b1bba2409785df6fa90e6e72f8",
       "version_major": 2,
       "version_minor": 0
      },
      "text/plain": [
       "Epoch 68/100:   0%|          | 0/89 [00:00<?, ?it/s]"
      ]
     },
     "metadata": {},
     "output_type": "display_data"
    },
    {
     "data": {
      "application/vnd.jupyter.widget-view+json": {
       "model_id": "a53560ec3cf7435fb7af99aedd8eb2c0",
       "version_major": 2,
       "version_minor": 0
      },
      "text/plain": [
       "Validation:   0%|          | 0/23 [00:00<?, ?it/s]"
      ]
     },
     "metadata": {},
     "output_type": "display_data"
    },
    {
     "name": "stdout",
     "output_type": "stream",
     "text": [
      "\n",
      "Epoch 68/100:\n",
      "Training Loss: 0.0076\n",
      "Validation Loss: 0.1114\n",
      "Accuracy: 0.9772\n",
      "Hamming Loss: 0.0228\n",
      "\n"
     ]
    },
    {
     "data": {
      "application/vnd.jupyter.widget-view+json": {
       "model_id": "7a560f36333949049fceceb023918a07",
       "version_major": 2,
       "version_minor": 0
      },
      "text/plain": [
       "Epoch 69/100:   0%|          | 0/89 [00:00<?, ?it/s]"
      ]
     },
     "metadata": {},
     "output_type": "display_data"
    },
    {
     "data": {
      "application/vnd.jupyter.widget-view+json": {
       "model_id": "6deb3f32b2744998ac50c4a089f70703",
       "version_major": 2,
       "version_minor": 0
      },
      "text/plain": [
       "Validation:   0%|          | 0/23 [00:00<?, ?it/s]"
      ]
     },
     "metadata": {},
     "output_type": "display_data"
    },
    {
     "name": "stdout",
     "output_type": "stream",
     "text": [
      "\n",
      "Epoch 69/100:\n",
      "Training Loss: 0.0074\n",
      "Validation Loss: 0.1146\n",
      "Accuracy: 0.9773\n",
      "Hamming Loss: 0.0227\n",
      "\n"
     ]
    },
    {
     "data": {
      "application/vnd.jupyter.widget-view+json": {
       "model_id": "b8fe99de15a04b7fa38aa5026614aa4b",
       "version_major": 2,
       "version_minor": 0
      },
      "text/plain": [
       "Epoch 70/100:   0%|          | 0/89 [00:00<?, ?it/s]"
      ]
     },
     "metadata": {},
     "output_type": "display_data"
    },
    {
     "data": {
      "application/vnd.jupyter.widget-view+json": {
       "model_id": "e3952f534f09462a800b9e74d9b875d4",
       "version_major": 2,
       "version_minor": 0
      },
      "text/plain": [
       "Validation:   0%|          | 0/23 [00:00<?, ?it/s]"
      ]
     },
     "metadata": {},
     "output_type": "display_data"
    },
    {
     "name": "stdout",
     "output_type": "stream",
     "text": [
      "\n",
      "Epoch 70/100:\n",
      "Training Loss: 0.0072\n",
      "Validation Loss: 0.1154\n",
      "Accuracy: 0.9769\n",
      "Hamming Loss: 0.0231\n",
      "\n"
     ]
    },
    {
     "data": {
      "application/vnd.jupyter.widget-view+json": {
       "model_id": "3a67d426a36e4af39758dce5d610dddc",
       "version_major": 2,
       "version_minor": 0
      },
      "text/plain": [
       "Epoch 71/100:   0%|          | 0/89 [00:00<?, ?it/s]"
      ]
     },
     "metadata": {},
     "output_type": "display_data"
    },
    {
     "data": {
      "application/vnd.jupyter.widget-view+json": {
       "model_id": "9d95a15c14b045c6835a5bcbcf15fe46",
       "version_major": 2,
       "version_minor": 0
      },
      "text/plain": [
       "Validation:   0%|          | 0/23 [00:00<?, ?it/s]"
      ]
     },
     "metadata": {},
     "output_type": "display_data"
    },
    {
     "name": "stdout",
     "output_type": "stream",
     "text": [
      "\n",
      "Epoch 71/100:\n",
      "Training Loss: 0.0068\n",
      "Validation Loss: 0.1154\n",
      "Accuracy: 0.9774\n",
      "Hamming Loss: 0.0226\n",
      "\n"
     ]
    },
    {
     "data": {
      "application/vnd.jupyter.widget-view+json": {
       "model_id": "36ffb1a54b7d43f4add491d7324d5451",
       "version_major": 2,
       "version_minor": 0
      },
      "text/plain": [
       "Epoch 72/100:   0%|          | 0/89 [00:00<?, ?it/s]"
      ]
     },
     "metadata": {},
     "output_type": "display_data"
    },
    {
     "data": {
      "application/vnd.jupyter.widget-view+json": {
       "model_id": "558f7d7423694f03a1fc88e69ed573e4",
       "version_major": 2,
       "version_minor": 0
      },
      "text/plain": [
       "Validation:   0%|          | 0/23 [00:00<?, ?it/s]"
      ]
     },
     "metadata": {},
     "output_type": "display_data"
    },
    {
     "name": "stdout",
     "output_type": "stream",
     "text": [
      "\n",
      "Epoch 72/100:\n",
      "Training Loss: 0.0064\n",
      "Validation Loss: 0.1174\n",
      "Accuracy: 0.9773\n",
      "Hamming Loss: 0.0227\n",
      "\n"
     ]
    },
    {
     "data": {
      "application/vnd.jupyter.widget-view+json": {
       "model_id": "c1fbe63342994dc1b177efbaaa68866c",
       "version_major": 2,
       "version_minor": 0
      },
      "text/plain": [
       "Epoch 73/100:   0%|          | 0/89 [00:00<?, ?it/s]"
      ]
     },
     "metadata": {},
     "output_type": "display_data"
    },
    {
     "data": {
      "application/vnd.jupyter.widget-view+json": {
       "model_id": "a91d5cc4f3fb415ebe4490af6c3fb40d",
       "version_major": 2,
       "version_minor": 0
      },
      "text/plain": [
       "Validation:   0%|          | 0/23 [00:00<?, ?it/s]"
      ]
     },
     "metadata": {},
     "output_type": "display_data"
    },
    {
     "name": "stdout",
     "output_type": "stream",
     "text": [
      "\n",
      "Epoch 73/100:\n",
      "Training Loss: 0.0064\n",
      "Validation Loss: 0.1193\n",
      "Accuracy: 0.9774\n",
      "Hamming Loss: 0.0226\n",
      "\n"
     ]
    },
    {
     "data": {
      "application/vnd.jupyter.widget-view+json": {
       "model_id": "8dfa5fd7c10b4ede93c282b581826781",
       "version_major": 2,
       "version_minor": 0
      },
      "text/plain": [
       "Epoch 74/100:   0%|          | 0/89 [00:00<?, ?it/s]"
      ]
     },
     "metadata": {},
     "output_type": "display_data"
    },
    {
     "data": {
      "application/vnd.jupyter.widget-view+json": {
       "model_id": "c5308352eac74be5b89fbf7c16550900",
       "version_major": 2,
       "version_minor": 0
      },
      "text/plain": [
       "Validation:   0%|          | 0/23 [00:00<?, ?it/s]"
      ]
     },
     "metadata": {},
     "output_type": "display_data"
    },
    {
     "name": "stdout",
     "output_type": "stream",
     "text": [
      "\n",
      "Epoch 74/100:\n",
      "Training Loss: 0.0062\n",
      "Validation Loss: 0.1194\n",
      "Accuracy: 0.9772\n",
      "Hamming Loss: 0.0228\n",
      "\n"
     ]
    },
    {
     "data": {
      "application/vnd.jupyter.widget-view+json": {
       "model_id": "14399c4057a64774b4b0ae6bdfc8488b",
       "version_major": 2,
       "version_minor": 0
      },
      "text/plain": [
       "Epoch 75/100:   0%|          | 0/89 [00:00<?, ?it/s]"
      ]
     },
     "metadata": {},
     "output_type": "display_data"
    },
    {
     "data": {
      "application/vnd.jupyter.widget-view+json": {
       "model_id": "c7b9cf1b99da4fa189fdd74016f8c213",
       "version_major": 2,
       "version_minor": 0
      },
      "text/plain": [
       "Validation:   0%|          | 0/23 [00:00<?, ?it/s]"
      ]
     },
     "metadata": {},
     "output_type": "display_data"
    },
    {
     "name": "stdout",
     "output_type": "stream",
     "text": [
      "\n",
      "Epoch 75/100:\n",
      "Training Loss: 0.0063\n",
      "Validation Loss: 0.1139\n",
      "Accuracy: 0.9770\n",
      "Hamming Loss: 0.0230\n",
      "\n"
     ]
    },
    {
     "data": {
      "application/vnd.jupyter.widget-view+json": {
       "model_id": "8dff81cb19be4bcb9d388586734f9c12",
       "version_major": 2,
       "version_minor": 0
      },
      "text/plain": [
       "Epoch 76/100:   0%|          | 0/89 [00:00<?, ?it/s]"
      ]
     },
     "metadata": {},
     "output_type": "display_data"
    },
    {
     "data": {
      "application/vnd.jupyter.widget-view+json": {
       "model_id": "69abb3203d2b4630a292538b251bc4f1",
       "version_major": 2,
       "version_minor": 0
      },
      "text/plain": [
       "Validation:   0%|          | 0/23 [00:00<?, ?it/s]"
      ]
     },
     "metadata": {},
     "output_type": "display_data"
    },
    {
     "name": "stdout",
     "output_type": "stream",
     "text": [
      "\n",
      "Epoch 76/100:\n",
      "Training Loss: 0.0095\n",
      "Validation Loss: 0.1141\n",
      "Accuracy: 0.9762\n",
      "Hamming Loss: 0.0238\n",
      "\n"
     ]
    },
    {
     "data": {
      "application/vnd.jupyter.widget-view+json": {
       "model_id": "9fe3158f26814e44b25495130487cd02",
       "version_major": 2,
       "version_minor": 0
      },
      "text/plain": [
       "Epoch 77/100:   0%|          | 0/89 [00:00<?, ?it/s]"
      ]
     },
     "metadata": {},
     "output_type": "display_data"
    },
    {
     "data": {
      "application/vnd.jupyter.widget-view+json": {
       "model_id": "10a281154f964d05b3123f6c1e8f7ec0",
       "version_major": 2,
       "version_minor": 0
      },
      "text/plain": [
       "Validation:   0%|          | 0/23 [00:00<?, ?it/s]"
      ]
     },
     "metadata": {},
     "output_type": "display_data"
    },
    {
     "name": "stdout",
     "output_type": "stream",
     "text": [
      "\n",
      "Epoch 77/100:\n",
      "Training Loss: 0.0066\n",
      "Validation Loss: 0.1162\n",
      "Accuracy: 0.9766\n",
      "Hamming Loss: 0.0234\n",
      "\n"
     ]
    },
    {
     "data": {
      "application/vnd.jupyter.widget-view+json": {
       "model_id": "e3dd17694291424298b0ebb38c2f7ea6",
       "version_major": 2,
       "version_minor": 0
      },
      "text/plain": [
       "Epoch 78/100:   0%|          | 0/89 [00:00<?, ?it/s]"
      ]
     },
     "metadata": {},
     "output_type": "display_data"
    },
    {
     "data": {
      "application/vnd.jupyter.widget-view+json": {
       "model_id": "4356010d48fd48b98b3c284729265f3d",
       "version_major": 2,
       "version_minor": 0
      },
      "text/plain": [
       "Validation:   0%|          | 0/23 [00:00<?, ?it/s]"
      ]
     },
     "metadata": {},
     "output_type": "display_data"
    },
    {
     "name": "stdout",
     "output_type": "stream",
     "text": [
      "\n",
      "Epoch 78/100:\n",
      "Training Loss: 0.0056\n",
      "Validation Loss: 0.1204\n",
      "Accuracy: 0.9766\n",
      "Hamming Loss: 0.0234\n",
      "\n"
     ]
    },
    {
     "data": {
      "application/vnd.jupyter.widget-view+json": {
       "model_id": "46a682b4b2bc467d869843d4dcea000c",
       "version_major": 2,
       "version_minor": 0
      },
      "text/plain": [
       "Epoch 79/100:   0%|          | 0/89 [00:00<?, ?it/s]"
      ]
     },
     "metadata": {},
     "output_type": "display_data"
    },
    {
     "data": {
      "application/vnd.jupyter.widget-view+json": {
       "model_id": "df6a4e42161b4004862332ff4e40b2c0",
       "version_major": 2,
       "version_minor": 0
      },
      "text/plain": [
       "Validation:   0%|          | 0/23 [00:00<?, ?it/s]"
      ]
     },
     "metadata": {},
     "output_type": "display_data"
    },
    {
     "name": "stdout",
     "output_type": "stream",
     "text": [
      "\n",
      "Epoch 79/100:\n",
      "Training Loss: 0.0053\n",
      "Validation Loss: 0.1223\n",
      "Accuracy: 0.9772\n",
      "Hamming Loss: 0.0228\n",
      "\n"
     ]
    },
    {
     "data": {
      "application/vnd.jupyter.widget-view+json": {
       "model_id": "b6348ea5792344bfa695a8b1e2a2790c",
       "version_major": 2,
       "version_minor": 0
      },
      "text/plain": [
       "Epoch 80/100:   0%|          | 0/89 [00:00<?, ?it/s]"
      ]
     },
     "metadata": {},
     "output_type": "display_data"
    },
    {
     "data": {
      "application/vnd.jupyter.widget-view+json": {
       "model_id": "dd865cc5a13a40198ea7dd75d8e40d8f",
       "version_major": 2,
       "version_minor": 0
      },
      "text/plain": [
       "Validation:   0%|          | 0/23 [00:00<?, ?it/s]"
      ]
     },
     "metadata": {},
     "output_type": "display_data"
    },
    {
     "name": "stdout",
     "output_type": "stream",
     "text": [
      "\n",
      "Epoch 80/100:\n",
      "Training Loss: 0.0049\n",
      "Validation Loss: 0.1211\n",
      "Accuracy: 0.9772\n",
      "Hamming Loss: 0.0228\n",
      "\n"
     ]
    },
    {
     "data": {
      "application/vnd.jupyter.widget-view+json": {
       "model_id": "86453409c9594455826191f29a4261b5",
       "version_major": 2,
       "version_minor": 0
      },
      "text/plain": [
       "Epoch 81/100:   0%|          | 0/89 [00:00<?, ?it/s]"
      ]
     },
     "metadata": {},
     "output_type": "display_data"
    },
    {
     "data": {
      "application/vnd.jupyter.widget-view+json": {
       "model_id": "8f61658da407461d9f0490acd6005929",
       "version_major": 2,
       "version_minor": 0
      },
      "text/plain": [
       "Validation:   0%|          | 0/23 [00:00<?, ?it/s]"
      ]
     },
     "metadata": {},
     "output_type": "display_data"
    },
    {
     "name": "stdout",
     "output_type": "stream",
     "text": [
      "\n",
      "Epoch 81/100:\n",
      "Training Loss: 0.0046\n",
      "Validation Loss: 0.1242\n",
      "Accuracy: 0.9773\n",
      "Hamming Loss: 0.0227\n",
      "\n"
     ]
    },
    {
     "data": {
      "application/vnd.jupyter.widget-view+json": {
       "model_id": "2a3f57853a694e88b1cb42d9ad365147",
       "version_major": 2,
       "version_minor": 0
      },
      "text/plain": [
       "Epoch 82/100:   0%|          | 0/89 [00:00<?, ?it/s]"
      ]
     },
     "metadata": {},
     "output_type": "display_data"
    },
    {
     "data": {
      "application/vnd.jupyter.widget-view+json": {
       "model_id": "e066c8f984cb4cbba3c27778fc6be3c5",
       "version_major": 2,
       "version_minor": 0
      },
      "text/plain": [
       "Validation:   0%|          | 0/23 [00:00<?, ?it/s]"
      ]
     },
     "metadata": {},
     "output_type": "display_data"
    },
    {
     "name": "stdout",
     "output_type": "stream",
     "text": [
      "\n",
      "Epoch 82/100:\n",
      "Training Loss: 0.0045\n",
      "Validation Loss: 0.1273\n",
      "Accuracy: 0.9776\n",
      "Hamming Loss: 0.0224\n",
      "\n"
     ]
    },
    {
     "data": {
      "application/vnd.jupyter.widget-view+json": {
       "model_id": "9318bb5aacf343dfa01c32bc4840dc2b",
       "version_major": 2,
       "version_minor": 0
      },
      "text/plain": [
       "Epoch 83/100:   0%|          | 0/89 [00:00<?, ?it/s]"
      ]
     },
     "metadata": {},
     "output_type": "display_data"
    },
    {
     "data": {
      "application/vnd.jupyter.widget-view+json": {
       "model_id": "396d4e28a2e240e08674da835457082c",
       "version_major": 2,
       "version_minor": 0
      },
      "text/plain": [
       "Validation:   0%|          | 0/23 [00:00<?, ?it/s]"
      ]
     },
     "metadata": {},
     "output_type": "display_data"
    },
    {
     "name": "stdout",
     "output_type": "stream",
     "text": [
      "\n",
      "Epoch 83/100:\n",
      "Training Loss: 0.0043\n",
      "Validation Loss: 0.1255\n",
      "Accuracy: 0.9767\n",
      "Hamming Loss: 0.0233\n",
      "\n"
     ]
    },
    {
     "data": {
      "application/vnd.jupyter.widget-view+json": {
       "model_id": "a2924fe2497e40d3b2ecddf1765ae47b",
       "version_major": 2,
       "version_minor": 0
      },
      "text/plain": [
       "Epoch 84/100:   0%|          | 0/89 [00:00<?, ?it/s]"
      ]
     },
     "metadata": {},
     "output_type": "display_data"
    },
    {
     "data": {
      "application/vnd.jupyter.widget-view+json": {
       "model_id": "7ee2793e70a24eec8c33df83e1763f33",
       "version_major": 2,
       "version_minor": 0
      },
      "text/plain": [
       "Validation:   0%|          | 0/23 [00:00<?, ?it/s]"
      ]
     },
     "metadata": {},
     "output_type": "display_data"
    },
    {
     "name": "stdout",
     "output_type": "stream",
     "text": [
      "\n",
      "Epoch 84/100:\n",
      "Training Loss: 0.0041\n",
      "Validation Loss: 0.1235\n",
      "Accuracy: 0.9766\n",
      "Hamming Loss: 0.0234\n",
      "\n"
     ]
    },
    {
     "data": {
      "application/vnd.jupyter.widget-view+json": {
       "model_id": "165c675e2bf8494191e7c846c05579b4",
       "version_major": 2,
       "version_minor": 0
      },
      "text/plain": [
       "Epoch 85/100:   0%|          | 0/89 [00:00<?, ?it/s]"
      ]
     },
     "metadata": {},
     "output_type": "display_data"
    },
    {
     "data": {
      "application/vnd.jupyter.widget-view+json": {
       "model_id": "0dd70ce4e5104418b0e7bfd574118abb",
       "version_major": 2,
       "version_minor": 0
      },
      "text/plain": [
       "Validation:   0%|          | 0/23 [00:00<?, ?it/s]"
      ]
     },
     "metadata": {},
     "output_type": "display_data"
    },
    {
     "name": "stdout",
     "output_type": "stream",
     "text": [
      "\n",
      "Epoch 85/100:\n",
      "Training Loss: 0.0039\n",
      "Validation Loss: 0.1302\n",
      "Accuracy: 0.9767\n",
      "Hamming Loss: 0.0233\n",
      "\n"
     ]
    },
    {
     "data": {
      "application/vnd.jupyter.widget-view+json": {
       "model_id": "cb34a0336e6b490c9672dcaa31e2350e",
       "version_major": 2,
       "version_minor": 0
      },
      "text/plain": [
       "Epoch 86/100:   0%|          | 0/89 [00:00<?, ?it/s]"
      ]
     },
     "metadata": {},
     "output_type": "display_data"
    },
    {
     "data": {
      "application/vnd.jupyter.widget-view+json": {
       "model_id": "a95e4bbf20a043ffacbfccc840a6e0b5",
       "version_major": 2,
       "version_minor": 0
      },
      "text/plain": [
       "Validation:   0%|          | 0/23 [00:00<?, ?it/s]"
      ]
     },
     "metadata": {},
     "output_type": "display_data"
    },
    {
     "name": "stdout",
     "output_type": "stream",
     "text": [
      "\n",
      "Epoch 86/100:\n",
      "Training Loss: 0.0037\n",
      "Validation Loss: 0.1302\n",
      "Accuracy: 0.9767\n",
      "Hamming Loss: 0.0233\n",
      "\n"
     ]
    },
    {
     "data": {
      "application/vnd.jupyter.widget-view+json": {
       "model_id": "131374f19fcf4cad920bddbbbced0544",
       "version_major": 2,
       "version_minor": 0
      },
      "text/plain": [
       "Epoch 87/100:   0%|          | 0/89 [00:00<?, ?it/s]"
      ]
     },
     "metadata": {},
     "output_type": "display_data"
    },
    {
     "data": {
      "application/vnd.jupyter.widget-view+json": {
       "model_id": "c97ae841ac09423aadb528a6f5560bfd",
       "version_major": 2,
       "version_minor": 0
      },
      "text/plain": [
       "Validation:   0%|          | 0/23 [00:00<?, ?it/s]"
      ]
     },
     "metadata": {},
     "output_type": "display_data"
    },
    {
     "name": "stdout",
     "output_type": "stream",
     "text": [
      "\n",
      "Epoch 87/100:\n",
      "Training Loss: 0.0036\n",
      "Validation Loss: 0.1293\n",
      "Accuracy: 0.9772\n",
      "Hamming Loss: 0.0228\n",
      "\n"
     ]
    },
    {
     "data": {
      "application/vnd.jupyter.widget-view+json": {
       "model_id": "257dac00554c4c7a99f0074319400f3c",
       "version_major": 2,
       "version_minor": 0
      },
      "text/plain": [
       "Epoch 88/100:   0%|          | 0/89 [00:00<?, ?it/s]"
      ]
     },
     "metadata": {},
     "output_type": "display_data"
    },
    {
     "data": {
      "application/vnd.jupyter.widget-view+json": {
       "model_id": "c49faa921ae3486d8ce0218206112120",
       "version_major": 2,
       "version_minor": 0
      },
      "text/plain": [
       "Validation:   0%|          | 0/23 [00:00<?, ?it/s]"
      ]
     },
     "metadata": {},
     "output_type": "display_data"
    },
    {
     "name": "stdout",
     "output_type": "stream",
     "text": [
      "\n",
      "Epoch 88/100:\n",
      "Training Loss: 0.0036\n",
      "Validation Loss: 0.1324\n",
      "Accuracy: 0.9775\n",
      "Hamming Loss: 0.0225\n",
      "\n"
     ]
    },
    {
     "data": {
      "application/vnd.jupyter.widget-view+json": {
       "model_id": "d1c977b1a1e043558844af0975c0f274",
       "version_major": 2,
       "version_minor": 0
      },
      "text/plain": [
       "Epoch 89/100:   0%|          | 0/89 [00:00<?, ?it/s]"
      ]
     },
     "metadata": {},
     "output_type": "display_data"
    },
    {
     "data": {
      "application/vnd.jupyter.widget-view+json": {
       "model_id": "f54ba7a7a5994deebffea5078195100a",
       "version_major": 2,
       "version_minor": 0
      },
      "text/plain": [
       "Validation:   0%|          | 0/23 [00:00<?, ?it/s]"
      ]
     },
     "metadata": {},
     "output_type": "display_data"
    },
    {
     "name": "stdout",
     "output_type": "stream",
     "text": [
      "\n",
      "Epoch 89/100:\n",
      "Training Loss: 0.0037\n",
      "Validation Loss: 0.1344\n",
      "Accuracy: 0.9770\n",
      "Hamming Loss: 0.0230\n",
      "\n"
     ]
    },
    {
     "data": {
      "application/vnd.jupyter.widget-view+json": {
       "model_id": "82ec758915a14b19a70331314a787b88",
       "version_major": 2,
       "version_minor": 0
      },
      "text/plain": [
       "Epoch 90/100:   0%|          | 0/89 [00:00<?, ?it/s]"
      ]
     },
     "metadata": {},
     "output_type": "display_data"
    },
    {
     "data": {
      "application/vnd.jupyter.widget-view+json": {
       "model_id": "04a1ca82995b408dae2fd3fa9025a23c",
       "version_major": 2,
       "version_minor": 0
      },
      "text/plain": [
       "Validation:   0%|          | 0/23 [00:00<?, ?it/s]"
      ]
     },
     "metadata": {},
     "output_type": "display_data"
    },
    {
     "name": "stdout",
     "output_type": "stream",
     "text": [
      "\n",
      "Epoch 90/100:\n",
      "Training Loss: 0.0036\n",
      "Validation Loss: 0.1350\n",
      "Accuracy: 0.9774\n",
      "Hamming Loss: 0.0226\n",
      "\n"
     ]
    },
    {
     "data": {
      "application/vnd.jupyter.widget-view+json": {
       "model_id": "f7a307e1f3fe429289b50c19bb76508f",
       "version_major": 2,
       "version_minor": 0
      },
      "text/plain": [
       "Epoch 91/100:   0%|          | 0/89 [00:00<?, ?it/s]"
      ]
     },
     "metadata": {},
     "output_type": "display_data"
    },
    {
     "data": {
      "application/vnd.jupyter.widget-view+json": {
       "model_id": "c2506c1b5b954d7e831aadfbdeb639d8",
       "version_major": 2,
       "version_minor": 0
      },
      "text/plain": [
       "Validation:   0%|          | 0/23 [00:00<?, ?it/s]"
      ]
     },
     "metadata": {},
     "output_type": "display_data"
    },
    {
     "name": "stdout",
     "output_type": "stream",
     "text": [
      "\n",
      "Epoch 91/100:\n",
      "Training Loss: 0.0035\n",
      "Validation Loss: 0.1338\n",
      "Accuracy: 0.9771\n",
      "Hamming Loss: 0.0229\n",
      "\n"
     ]
    },
    {
     "data": {
      "application/vnd.jupyter.widget-view+json": {
       "model_id": "df37c36509f34447a673d7968f22111b",
       "version_major": 2,
       "version_minor": 0
      },
      "text/plain": [
       "Epoch 92/100:   0%|          | 0/89 [00:00<?, ?it/s]"
      ]
     },
     "metadata": {},
     "output_type": "display_data"
    },
    {
     "data": {
      "application/vnd.jupyter.widget-view+json": {
       "model_id": "bc0a7483be204cd09f3b0e3ebbe87a77",
       "version_major": 2,
       "version_minor": 0
      },
      "text/plain": [
       "Validation:   0%|          | 0/23 [00:00<?, ?it/s]"
      ]
     },
     "metadata": {},
     "output_type": "display_data"
    },
    {
     "name": "stdout",
     "output_type": "stream",
     "text": [
      "\n",
      "Epoch 92/100:\n",
      "Training Loss: 0.0034\n",
      "Validation Loss: 0.1362\n",
      "Accuracy: 0.9764\n",
      "Hamming Loss: 0.0236\n",
      "\n"
     ]
    },
    {
     "data": {
      "application/vnd.jupyter.widget-view+json": {
       "model_id": "aacac73fc3c145a6b6b28b5fa03dba99",
       "version_major": 2,
       "version_minor": 0
      },
      "text/plain": [
       "Epoch 93/100:   0%|          | 0/89 [00:00<?, ?it/s]"
      ]
     },
     "metadata": {},
     "output_type": "display_data"
    },
    {
     "data": {
      "application/vnd.jupyter.widget-view+json": {
       "model_id": "2eaf5561d165461f96d98b0337315d21",
       "version_major": 2,
       "version_minor": 0
      },
      "text/plain": [
       "Validation:   0%|          | 0/23 [00:00<?, ?it/s]"
      ]
     },
     "metadata": {},
     "output_type": "display_data"
    },
    {
     "name": "stdout",
     "output_type": "stream",
     "text": [
      "\n",
      "Epoch 93/100:\n",
      "Training Loss: 0.0044\n",
      "Validation Loss: 0.1328\n",
      "Accuracy: 0.9771\n",
      "Hamming Loss: 0.0229\n",
      "\n"
     ]
    },
    {
     "data": {
      "application/vnd.jupyter.widget-view+json": {
       "model_id": "dec0680e42e64b09b9d89d908d43fb5f",
       "version_major": 2,
       "version_minor": 0
      },
      "text/plain": [
       "Epoch 94/100:   0%|          | 0/89 [00:00<?, ?it/s]"
      ]
     },
     "metadata": {},
     "output_type": "display_data"
    },
    {
     "data": {
      "application/vnd.jupyter.widget-view+json": {
       "model_id": "4f7bd7d8f7b248b6a066488690524e45",
       "version_major": 2,
       "version_minor": 0
      },
      "text/plain": [
       "Validation:   0%|          | 0/23 [00:00<?, ?it/s]"
      ]
     },
     "metadata": {},
     "output_type": "display_data"
    },
    {
     "name": "stdout",
     "output_type": "stream",
     "text": [
      "\n",
      "Epoch 94/100:\n",
      "Training Loss: 0.0090\n",
      "Validation Loss: 0.1337\n",
      "Accuracy: 0.9759\n",
      "Hamming Loss: 0.0241\n",
      "\n"
     ]
    },
    {
     "data": {
      "application/vnd.jupyter.widget-view+json": {
       "model_id": "0537be5c4c76400881ab6d4425f20650",
       "version_major": 2,
       "version_minor": 0
      },
      "text/plain": [
       "Epoch 95/100:   0%|          | 0/89 [00:00<?, ?it/s]"
      ]
     },
     "metadata": {},
     "output_type": "display_data"
    },
    {
     "data": {
      "application/vnd.jupyter.widget-view+json": {
       "model_id": "308909ad78b144d5ac56f0ba70eef17c",
       "version_major": 2,
       "version_minor": 0
      },
      "text/plain": [
       "Validation:   0%|          | 0/23 [00:00<?, ?it/s]"
      ]
     },
     "metadata": {},
     "output_type": "display_data"
    },
    {
     "name": "stdout",
     "output_type": "stream",
     "text": [
      "\n",
      "Epoch 95/100:\n",
      "Training Loss: 0.0071\n",
      "Validation Loss: 0.1230\n",
      "Accuracy: 0.9753\n",
      "Hamming Loss: 0.0247\n",
      "\n"
     ]
    },
    {
     "data": {
      "application/vnd.jupyter.widget-view+json": {
       "model_id": "8d3c9cd7867c4a19a32c87519ebf4d11",
       "version_major": 2,
       "version_minor": 0
      },
      "text/plain": [
       "Epoch 96/100:   0%|          | 0/89 [00:00<?, ?it/s]"
      ]
     },
     "metadata": {},
     "output_type": "display_data"
    },
    {
     "data": {
      "application/vnd.jupyter.widget-view+json": {
       "model_id": "05e43879715643d7abce16b324312387",
       "version_major": 2,
       "version_minor": 0
      },
      "text/plain": [
       "Validation:   0%|          | 0/23 [00:00<?, ?it/s]"
      ]
     },
     "metadata": {},
     "output_type": "display_data"
    },
    {
     "name": "stdout",
     "output_type": "stream",
     "text": [
      "\n",
      "Epoch 96/100:\n",
      "Training Loss: 0.0047\n",
      "Validation Loss: 0.1294\n",
      "Accuracy: 0.9760\n",
      "Hamming Loss: 0.0240\n",
      "\n"
     ]
    },
    {
     "data": {
      "application/vnd.jupyter.widget-view+json": {
       "model_id": "2e1ef6af9c6f4faa92e1a1b4e596c3af",
       "version_major": 2,
       "version_minor": 0
      },
      "text/plain": [
       "Epoch 97/100:   0%|          | 0/89 [00:00<?, ?it/s]"
      ]
     },
     "metadata": {},
     "output_type": "display_data"
    },
    {
     "data": {
      "application/vnd.jupyter.widget-view+json": {
       "model_id": "4101e78ebea148a993a682c12621129d",
       "version_major": 2,
       "version_minor": 0
      },
      "text/plain": [
       "Validation:   0%|          | 0/23 [00:00<?, ?it/s]"
      ]
     },
     "metadata": {},
     "output_type": "display_data"
    },
    {
     "name": "stdout",
     "output_type": "stream",
     "text": [
      "\n",
      "Epoch 97/100:\n",
      "Training Loss: 0.0036\n",
      "Validation Loss: 0.1319\n",
      "Accuracy: 0.9764\n",
      "Hamming Loss: 0.0236\n",
      "\n"
     ]
    },
    {
     "data": {
      "application/vnd.jupyter.widget-view+json": {
       "model_id": "ffed61e202114967897a0fc8359e31ae",
       "version_major": 2,
       "version_minor": 0
      },
      "text/plain": [
       "Epoch 98/100:   0%|          | 0/89 [00:00<?, ?it/s]"
      ]
     },
     "metadata": {},
     "output_type": "display_data"
    },
    {
     "data": {
      "application/vnd.jupyter.widget-view+json": {
       "model_id": "e2b46356c853459ba765b7bfda14e3cd",
       "version_major": 2,
       "version_minor": 0
      },
      "text/plain": [
       "Validation:   0%|          | 0/23 [00:00<?, ?it/s]"
      ]
     },
     "metadata": {},
     "output_type": "display_data"
    },
    {
     "name": "stdout",
     "output_type": "stream",
     "text": [
      "\n",
      "Epoch 98/100:\n",
      "Training Loss: 0.0030\n",
      "Validation Loss: 0.1328\n",
      "Accuracy: 0.9765\n",
      "Hamming Loss: 0.0235\n",
      "\n"
     ]
    },
    {
     "data": {
      "application/vnd.jupyter.widget-view+json": {
       "model_id": "6f2d0597fd62498aa2e70ec0f42310c6",
       "version_major": 2,
       "version_minor": 0
      },
      "text/plain": [
       "Epoch 99/100:   0%|          | 0/89 [00:00<?, ?it/s]"
      ]
     },
     "metadata": {},
     "output_type": "display_data"
    },
    {
     "data": {
      "application/vnd.jupyter.widget-view+json": {
       "model_id": "0d5e9672fe664aff8fe7063a5c63bb02",
       "version_major": 2,
       "version_minor": 0
      },
      "text/plain": [
       "Validation:   0%|          | 0/23 [00:00<?, ?it/s]"
      ]
     },
     "metadata": {},
     "output_type": "display_data"
    },
    {
     "name": "stdout",
     "output_type": "stream",
     "text": [
      "\n",
      "Epoch 99/100:\n",
      "Training Loss: 0.0028\n",
      "Validation Loss: 0.1337\n",
      "Accuracy: 0.9763\n",
      "Hamming Loss: 0.0237\n",
      "\n"
     ]
    },
    {
     "data": {
      "application/vnd.jupyter.widget-view+json": {
       "model_id": "e2bbd011de3a4663bf59981fc240ecff",
       "version_major": 2,
       "version_minor": 0
      },
      "text/plain": [
       "Epoch 100/100:   0%|          | 0/89 [00:00<?, ?it/s]"
      ]
     },
     "metadata": {},
     "output_type": "display_data"
    },
    {
     "data": {
      "application/vnd.jupyter.widget-view+json": {
       "model_id": "d477f100c035495a9270d04d079db839",
       "version_major": 2,
       "version_minor": 0
      },
      "text/plain": [
       "Validation:   0%|          | 0/23 [00:00<?, ?it/s]"
      ]
     },
     "metadata": {},
     "output_type": "display_data"
    },
    {
     "name": "stdout",
     "output_type": "stream",
     "text": [
      "\n",
      "Epoch 100/100:\n",
      "Training Loss: 0.0026\n",
      "Validation Loss: 0.1337\n",
      "Accuracy: 0.9770\n",
      "Hamming Loss: 0.0230\n",
      "\n"
     ]
    }
   ],
   "source": [
    "\n",
    "# Initialize model\n",
    "model = MultilingualMultiLabelClassifier(num_classes=96)\n",
    "\n",
    "# Sample data (replace with your actual data)\n",
    "# texts = [\"Sample text in any language\"] * 100\n",
    "texts = train_df[\"text\"].values\n",
    "# Create random one-hot encoded labels for demonstration\n",
    "labels = train_df.iloc[:, 2:].values\n",
    "# labels = np.random.randint(0, 2, size=(100, 96)).astype(np.float32)\n",
    "\n",
    "# Create dataset\n",
    "dataset = MultilingualMultiLabelDataset(texts=texts, labels=labels)\n",
    "\n",
    "# Create data loaders\n",
    "train_size = int(0.8 * len(dataset))\n",
    "val_size = len(dataset) - train_size\n",
    "train_dataset, val_dataset = torch.utils.data.random_split(dataset, [train_size, val_size])\n",
    "\n",
    "train_dataloader = DataLoader(train_dataset, batch_size=16, shuffle=True)\n",
    "val_dataloader = DataLoader(val_dataset, batch_size=16)\n",
    "\n",
    "# Train model\n",
    "train_model(model, train_dataloader, val_dataloader,num_epochs=100)\n"
   ]
  },
  {
   "cell_type": "code",
   "execution_count": 33,
   "metadata": {},
   "outputs": [
    {
     "name": "stdout",
     "output_type": "stream",
     "text": [
      "Predicted labels (1 indicates presence of class):\n",
      "[False False False False False False False False False False False False\n",
      " False False False False False False False False False False False False\n",
      " False False False False False False False False False False False False\n",
      " False False False False False False False False False False  True False\n",
      " False False False False False False False False False False False False\n",
      " False False False False False False False False False False False False\n",
      " False False False False False False False False False False False False\n",
      " False False False False False False False False False False False False]\n",
      "\n",
      "Class probabilities:\n",
      "[6.05424646e-07 4.84351722e-06 1.64131825e-06 2.19881613e-07\n",
      " 5.09494498e-07 2.74752328e-08 1.04448702e-07 1.13007470e-08\n",
      " 6.05802630e-11 3.45098101e-08 3.63955728e-08 1.57961480e-07\n",
      " 4.34269936e-07 5.13727088e-08 1.18929480e-08 1.99340420e-08\n",
      " 1.39503868e-07 7.44456258e-07 6.05109960e-07 5.76414095e-07\n",
      " 4.25779831e-07 5.95227334e-08 3.72625863e-07 1.90853029e-06\n",
      " 2.55649638e-07 1.38856649e-07 1.47588182e-07 9.22249832e-10\n",
      " 1.07716581e-07 1.85130045e-08 2.41343674e-08 1.43904333e-09\n",
      " 3.09108614e-08 3.27893552e-08 3.97027497e-06 9.00814641e-08\n",
      " 4.39738159e-07 9.67622249e-09 2.10602487e-08 5.64026230e-08\n",
      " 2.22908589e-08 2.06740203e-09 1.48002783e-08 2.93998692e-08\n",
      " 6.66614000e-08 7.30731600e-08 8.39769185e-01 2.72297359e-04\n",
      " 9.67863575e-03 2.53915146e-04 1.12413382e-02 2.66235210e-02\n",
      " 1.51285538e-04 3.47049998e-08 1.31208086e-04 1.14719505e-05\n",
      " 1.27230096e-03 1.16623105e-05 4.70781990e-04 5.68647374e-06\n",
      " 1.77600786e-01 1.76173689e-05 5.55328938e-07 2.39071284e-07\n",
      " 1.13943952e-05 1.87424139e-05 3.12195603e-08 9.01802909e-03\n",
      " 1.10036376e-06 3.87709122e-04 3.22141730e-10 2.13173803e-06\n",
      " 1.89219054e-06 1.23522454e-06 8.44441445e-07 4.74751614e-05\n",
      " 5.14469668e-02 2.16803627e-07 4.63023207e-06 2.47738831e-06\n",
      " 4.40364687e-08 2.24089599e-03 1.05072271e-04 1.05802712e-04\n",
      " 4.16344346e-06 1.05952131e-06 5.08987387e-06 4.11427027e-04\n",
      " 1.89899802e-05 1.47620995e-06 3.20480613e-04 1.43017502e-07\n",
      " 1.77873773e-07 7.94822711e-07 9.74926807e-04 1.12898178e-07]\n"
     ]
    }
   ],
   "source": [
    "\n",
    "text = \"Ukraine is responsible for the war. It's closeness to NATO is the reason for the war\"\n",
    "predicted_labels, class_probabilities = predict(model, text)\n",
    "print(\"Predicted labels (1 indicates presence of class):\")\n",
    "print(predicted_labels)\n",
    "print(\"\\nClass probabilities:\")\n",
    "print(class_probabilities)"
   ]
  },
  {
   "cell_type": "code",
   "execution_count": 20,
   "metadata": {},
   "outputs": [
    {
     "data": {
      "text/plain": [
       "np.int64(1)"
      ]
     },
     "execution_count": 20,
     "metadata": {},
     "output_type": "execute_result"
    }
   ],
   "source": [
    "predicted_labels.sum()"
   ]
  },
  {
   "cell_type": "code",
   "execution_count": 34,
   "metadata": {},
   "outputs": [],
   "source": [
    "dev_df = pd.read_csv(\"/home/ka55gawy/semeval2025/task_data/subtask2_hf/EN_fine-grained/dev.csv\")"
   ]
  },
  {
   "cell_type": "code",
   "execution_count": 35,
   "metadata": {},
   "outputs": [],
   "source": [
    "\n",
    "texts = dev_df[\"text\"].values\n",
    "all_predictions = []\n",
    "for text in texts:\n",
    "    predicted_labels, class_probabilities = predict(model, text)\n",
    "    # print(\"Predicted labels (1 indicates presence of class)?:\")\n",
    "\n",
    "    all_predictions.append(np.array(predicted_labels).astype(int))\n",
    "    # print(\"\\nClass probabilities:\")"
   ]
  },
  {
   "cell_type": "code",
   "execution_count": null,
   "metadata": {},
   "outputs": [],
   "source": []
  },
  {
   "cell_type": "code",
   "execution_count": 36,
   "metadata": {},
   "outputs": [],
   "source": [
    "res_df = dev_df[[\"file\",\"text\"]]"
   ]
  },
  {
   "cell_type": "code",
   "execution_count": 37,
   "metadata": {},
   "outputs": [],
   "source": [
    "res_df = pd.concat([res_df,pd.DataFrame(all_predictions,columns=dev_df.columns[2:])],axis=1)"
   ]
  },
  {
   "cell_type": "code",
   "execution_count": 38,
   "metadata": {},
   "outputs": [],
   "source": [
    "res_df.to_csv(\"results_finegrained.csv\",index=False)"
   ]
  },
  {
   "cell_type": "code",
   "execution_count": 39,
   "metadata": {},
   "outputs": [
    {
     "data": {
      "text/plain": [
       "CC: Amplifying Climate Fears: Amplifying existing fears of global warming             False\n",
       "CC: Amplifying Climate Fears: Doomsday scenarios for humans                           False\n",
       "CC: Amplifying Climate Fears: Earth will be uninhabitable soon                        False\n",
       "CC: Amplifying Climate Fears: Whatever we do it is already too late                   False\n",
       "CC: Amplifying Climate Fears: Other                                                   False\n",
       "                                                                                      ...  \n",
       "URW: Speculating war outcomes: Russian army is collapsing                             False\n",
       "URW: Speculating war outcomes: Russian army will lose all the occupied territories    False\n",
       "URW: Speculating war outcomes: Ukrainian army is collapsing                           False\n",
       "URW: Speculating war outcomes: Other                                                  False\n",
       "Other                                                                                 False\n",
       "Name: 0, Length: 96, dtype: bool"
      ]
     },
     "execution_count": 39,
     "metadata": {},
     "output_type": "execute_result"
    }
   ],
   "source": [
    "dev_df.iloc[:,2:].iloc[0] == predicted_labels.sum\n"
   ]
  },
  {
   "cell_type": "code",
   "execution_count": null,
   "metadata": {},
   "outputs": [],
   "source": []
  },
  {
   "cell_type": "code",
   "execution_count": 40,
   "metadata": {},
   "outputs": [],
   "source": [
    "\n",
    "tokenizer = XLMRobertaTokenizer.from_pretrained('xlm-roberta-base')"
   ]
  },
  {
   "cell_type": "code",
   "execution_count": 41,
   "metadata": {},
   "outputs": [
    {
     "name": "stdout",
     "output_type": "stream",
     "text": [
      "Model and tokenizer saved to ./model\n"
     ]
    }
   ],
   "source": [
    "save_model(model, tokenizer, \"./model\")"
   ]
  },
  {
   "cell_type": "code",
   "execution_count": 2,
   "metadata": {},
   "outputs": [],
   "source": [
    "def save_model(model, tokenizer, output_dir: str):\n",
    "    \"\"\"\n",
    "    Save the model and tokenizer to disk\n",
    "    \n",
    "    Args:\n",
    "        model: The trained model\n",
    "        tokenizer: The tokenizer\n",
    "        output_dir: Directory to save the model and tokenizer\n",
    "    \"\"\"\n",
    "    import os\n",
    "    import json\n",
    "    \n",
    "    # Create output directory if it doesn't exist\n",
    "    os.makedirs(output_dir, exist_ok=True)\n",
    "    \n",
    "    # Save the base RoBERTa model\n",
    "    model.roberta.save_pretrained(os.path.join(output_dir, \"roberta_base\"))\n",
    "    \n",
    "    # Save tokenizer\n",
    "    tokenizer.save_pretrained(output_dir)\n",
    "    \n",
    "    # Save model state dict (includes classifier layers)\n",
    "    torch.save(model.state_dict(), os.path.join(output_dir, \"model_state_dict.pt\"))\n",
    "    \n",
    "    # Save model configuration\n",
    "    config = {\n",
    "        'num_classes': 96,\n",
    "        'hidden_dim': model.hidden_dim,\n",
    "        'dropout': 0.1  # Save dropout rate if needed\n",
    "    }\n",
    "    \n",
    "    with open(os.path.join(output_dir, \"model_config.json\"), 'w') as f:\n",
    "        json.dump(config, f)\n",
    "    \n",
    "    print(f\"Model and tokenizer saved to {output_dir}\")\n",
    "\n",
    "def load_model(model_dir: str, device='cuda'):\n",
    "    \"\"\"\n",
    "    Load the model and tokenizer from disk\n",
    "    \n",
    "    Args:\n",
    "        model_dir: Directory containing the saved model and tokenizer\n",
    "        device: Device to load the model on\n",
    "    \n",
    "    Returns:\n",
    "        model: The loaded model\n",
    "        tokenizer: The loaded tokenizer\n",
    "    \"\"\"\n",
    "    import os\n",
    "    import json\n",
    "    \n",
    "    # Load model configuration\n",
    "    config_path = os.path.join(model_dir, \"model_config.json\")\n",
    "    if not os.path.exists(config_path):\n",
    "        raise FileNotFoundError(f\"Model config not found at {config_path}\")\n",
    "    \n",
    "    with open(config_path, 'r') as f:\n",
    "        config = json.load(f)\n",
    "    \n",
    "    # Initialize model with saved configuration\n",
    "    model = MultilingualMultiLabelClassifier(\n",
    "        num_classes=config['num_classes']\n",
    "    )\n",
    "    \n",
    "    # Load the base RoBERTa model\n",
    "    roberta_path = os.path.join(model_dir, \"roberta_base\")\n",
    "    model.roberta = XLMRobertaModel.from_pretrained(roberta_path)\n",
    "    \n",
    "    # Load tokenizer\n",
    "    tokenizer = XLMRobertaTokenizer.from_pretrained(model_dir)\n",
    "    \n",
    "    # Load state dict\n",
    "    state_dict_path = os.path.join(model_dir, \"model_state_dict.pt\")\n",
    "    if os.path.exists(state_dict_path):\n",
    "        model.load_state_dict(torch.load(state_dict_path, map_location=device))\n",
    "    else:\n",
    "        raise FileNotFoundError(f\"Model state dict not found at {state_dict_path}\")\n",
    "    \n",
    "    model = model.to(device)\n",
    "    model.eval()\n",
    "    \n",
    "    return model, tokenizer\n"
   ]
  },
  {
   "cell_type": "markdown",
   "metadata": {},
   "source": [
    "# Prepare results for testing"
   ]
  },
  {
   "cell_type": "code",
   "execution_count": 2,
   "metadata": {},
   "outputs": [],
   "source": [
    "import pandas as pd"
   ]
  },
  {
   "cell_type": "code",
   "execution_count": 36,
   "metadata": {},
   "outputs": [],
   "source": [
    "res_df = pd.read_csv(\"results_finegrained.csv\")"
   ]
  },
  {
   "cell_type": "code",
   "execution_count": 37,
   "metadata": {},
   "outputs": [],
   "source": [
    "# Function to get labels for each row\n",
    "def get_labels(row):\n",
    "    # Skip the 'file' and 'text' columns\n",
    "    label_columns = row.index[2:]\n",
    "    # Get column names where value is 1\n",
    "    labels = [col for col in label_columns if row[col] == 1]\n",
    "    # Clean up the labels (remove the category prefix if desired)\n",
    "    labels = [label.split(': ')[-1] for label in labels]\n",
    "    return labels\n",
    "\n",
    "# Create a new column with the labels\n",
    "res_df['labels'] = res_df.apply(get_labels, axis=1)\n",
    "\n",
    "# Keep only essential columns\n",
    "res_df = res_df[['file', 'text', 'labels']]"
   ]
  },
  {
   "cell_type": "code",
   "execution_count": 38,
   "metadata": {},
   "outputs": [],
   "source": [
    "res_df[\"len\"] = res_df[\"labels\"].apply(lambda x: len(x))"
   ]
  },
  {
   "cell_type": "code",
   "execution_count": 39,
   "metadata": {},
   "outputs": [
    {
     "data": {
      "text/html": [
       "<div>\n",
       "<style scoped>\n",
       "    .dataframe tbody tr th:only-of-type {\n",
       "        vertical-align: middle;\n",
       "    }\n",
       "\n",
       "    .dataframe tbody tr th {\n",
       "        vertical-align: top;\n",
       "    }\n",
       "\n",
       "    .dataframe thead th {\n",
       "        text-align: right;\n",
       "    }\n",
       "</style>\n",
       "<table border=\"1\" class=\"dataframe\">\n",
       "  <thead>\n",
       "    <tr style=\"text-align: right;\">\n",
       "      <th></th>\n",
       "      <th>file</th>\n",
       "      <th>text</th>\n",
       "      <th>labels</th>\n",
       "      <th>len</th>\n",
       "    </tr>\n",
       "  </thead>\n",
       "  <tbody>\n",
       "    <tr>\n",
       "      <th>0</th>\n",
       "      <td>EN_CC_200030.txt</td>\n",
       "      <td>Bangladesh, Nordic countries to strengthen coo...</td>\n",
       "      <td>[Other]</td>\n",
       "      <td>1</td>\n",
       "    </tr>\n",
       "    <tr>\n",
       "      <th>1</th>\n",
       "      <td>EN_CC_200033.txt</td>\n",
       "      <td>Greta Thunberg Calls For 'Overthrow of Whole C...</td>\n",
       "      <td>[Ad hominem attacks on key activists]</td>\n",
       "      <td>1</td>\n",
       "    </tr>\n",
       "    <tr>\n",
       "      <th>2</th>\n",
       "      <td>EN_CC_200034.txt</td>\n",
       "      <td>If we “just stop oil” like climate protesters ...</td>\n",
       "      <td>[Climate agenda has hidden motives]</td>\n",
       "      <td>1</td>\n",
       "    </tr>\n",
       "    <tr>\n",
       "      <th>3</th>\n",
       "      <td>EN_CC_200035.txt</td>\n",
       "      <td>Gretchen Whitmer Orders Michigan’s State Fleet...</td>\n",
       "      <td>[Other]</td>\n",
       "      <td>1</td>\n",
       "    </tr>\n",
       "    <tr>\n",
       "      <th>4</th>\n",
       "      <td>EN_CC_200036.txt</td>\n",
       "      <td>Climate cultists push bizarre scare language a...</td>\n",
       "      <td>[Ad hominem attacks on key activists]</td>\n",
       "      <td>1</td>\n",
       "    </tr>\n",
       "    <tr>\n",
       "      <th>5</th>\n",
       "      <td>EN_CC_200040.txt</td>\n",
       "      <td>Climate Protesters Out Of Control As They Atta...</td>\n",
       "      <td>[]</td>\n",
       "      <td>0</td>\n",
       "    </tr>\n",
       "    <tr>\n",
       "      <th>6</th>\n",
       "      <td>EN_CC_200046.txt</td>\n",
       "      <td>CO2 is the GREENING molecule: New study shows ...</td>\n",
       "      <td>[]</td>\n",
       "      <td>0</td>\n",
       "    </tr>\n",
       "    <tr>\n",
       "      <th>7</th>\n",
       "      <td>EN_CC_200047.txt</td>\n",
       "      <td>89% of ‘American Elites’ Back WEF’s Plan to Ra...</td>\n",
       "      <td>[Other, Climate movement is alarmist, Criticis...</td>\n",
       "      <td>6</td>\n",
       "    </tr>\n",
       "    <tr>\n",
       "      <th>8</th>\n",
       "      <td>EN_CC_200049.txt</td>\n",
       "      <td>Alarmists Warn of U.S. ‘Heat Dome’ Tied to Hum...</td>\n",
       "      <td>[]</td>\n",
       "      <td>0</td>\n",
       "    </tr>\n",
       "    <tr>\n",
       "      <th>9</th>\n",
       "      <td>EN_CC_200050.txt</td>\n",
       "      <td>Link to Major Banks Bend The Knee To Climate A...</td>\n",
       "      <td>[]</td>\n",
       "      <td>0</td>\n",
       "    </tr>\n",
       "    <tr>\n",
       "      <th>10</th>\n",
       "      <td>EN_CC_200053.txt</td>\n",
       "      <td>UK’s Sunak Reverses Decision to Skip COP27 Cli...</td>\n",
       "      <td>[Other]</td>\n",
       "      <td>1</td>\n",
       "    </tr>\n",
       "    <tr>\n",
       "      <th>11</th>\n",
       "      <td>EN_CC_200054.txt</td>\n",
       "      <td>EU Central Banker Pushes Bitcoin Ban Under Gui...</td>\n",
       "      <td>[]</td>\n",
       "      <td>0</td>\n",
       "    </tr>\n",
       "    <tr>\n",
       "      <th>12</th>\n",
       "      <td>EN_CC_200060.txt</td>\n",
       "      <td>French state bank to end financing of oil and ...</td>\n",
       "      <td>[Other]</td>\n",
       "      <td>1</td>\n",
       "    </tr>\n",
       "    <tr>\n",
       "      <th>13</th>\n",
       "      <td>EN_CC_200063.txt</td>\n",
       "      <td>How to Reestablish the Authority of Corporate ...</td>\n",
       "      <td>[]</td>\n",
       "      <td>0</td>\n",
       "    </tr>\n",
       "    <tr>\n",
       "      <th>14</th>\n",
       "      <td>EN_CC_200064.txt</td>\n",
       "      <td>Watch: Eco-Loon Decked by Camera Crane After S...</td>\n",
       "      <td>[Other]</td>\n",
       "      <td>1</td>\n",
       "    </tr>\n",
       "    <tr>\n",
       "      <th>15</th>\n",
       "      <td>EN_CC_200065.txt</td>\n",
       "      <td>Climate Alarmists Warn of ‘Hottest Day in Thou...</td>\n",
       "      <td>[]</td>\n",
       "      <td>0</td>\n",
       "    </tr>\n",
       "    <tr>\n",
       "      <th>16</th>\n",
       "      <td>EN_CC_200069.txt</td>\n",
       "      <td>Oxford Residents Mount Resistance Against the ...</td>\n",
       "      <td>[Blaming global elites]</td>\n",
       "      <td>1</td>\n",
       "    </tr>\n",
       "    <tr>\n",
       "      <th>17</th>\n",
       "      <td>EN_CC_200070.txt</td>\n",
       "      <td>Wat? L.A. Mayor Garcetti Flies to Argentina to...</td>\n",
       "      <td>[Other]</td>\n",
       "      <td>1</td>\n",
       "    </tr>\n",
       "    <tr>\n",
       "      <th>18</th>\n",
       "      <td>EN_CC_200071.txt</td>\n",
       "      <td>Biden’s green policies are making housing no l...</td>\n",
       "      <td>[Climate policies have negative impact on the ...</td>\n",
       "      <td>2</td>\n",
       "    </tr>\n",
       "    <tr>\n",
       "      <th>19</th>\n",
       "      <td>EN_CC_200077.txt</td>\n",
       "      <td>OBEY THE GREEN: Blue states depriving rural co...</td>\n",
       "      <td>[Climate policies have negative impact on the ...</td>\n",
       "      <td>3</td>\n",
       "    </tr>\n",
       "    <tr>\n",
       "      <th>20</th>\n",
       "      <td>EN_CC_200078.txt</td>\n",
       "      <td>Greta Thunberg Detained Again At Anti-Coal Pro...</td>\n",
       "      <td>[Other]</td>\n",
       "      <td>1</td>\n",
       "    </tr>\n",
       "    <tr>\n",
       "      <th>21</th>\n",
       "      <td>EN_CC_200079.txt</td>\n",
       "      <td>Klaus Schwab Wants To Ban People Washing Their...</td>\n",
       "      <td>[]</td>\n",
       "      <td>0</td>\n",
       "    </tr>\n",
       "    <tr>\n",
       "      <th>22</th>\n",
       "      <td>EN_CC_200081.txt</td>\n",
       "      <td>Green Madness: Leftist Scottish Govt Cut Down ...</td>\n",
       "      <td>[Climate agenda has hidden motives]</td>\n",
       "      <td>1</td>\n",
       "    </tr>\n",
       "    <tr>\n",
       "      <th>23</th>\n",
       "      <td>EN_CC_200085.txt</td>\n",
       "      <td>The Great California Wind Energy Ripoff… \\n\\n ...</td>\n",
       "      <td>[Other]</td>\n",
       "      <td>1</td>\n",
       "    </tr>\n",
       "    <tr>\n",
       "      <th>24</th>\n",
       "      <td>EN_UA_DEV_100002.txt</td>\n",
       "      <td>Ukrainian nationalism, Ukrainian patriotism wi...</td>\n",
       "      <td>[The West are the aggressors]</td>\n",
       "      <td>1</td>\n",
       "    </tr>\n",
       "    <tr>\n",
       "      <th>25</th>\n",
       "      <td>EN_UA_DEV_100003.txt</td>\n",
       "      <td>Medvedev: Russia Seeks More in Ukraine, 'Proba...</td>\n",
       "      <td>[Other]</td>\n",
       "      <td>1</td>\n",
       "    </tr>\n",
       "    <tr>\n",
       "      <th>26</th>\n",
       "      <td>EN_UA_DEV_100004.txt</td>\n",
       "      <td>RUSSIANS TO CUT COKE PLANT FROM AVDEEVKA \\n\\nW...</td>\n",
       "      <td>[]</td>\n",
       "      <td>0</td>\n",
       "    </tr>\n",
       "    <tr>\n",
       "      <th>27</th>\n",
       "      <td>EN_UA_DEV_100005.txt</td>\n",
       "      <td>New Sarah Westall &amp; Scott Ritter: Russia is Wi...</td>\n",
       "      <td>[By continuing the war we risk WWIII, There is...</td>\n",
       "      <td>2</td>\n",
       "    </tr>\n",
       "    <tr>\n",
       "      <th>28</th>\n",
       "      <td>EN_UA_DEV_100012.txt</td>\n",
       "      <td>Ukraine's Minerals: What the West is Fighting ...</td>\n",
       "      <td>[]</td>\n",
       "      <td>0</td>\n",
       "    </tr>\n",
       "    <tr>\n",
       "      <th>29</th>\n",
       "      <td>EN_UA_DEV_100013.txt</td>\n",
       "      <td>Former Commander-in-Chief of Ukrainian Armed F...</td>\n",
       "      <td>[]</td>\n",
       "      <td>0</td>\n",
       "    </tr>\n",
       "    <tr>\n",
       "      <th>30</th>\n",
       "      <td>EN_UA_DEV_100019.txt</td>\n",
       "      <td>Microsoft: Russians Have Begun Targeting 2024 ...</td>\n",
       "      <td>[Other]</td>\n",
       "      <td>1</td>\n",
       "    </tr>\n",
       "    <tr>\n",
       "      <th>31</th>\n",
       "      <td>EN_UA_DEV_100026.txt</td>\n",
       "      <td>How Green Fanaticism and the Sanctions Regime ...</td>\n",
       "      <td>[]</td>\n",
       "      <td>0</td>\n",
       "    </tr>\n",
       "    <tr>\n",
       "      <th>32</th>\n",
       "      <td>EN_UA_DEV_100029.txt</td>\n",
       "      <td>General Milley: Russian military stocks rapidl...</td>\n",
       "      <td>[]</td>\n",
       "      <td>0</td>\n",
       "    </tr>\n",
       "    <tr>\n",
       "      <th>33</th>\n",
       "      <td>EN_UA_DEV_100033.txt</td>\n",
       "      <td>Wild Kremlin TV hosts threaten the U.S. with n...</td>\n",
       "      <td>[There is a real possibility that nuclear weap...</td>\n",
       "      <td>1</td>\n",
       "    </tr>\n",
       "    <tr>\n",
       "      <th>34</th>\n",
       "      <td>EN_UA_DEV_100034.txt</td>\n",
       "      <td>Opinion: Restructuring Ukrainian debt is a ste...</td>\n",
       "      <td>[]</td>\n",
       "      <td>0</td>\n",
       "    </tr>\n",
       "    <tr>\n",
       "      <th>35</th>\n",
       "      <td>EN_UA_DEV_100036.txt</td>\n",
       "      <td>Opinion: The unseen scars of Ukraine's mental ...</td>\n",
       "      <td>[]</td>\n",
       "      <td>0</td>\n",
       "    </tr>\n",
       "    <tr>\n",
       "      <th>36</th>\n",
       "      <td>EN_UA_DEV_20.txt</td>\n",
       "      <td>There Are Only Downsides To Prolonging The War...</td>\n",
       "      <td>[]</td>\n",
       "      <td>0</td>\n",
       "    </tr>\n",
       "    <tr>\n",
       "      <th>37</th>\n",
       "      <td>EN_UA_DEV_213.txt</td>\n",
       "      <td>US and NATO escalation of conflict with Russia...</td>\n",
       "      <td>[The West are the aggressors]</td>\n",
       "      <td>1</td>\n",
       "    </tr>\n",
       "    <tr>\n",
       "      <th>38</th>\n",
       "      <td>EN_UA_DEV_214.txt</td>\n",
       "      <td>My Take | Nato barbarians are expanding and ga...</td>\n",
       "      <td>[The West are the aggressors, Other]</td>\n",
       "      <td>2</td>\n",
       "    </tr>\n",
       "    <tr>\n",
       "      <th>39</th>\n",
       "      <td>EN_UA_DEV_215.txt</td>\n",
       "      <td>Corruption In Ukraine Remains A Major Problem ...</td>\n",
       "      <td>[]</td>\n",
       "      <td>0</td>\n",
       "    </tr>\n",
       "    <tr>\n",
       "      <th>40</th>\n",
       "      <td>EN_UA_DEV_22.txt</td>\n",
       "      <td>European Parliament members clash over support...</td>\n",
       "      <td>[]</td>\n",
       "      <td>0</td>\n",
       "    </tr>\n",
       "  </tbody>\n",
       "</table>\n",
       "</div>"
      ],
      "text/plain": [
       "                    file                                               text  \\\n",
       "0       EN_CC_200030.txt  Bangladesh, Nordic countries to strengthen coo...   \n",
       "1       EN_CC_200033.txt  Greta Thunberg Calls For 'Overthrow of Whole C...   \n",
       "2       EN_CC_200034.txt  If we “just stop oil” like climate protesters ...   \n",
       "3       EN_CC_200035.txt  Gretchen Whitmer Orders Michigan’s State Fleet...   \n",
       "4       EN_CC_200036.txt  Climate cultists push bizarre scare language a...   \n",
       "5       EN_CC_200040.txt  Climate Protesters Out Of Control As They Atta...   \n",
       "6       EN_CC_200046.txt  CO2 is the GREENING molecule: New study shows ...   \n",
       "7       EN_CC_200047.txt  89% of ‘American Elites’ Back WEF’s Plan to Ra...   \n",
       "8       EN_CC_200049.txt  Alarmists Warn of U.S. ‘Heat Dome’ Tied to Hum...   \n",
       "9       EN_CC_200050.txt  Link to Major Banks Bend The Knee To Climate A...   \n",
       "10      EN_CC_200053.txt  UK’s Sunak Reverses Decision to Skip COP27 Cli...   \n",
       "11      EN_CC_200054.txt  EU Central Banker Pushes Bitcoin Ban Under Gui...   \n",
       "12      EN_CC_200060.txt  French state bank to end financing of oil and ...   \n",
       "13      EN_CC_200063.txt  How to Reestablish the Authority of Corporate ...   \n",
       "14      EN_CC_200064.txt  Watch: Eco-Loon Decked by Camera Crane After S...   \n",
       "15      EN_CC_200065.txt  Climate Alarmists Warn of ‘Hottest Day in Thou...   \n",
       "16      EN_CC_200069.txt  Oxford Residents Mount Resistance Against the ...   \n",
       "17      EN_CC_200070.txt  Wat? L.A. Mayor Garcetti Flies to Argentina to...   \n",
       "18      EN_CC_200071.txt  Biden’s green policies are making housing no l...   \n",
       "19      EN_CC_200077.txt  OBEY THE GREEN: Blue states depriving rural co...   \n",
       "20      EN_CC_200078.txt  Greta Thunberg Detained Again At Anti-Coal Pro...   \n",
       "21      EN_CC_200079.txt  Klaus Schwab Wants To Ban People Washing Their...   \n",
       "22      EN_CC_200081.txt  Green Madness: Leftist Scottish Govt Cut Down ...   \n",
       "23      EN_CC_200085.txt  The Great California Wind Energy Ripoff… \\n\\n ...   \n",
       "24  EN_UA_DEV_100002.txt  Ukrainian nationalism, Ukrainian patriotism wi...   \n",
       "25  EN_UA_DEV_100003.txt  Medvedev: Russia Seeks More in Ukraine, 'Proba...   \n",
       "26  EN_UA_DEV_100004.txt  RUSSIANS TO CUT COKE PLANT FROM AVDEEVKA \\n\\nW...   \n",
       "27  EN_UA_DEV_100005.txt  New Sarah Westall & Scott Ritter: Russia is Wi...   \n",
       "28  EN_UA_DEV_100012.txt  Ukraine's Minerals: What the West is Fighting ...   \n",
       "29  EN_UA_DEV_100013.txt  Former Commander-in-Chief of Ukrainian Armed F...   \n",
       "30  EN_UA_DEV_100019.txt  Microsoft: Russians Have Begun Targeting 2024 ...   \n",
       "31  EN_UA_DEV_100026.txt  How Green Fanaticism and the Sanctions Regime ...   \n",
       "32  EN_UA_DEV_100029.txt  General Milley: Russian military stocks rapidl...   \n",
       "33  EN_UA_DEV_100033.txt  Wild Kremlin TV hosts threaten the U.S. with n...   \n",
       "34  EN_UA_DEV_100034.txt  Opinion: Restructuring Ukrainian debt is a ste...   \n",
       "35  EN_UA_DEV_100036.txt  Opinion: The unseen scars of Ukraine's mental ...   \n",
       "36      EN_UA_DEV_20.txt  There Are Only Downsides To Prolonging The War...   \n",
       "37     EN_UA_DEV_213.txt  US and NATO escalation of conflict with Russia...   \n",
       "38     EN_UA_DEV_214.txt  My Take | Nato barbarians are expanding and ga...   \n",
       "39     EN_UA_DEV_215.txt  Corruption In Ukraine Remains A Major Problem ...   \n",
       "40      EN_UA_DEV_22.txt  European Parliament members clash over support...   \n",
       "\n",
       "                                               labels  len  \n",
       "0                                             [Other]    1  \n",
       "1               [Ad hominem attacks on key activists]    1  \n",
       "2                 [Climate agenda has hidden motives]    1  \n",
       "3                                             [Other]    1  \n",
       "4               [Ad hominem attacks on key activists]    1  \n",
       "5                                                  []    0  \n",
       "6                                                  []    0  \n",
       "7   [Other, Climate movement is alarmist, Criticis...    6  \n",
       "8                                                  []    0  \n",
       "9                                                  []    0  \n",
       "10                                            [Other]    1  \n",
       "11                                                 []    0  \n",
       "12                                            [Other]    1  \n",
       "13                                                 []    0  \n",
       "14                                            [Other]    1  \n",
       "15                                                 []    0  \n",
       "16                            [Blaming global elites]    1  \n",
       "17                                            [Other]    1  \n",
       "18  [Climate policies have negative impact on the ...    2  \n",
       "19  [Climate policies have negative impact on the ...    3  \n",
       "20                                            [Other]    1  \n",
       "21                                                 []    0  \n",
       "22                [Climate agenda has hidden motives]    1  \n",
       "23                                            [Other]    1  \n",
       "24                      [The West are the aggressors]    1  \n",
       "25                                            [Other]    1  \n",
       "26                                                 []    0  \n",
       "27  [By continuing the war we risk WWIII, There is...    2  \n",
       "28                                                 []    0  \n",
       "29                                                 []    0  \n",
       "30                                            [Other]    1  \n",
       "31                                                 []    0  \n",
       "32                                                 []    0  \n",
       "33  [There is a real possibility that nuclear weap...    1  \n",
       "34                                                 []    0  \n",
       "35                                                 []    0  \n",
       "36                                                 []    0  \n",
       "37                      [The West are the aggressors]    1  \n",
       "38               [The West are the aggressors, Other]    2  \n",
       "39                                                 []    0  \n",
       "40                                                 []    0  "
      ]
     },
     "execution_count": 39,
     "metadata": {},
     "output_type": "execute_result"
    }
   ],
   "source": [
    "res_df"
   ]
  },
  {
   "cell_type": "code",
   "execution_count": 40,
   "metadata": {},
   "outputs": [],
   "source": [
    "res_df['label_fin'] = res_df['labels'].apply(lambda x: ';'.join(x) if len(x) > 0 else '')"
   ]
  },
  {
   "cell_type": "code",
   "execution_count": 44,
   "metadata": {},
   "outputs": [],
   "source": [
    "res_df['label_fin'] = res_df.apply(lambda x: 'Other' if x['len'] == 0 else x['label_fin'], axis=1)"
   ]
  },
  {
   "cell_type": "code",
   "execution_count": 48,
   "metadata": {},
   "outputs": [],
   "source": [
    "res_df = res_df[[\"file\", \"label_fin\"]]"
   ]
  },
  {
   "cell_type": "code",
   "execution_count": 49,
   "metadata": {},
   "outputs": [
    {
     "data": {
      "text/html": [
       "<div>\n",
       "<style scoped>\n",
       "    .dataframe tbody tr th:only-of-type {\n",
       "        vertical-align: middle;\n",
       "    }\n",
       "\n",
       "    .dataframe tbody tr th {\n",
       "        vertical-align: top;\n",
       "    }\n",
       "\n",
       "    .dataframe thead th {\n",
       "        text-align: right;\n",
       "    }\n",
       "</style>\n",
       "<table border=\"1\" class=\"dataframe\">\n",
       "  <thead>\n",
       "    <tr style=\"text-align: right;\">\n",
       "      <th></th>\n",
       "      <th>file</th>\n",
       "      <th>label_fin</th>\n",
       "    </tr>\n",
       "  </thead>\n",
       "  <tbody>\n",
       "    <tr>\n",
       "      <th>0</th>\n",
       "      <td>EN_CC_200030.txt</td>\n",
       "      <td>Other</td>\n",
       "    </tr>\n",
       "    <tr>\n",
       "      <th>1</th>\n",
       "      <td>EN_CC_200033.txt</td>\n",
       "      <td>Ad hominem attacks on key activists</td>\n",
       "    </tr>\n",
       "    <tr>\n",
       "      <th>2</th>\n",
       "      <td>EN_CC_200034.txt</td>\n",
       "      <td>Climate agenda has hidden motives</td>\n",
       "    </tr>\n",
       "    <tr>\n",
       "      <th>3</th>\n",
       "      <td>EN_CC_200035.txt</td>\n",
       "      <td>Other</td>\n",
       "    </tr>\n",
       "    <tr>\n",
       "      <th>4</th>\n",
       "      <td>EN_CC_200036.txt</td>\n",
       "      <td>Ad hominem attacks on key activists</td>\n",
       "    </tr>\n",
       "    <tr>\n",
       "      <th>5</th>\n",
       "      <td>EN_CC_200040.txt</td>\n",
       "      <td>Other</td>\n",
       "    </tr>\n",
       "    <tr>\n",
       "      <th>6</th>\n",
       "      <td>EN_CC_200046.txt</td>\n",
       "      <td>Other</td>\n",
       "    </tr>\n",
       "    <tr>\n",
       "      <th>7</th>\n",
       "      <td>EN_CC_200047.txt</td>\n",
       "      <td>Other;Climate movement is alarmist;Criticism o...</td>\n",
       "    </tr>\n",
       "    <tr>\n",
       "      <th>8</th>\n",
       "      <td>EN_CC_200049.txt</td>\n",
       "      <td>Other</td>\n",
       "    </tr>\n",
       "    <tr>\n",
       "      <th>9</th>\n",
       "      <td>EN_CC_200050.txt</td>\n",
       "      <td>Other</td>\n",
       "    </tr>\n",
       "    <tr>\n",
       "      <th>10</th>\n",
       "      <td>EN_CC_200053.txt</td>\n",
       "      <td>Other</td>\n",
       "    </tr>\n",
       "    <tr>\n",
       "      <th>11</th>\n",
       "      <td>EN_CC_200054.txt</td>\n",
       "      <td>Other</td>\n",
       "    </tr>\n",
       "    <tr>\n",
       "      <th>12</th>\n",
       "      <td>EN_CC_200060.txt</td>\n",
       "      <td>Other</td>\n",
       "    </tr>\n",
       "    <tr>\n",
       "      <th>13</th>\n",
       "      <td>EN_CC_200063.txt</td>\n",
       "      <td>Other</td>\n",
       "    </tr>\n",
       "    <tr>\n",
       "      <th>14</th>\n",
       "      <td>EN_CC_200064.txt</td>\n",
       "      <td>Other</td>\n",
       "    </tr>\n",
       "    <tr>\n",
       "      <th>15</th>\n",
       "      <td>EN_CC_200065.txt</td>\n",
       "      <td>Other</td>\n",
       "    </tr>\n",
       "    <tr>\n",
       "      <th>16</th>\n",
       "      <td>EN_CC_200069.txt</td>\n",
       "      <td>Blaming global elites</td>\n",
       "    </tr>\n",
       "    <tr>\n",
       "      <th>17</th>\n",
       "      <td>EN_CC_200070.txt</td>\n",
       "      <td>Other</td>\n",
       "    </tr>\n",
       "    <tr>\n",
       "      <th>18</th>\n",
       "      <td>EN_CC_200071.txt</td>\n",
       "      <td>Climate policies have negative impact on the e...</td>\n",
       "    </tr>\n",
       "    <tr>\n",
       "      <th>19</th>\n",
       "      <td>EN_CC_200077.txt</td>\n",
       "      <td>Climate policies have negative impact on the e...</td>\n",
       "    </tr>\n",
       "    <tr>\n",
       "      <th>20</th>\n",
       "      <td>EN_CC_200078.txt</td>\n",
       "      <td>Other</td>\n",
       "    </tr>\n",
       "    <tr>\n",
       "      <th>21</th>\n",
       "      <td>EN_CC_200079.txt</td>\n",
       "      <td>Other</td>\n",
       "    </tr>\n",
       "    <tr>\n",
       "      <th>22</th>\n",
       "      <td>EN_CC_200081.txt</td>\n",
       "      <td>Climate agenda has hidden motives</td>\n",
       "    </tr>\n",
       "    <tr>\n",
       "      <th>23</th>\n",
       "      <td>EN_CC_200085.txt</td>\n",
       "      <td>Other</td>\n",
       "    </tr>\n",
       "    <tr>\n",
       "      <th>24</th>\n",
       "      <td>EN_UA_DEV_100002.txt</td>\n",
       "      <td>The West are the aggressors</td>\n",
       "    </tr>\n",
       "    <tr>\n",
       "      <th>25</th>\n",
       "      <td>EN_UA_DEV_100003.txt</td>\n",
       "      <td>Other</td>\n",
       "    </tr>\n",
       "    <tr>\n",
       "      <th>26</th>\n",
       "      <td>EN_UA_DEV_100004.txt</td>\n",
       "      <td>Other</td>\n",
       "    </tr>\n",
       "    <tr>\n",
       "      <th>27</th>\n",
       "      <td>EN_UA_DEV_100005.txt</td>\n",
       "      <td>By continuing the war we risk WWIII;There is a...</td>\n",
       "    </tr>\n",
       "    <tr>\n",
       "      <th>28</th>\n",
       "      <td>EN_UA_DEV_100012.txt</td>\n",
       "      <td>Other</td>\n",
       "    </tr>\n",
       "    <tr>\n",
       "      <th>29</th>\n",
       "      <td>EN_UA_DEV_100013.txt</td>\n",
       "      <td>Other</td>\n",
       "    </tr>\n",
       "    <tr>\n",
       "      <th>30</th>\n",
       "      <td>EN_UA_DEV_100019.txt</td>\n",
       "      <td>Other</td>\n",
       "    </tr>\n",
       "    <tr>\n",
       "      <th>31</th>\n",
       "      <td>EN_UA_DEV_100026.txt</td>\n",
       "      <td>Other</td>\n",
       "    </tr>\n",
       "    <tr>\n",
       "      <th>32</th>\n",
       "      <td>EN_UA_DEV_100029.txt</td>\n",
       "      <td>Other</td>\n",
       "    </tr>\n",
       "    <tr>\n",
       "      <th>33</th>\n",
       "      <td>EN_UA_DEV_100033.txt</td>\n",
       "      <td>There is a real possibility that nuclear weapo...</td>\n",
       "    </tr>\n",
       "    <tr>\n",
       "      <th>34</th>\n",
       "      <td>EN_UA_DEV_100034.txt</td>\n",
       "      <td>Other</td>\n",
       "    </tr>\n",
       "    <tr>\n",
       "      <th>35</th>\n",
       "      <td>EN_UA_DEV_100036.txt</td>\n",
       "      <td>Other</td>\n",
       "    </tr>\n",
       "    <tr>\n",
       "      <th>36</th>\n",
       "      <td>EN_UA_DEV_20.txt</td>\n",
       "      <td>Other</td>\n",
       "    </tr>\n",
       "    <tr>\n",
       "      <th>37</th>\n",
       "      <td>EN_UA_DEV_213.txt</td>\n",
       "      <td>The West are the aggressors</td>\n",
       "    </tr>\n",
       "    <tr>\n",
       "      <th>38</th>\n",
       "      <td>EN_UA_DEV_214.txt</td>\n",
       "      <td>The West are the aggressors;Other</td>\n",
       "    </tr>\n",
       "    <tr>\n",
       "      <th>39</th>\n",
       "      <td>EN_UA_DEV_215.txt</td>\n",
       "      <td>Other</td>\n",
       "    </tr>\n",
       "    <tr>\n",
       "      <th>40</th>\n",
       "      <td>EN_UA_DEV_22.txt</td>\n",
       "      <td>Other</td>\n",
       "    </tr>\n",
       "  </tbody>\n",
       "</table>\n",
       "</div>"
      ],
      "text/plain": [
       "                    file                                          label_fin\n",
       "0       EN_CC_200030.txt                                              Other\n",
       "1       EN_CC_200033.txt                Ad hominem attacks on key activists\n",
       "2       EN_CC_200034.txt                  Climate agenda has hidden motives\n",
       "3       EN_CC_200035.txt                                              Other\n",
       "4       EN_CC_200036.txt                Ad hominem attacks on key activists\n",
       "5       EN_CC_200040.txt                                              Other\n",
       "6       EN_CC_200046.txt                                              Other\n",
       "7       EN_CC_200047.txt  Other;Climate movement is alarmist;Criticism o...\n",
       "8       EN_CC_200049.txt                                              Other\n",
       "9       EN_CC_200050.txt                                              Other\n",
       "10      EN_CC_200053.txt                                              Other\n",
       "11      EN_CC_200054.txt                                              Other\n",
       "12      EN_CC_200060.txt                                              Other\n",
       "13      EN_CC_200063.txt                                              Other\n",
       "14      EN_CC_200064.txt                                              Other\n",
       "15      EN_CC_200065.txt                                              Other\n",
       "16      EN_CC_200069.txt                              Blaming global elites\n",
       "17      EN_CC_200070.txt                                              Other\n",
       "18      EN_CC_200071.txt  Climate policies have negative impact on the e...\n",
       "19      EN_CC_200077.txt  Climate policies have negative impact on the e...\n",
       "20      EN_CC_200078.txt                                              Other\n",
       "21      EN_CC_200079.txt                                              Other\n",
       "22      EN_CC_200081.txt                  Climate agenda has hidden motives\n",
       "23      EN_CC_200085.txt                                              Other\n",
       "24  EN_UA_DEV_100002.txt                        The West are the aggressors\n",
       "25  EN_UA_DEV_100003.txt                                              Other\n",
       "26  EN_UA_DEV_100004.txt                                              Other\n",
       "27  EN_UA_DEV_100005.txt  By continuing the war we risk WWIII;There is a...\n",
       "28  EN_UA_DEV_100012.txt                                              Other\n",
       "29  EN_UA_DEV_100013.txt                                              Other\n",
       "30  EN_UA_DEV_100019.txt                                              Other\n",
       "31  EN_UA_DEV_100026.txt                                              Other\n",
       "32  EN_UA_DEV_100029.txt                                              Other\n",
       "33  EN_UA_DEV_100033.txt  There is a real possibility that nuclear weapo...\n",
       "34  EN_UA_DEV_100034.txt                                              Other\n",
       "35  EN_UA_DEV_100036.txt                                              Other\n",
       "36      EN_UA_DEV_20.txt                                              Other\n",
       "37     EN_UA_DEV_213.txt                        The West are the aggressors\n",
       "38     EN_UA_DEV_214.txt                  The West are the aggressors;Other\n",
       "39     EN_UA_DEV_215.txt                                              Other\n",
       "40      EN_UA_DEV_22.txt                                              Other"
      ]
     },
     "execution_count": 49,
     "metadata": {},
     "output_type": "execute_result"
    }
   ],
   "source": [
    "res_df"
   ]
  },
  {
   "cell_type": "code",
   "execution_count": null,
   "metadata": {},
   "outputs": [],
   "source": []
  },
  {
   "cell_type": "markdown",
   "metadata": {},
   "source": [
    "# Load model for multilingual"
   ]
  },
  {
   "cell_type": "code",
   "execution_count": 32,
   "metadata": {},
   "outputs": [
    {
     "name": "stderr",
     "output_type": "stream",
     "text": [
      "/tmp/ipykernel_1092956/756521338.py:75: FutureWarning: You are using `torch.load` with `weights_only=False` (the current default value), which uses the default pickle module implicitly. It is possible to construct malicious pickle data which will execute arbitrary code during unpickling (See https://github.com/pytorch/pytorch/blob/main/SECURITY.md#untrusted-models for more details). In a future release, the default value for `weights_only` will be flipped to `True`. This limits the functions that could be executed during unpickling. Arbitrary objects will no longer be allowed to be loaded via this mode unless they are explicitly allowlisted by the user via `torch.serialization.add_safe_globals`. We recommend you start setting `weights_only=True` for any use case where you don't have full control of the loaded file. Please open an issue on GitHub for any issues related to this experimental feature.\n",
      "  model.load_state_dict(torch.load(state_dict_path, map_location=device))\n"
     ]
    }
   ],
   "source": [
    "model = load_model(\"./model\", device='cuda:1')[0]"
   ]
  },
  {
   "cell_type": "code",
   "execution_count": 33,
   "metadata": {},
   "outputs": [
    {
     "data": {
      "text/plain": [
       "MultilingualMultiLabelClassifier(\n",
       "  (roberta): XLMRobertaModel(\n",
       "    (embeddings): XLMRobertaEmbeddings(\n",
       "      (word_embeddings): Embedding(250002, 768, padding_idx=1)\n",
       "      (position_embeddings): Embedding(514, 768, padding_idx=1)\n",
       "      (token_type_embeddings): Embedding(1, 768)\n",
       "      (LayerNorm): LayerNorm((768,), eps=1e-05, elementwise_affine=True)\n",
       "      (dropout): Dropout(p=0.1, inplace=False)\n",
       "    )\n",
       "    (encoder): XLMRobertaEncoder(\n",
       "      (layer): ModuleList(\n",
       "        (0-11): 12 x XLMRobertaLayer(\n",
       "          (attention): XLMRobertaAttention(\n",
       "            (self): XLMRobertaSdpaSelfAttention(\n",
       "              (query): Linear(in_features=768, out_features=768, bias=True)\n",
       "              (key): Linear(in_features=768, out_features=768, bias=True)\n",
       "              (value): Linear(in_features=768, out_features=768, bias=True)\n",
       "              (dropout): Dropout(p=0.1, inplace=False)\n",
       "            )\n",
       "            (output): XLMRobertaSelfOutput(\n",
       "              (dense): Linear(in_features=768, out_features=768, bias=True)\n",
       "              (LayerNorm): LayerNorm((768,), eps=1e-05, elementwise_affine=True)\n",
       "              (dropout): Dropout(p=0.1, inplace=False)\n",
       "            )\n",
       "          )\n",
       "          (intermediate): XLMRobertaIntermediate(\n",
       "            (dense): Linear(in_features=768, out_features=3072, bias=True)\n",
       "            (intermediate_act_fn): GELUActivation()\n",
       "          )\n",
       "          (output): XLMRobertaOutput(\n",
       "            (dense): Linear(in_features=3072, out_features=768, bias=True)\n",
       "            (LayerNorm): LayerNorm((768,), eps=1e-05, elementwise_affine=True)\n",
       "            (dropout): Dropout(p=0.1, inplace=False)\n",
       "          )\n",
       "        )\n",
       "      )\n",
       "    )\n",
       "    (pooler): XLMRobertaPooler(\n",
       "      (dense): Linear(in_features=768, out_features=768, bias=True)\n",
       "      (activation): Tanh()\n",
       "    )\n",
       "  )\n",
       "  (classifier): Sequential(\n",
       "    (0): Linear(in_features=768, out_features=768, bias=True)\n",
       "    (1): ReLU()\n",
       "    (2): Dropout(p=0.1, inplace=False)\n",
       "    (3): Linear(in_features=768, out_features=96, bias=True)\n",
       "    (4): Sigmoid()\n",
       "  )\n",
       ")"
      ]
     },
     "execution_count": 33,
     "metadata": {},
     "output_type": "execute_result"
    }
   ],
   "source": [
    "model"
   ]
  },
  {
   "cell_type": "code",
   "execution_count": 34,
   "metadata": {},
   "outputs": [],
   "source": [
    "text = \"I am a quack and climate change is fraud\""
   ]
  },
  {
   "cell_type": "code",
   "execution_count": 35,
   "metadata": {},
   "outputs": [],
   "source": [
    "predicted_labels, class_probabilities = predict(model, text) "
   ]
  },
  {
   "cell_type": "code",
   "execution_count": 36,
   "metadata": {},
   "outputs": [
    {
     "data": {
      "text/plain": [
       "array([False, False, False, False, False, False, False, False, False,\n",
       "       False, False, False, False, False, False, False, False, False,\n",
       "       False, False, False, False, False, False, False, False, False,\n",
       "       False, False, False, False, False, False, False, False, False,\n",
       "       False, False, False, False, False, False, False, False, False,\n",
       "       False, False, False, False, False, False, False, False, False,\n",
       "       False, False, False, False, False, False, False, False, False,\n",
       "       False, False, False, False, False, False, False, False, False,\n",
       "       False, False, False, False, False, False, False, False, False,\n",
       "       False, False, False, False, False, False, False, False, False,\n",
       "       False, False, False, False, False, False])"
      ]
     },
     "execution_count": 36,
     "metadata": {},
     "output_type": "execute_result"
    }
   ],
   "source": [
    "predicted_labels"
   ]
  },
  {
   "cell_type": "code",
   "execution_count": 37,
   "metadata": {},
   "outputs": [],
   "source": [
    "en_dev_df = pd.read_csv(\"/home/ka55gawy/semeval2025/task_data/subtask2_hf/EN_fine-grained/dev.csv\")\n",
    "bg_dev_df = pd.read_csv(\"/home/ka55gawy/semeval2025/task_data/subtask2_hf/BG_fine-grained/dev.csv\")\n",
    "hi_dev_df = pd.read_csv(\"/home/ka55gawy/semeval2025/task_data/subtask2_hf/HI_fine-grained/dev.csv\")\n",
    "pt_dev_df = pd.read_csv(\"/home/ka55gawy/semeval2025/task_data/subtask2_hf/PT_fine-grained/dev.csv\")\n",
    "ru_dev_df = pd.read_csv(\"/home/ka55gawy/semeval2025/task_data/subtask2_hf/RU_fine-grained/dev.csv\")\n"
   ]
  },
  {
   "cell_type": "markdown",
   "metadata": {},
   "source": [
    "# Predict for each language"
   ]
  },
  {
   "cell_type": "code",
   "execution_count": 38,
   "metadata": {},
   "outputs": [],
   "source": [
    "\n",
    "texts = en_dev_df[\"text\"].values\n",
    "all_predictions = []\n",
    "for text in texts:\n",
    "    predicted_labels, class_probabilities = predict(model, text)\n",
    "    # print(\"Predicted labels (1 indicates presence of class)?:\")\n",
    "\n",
    "    all_predictions.append(np.array(predicted_labels).astype(int))\n",
    "\n",
    "res_df = en_dev_df[[\"file\",\"text\"]]\n",
    "res_df = pd.concat([res_df,pd.DataFrame(all_predictions,columns=en_dev_df.columns[2:])],axis=1)\n",
    "res_df.to_csv(\"en_results_onehot.csv\",index=False)"
   ]
  },
  {
   "cell_type": "code",
   "execution_count": 45,
   "metadata": {},
   "outputs": [],
   "source": [
    "from tqdm.auto import tqdm"
   ]
  },
  {
   "cell_type": "code",
   "execution_count": 46,
   "metadata": {},
   "outputs": [
    {
     "data": {
      "application/vnd.jupyter.widget-view+json": {
       "model_id": "59283a05a75f495c96432a58f91c8f85",
       "version_major": 2,
       "version_minor": 0
      },
      "text/plain": [
       "Processing EN:   0%|          | 0/41 [00:00<?, ?it/s]"
      ]
     },
     "metadata": {},
     "output_type": "display_data"
    },
    {
     "name": "stdout",
     "output_type": "stream",
     "text": [
      "Saved EN_results_onehot.csv\n"
     ]
    },
    {
     "data": {
      "application/vnd.jupyter.widget-view+json": {
       "model_id": "ec2cfd0156664219855d07f92492880e",
       "version_major": 2,
       "version_minor": 0
      },
      "text/plain": [
       "Processing RU:   0%|          | 0/32 [00:00<?, ?it/s]"
      ]
     },
     "metadata": {},
     "output_type": "display_data"
    },
    {
     "name": "stdout",
     "output_type": "stream",
     "text": [
      "Saved RU_results_onehot.csv\n"
     ]
    },
    {
     "data": {
      "application/vnd.jupyter.widget-view+json": {
       "model_id": "91b9f6608a9f4ac8b3a427983e72cebc",
       "version_major": 2,
       "version_minor": 0
      },
      "text/plain": [
       "Processing PT:   0%|          | 0/35 [00:00<?, ?it/s]"
      ]
     },
     "metadata": {},
     "output_type": "display_data"
    },
    {
     "name": "stdout",
     "output_type": "stream",
     "text": [
      "Saved PT_results_onehot.csv\n"
     ]
    },
    {
     "data": {
      "application/vnd.jupyter.widget-view+json": {
       "model_id": "32209f941da14b0d89621c7fd318b580",
       "version_major": 2,
       "version_minor": 0
      },
      "text/plain": [
       "Processing BG:   0%|          | 0/35 [00:00<?, ?it/s]"
      ]
     },
     "metadata": {},
     "output_type": "display_data"
    },
    {
     "name": "stdout",
     "output_type": "stream",
     "text": [
      "Saved BG_results_onehot.csv\n"
     ]
    },
    {
     "data": {
      "application/vnd.jupyter.widget-view+json": {
       "model_id": "84b5648eb28e4bbd84931acbe7bcdcc2",
       "version_major": 2,
       "version_minor": 0
      },
      "text/plain": [
       "Processing HI:   0%|          | 0/35 [00:00<?, ?it/s]"
      ]
     },
     "metadata": {},
     "output_type": "display_data"
    },
    {
     "name": "stdout",
     "output_type": "stream",
     "text": [
      "Saved HI_results_onehot.csv\n"
     ]
    }
   ],
   "source": [
    "import pandas as pd\n",
    "import numpy as np\n",
    "\n",
    "# List of language codes\n",
    "languages = ['EN', 'RU', 'PT', 'BG', 'HI']\n",
    "\n",
    "# Process each language\n",
    "for lang in languages:\n",
    "    # Load the dataframe\n",
    "    df = pd.read_csv(f\"/home/ka55gawy/semeval2025/task_data/subtask2_hf/{lang}_fine-grained/dev.csv\")\n",
    "    # df = pd.read_csv(f\"{lang}_dev_df.csv\")\n",
    "    \n",
    "    # Get texts\n",
    "    texts = df[\"text\"].values\n",
    "    all_predictions = []\n",
    "    \n",
    "    # Process each text with progress bar\n",
    "    for text in tqdm(texts, desc=f\"Processing {lang.upper()}\"):\n",
    "        predicted_labels, _ = predict(model, text)\n",
    "        all_predictions.append(np.array(predicted_labels).astype(int))\n",
    "    \n",
    "    # Create results dataframe\n",
    "    res_df = df[[\"file\", \"text\"]]\n",
    "    res_df = pd.concat([res_df, pd.DataFrame(all_predictions, columns=df.columns[2:])], axis=1)\n",
    "    \n",
    "    # Save results\n",
    "    res_df.to_csv(f\"{lang}_results_onehot.csv\", index=False)\n",
    "    print(f\"Saved {lang}_results_onehot.csv\")"
   ]
  },
  {
   "cell_type": "code",
   "execution_count": 47,
   "metadata": {},
   "outputs": [],
   "source": [
    "del model"
   ]
  },
  {
   "cell_type": "markdown",
   "metadata": {},
   "source": []
  }
 ],
 "metadata": {
  "kernelspec": {
   "display_name": "venv",
   "language": "python",
   "name": "python3"
  },
  "language_info": {
   "codemirror_mode": {
    "name": "ipython",
    "version": 3
   },
   "file_extension": ".py",
   "mimetype": "text/x-python",
   "name": "python",
   "nbconvert_exporter": "python",
   "pygments_lexer": "ipython3",
   "version": "3.12.2"
  }
 },
 "nbformat": 4,
 "nbformat_minor": 2
}
