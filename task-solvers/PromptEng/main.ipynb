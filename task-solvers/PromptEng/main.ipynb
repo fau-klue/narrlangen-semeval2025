{
 "cells": [
  {
   "cell_type": "code",
   "execution_count": 14,
   "metadata": {},
   "outputs": [],
   "source": [
    "import pandas as pd\n"
   ]
  },
  {
   "cell_type": "code",
   "execution_count": 25,
   "metadata": {},
   "outputs": [],
   "source": [
    "\n",
    "import openai\n",
    "from credentials import gpt_key\n",
    "import json\n",
    "from textwrap import dedent"
   ]
  },
  {
   "cell_type": "code",
   "execution_count": 26,
   "metadata": {},
   "outputs": [],
   "source": [
    "client = openai.Client(api_key=gpt_key)"
   ]
  },
  {
   "cell_type": "markdown",
   "metadata": {},
   "source": [
    "# Load Labels"
   ]
  },
  {
   "cell_type": "code",
   "execution_count": 27,
   "metadata": {},
   "outputs": [],
   "source": [
    "labels = pd.read_csv(\"subtask2_all_fine-grained_narratives.csv\")"
   ]
  },
  {
   "cell_type": "code",
   "execution_count": 28,
   "metadata": {},
   "outputs": [],
   "source": [
    "labels[[\"top\", \"mid\", \"low\"]] = labels[\"narrative\"].str.split(\": \",expand=True)"
   ]
  },
  {
   "cell_type": "code",
   "execution_count": 29,
   "metadata": {},
   "outputs": [
    {
     "data": {
      "text/plain": [
       "['CC', 'URW', 'Other']"
      ]
     },
     "execution_count": 29,
     "metadata": {},
     "output_type": "execute_result"
    }
   ],
   "source": [
    "top_labels = labels[\"top\"].unique().tolist()\n",
    "top_labels"
   ]
  },
  {
   "cell_type": "code",
   "execution_count": 30,
   "metadata": {},
   "outputs": [
    {
     "data": {
      "text/plain": [
       "['Amplifying Climate Fears',\n",
       " 'Climate change is beneficial',\n",
       " 'Controversy about green technologies',\n",
       " 'Criticism of climate movement',\n",
       " 'Criticism of climate policies',\n",
       " 'Criticism of institutions and authorities',\n",
       " 'Downplaying climate change',\n",
       " 'Green policies are geopolitical instruments',\n",
       " 'Hidden plots by secret schemes of powerful groups',\n",
       " 'Questioning the measurements and science',\n",
       " 'Amplifying war-related fears',\n",
       " 'Blaming the war on others rather than the invader',\n",
       " 'Discrediting the West, Diplomacy',\n",
       " 'Discrediting Ukraine',\n",
       " 'Distrust towards Media',\n",
       " 'Negative Consequences for the West',\n",
       " 'Overpraising the West',\n",
       " 'Praise of Russia',\n",
       " 'Russia is the Victim',\n",
       " 'Speculating war outcomes',\n",
       " None]"
      ]
     },
     "execution_count": 30,
     "metadata": {},
     "output_type": "execute_result"
    }
   ],
   "source": [
    "mid_labels = labels[\"mid\"].unique().tolist()\n",
    "mid_labels"
   ]
  },
  {
   "cell_type": "code",
   "execution_count": 31,
   "metadata": {},
   "outputs": [],
   "source": [
    "urw_labels = labels[labels[\"top\"] == \"URW\"][\"mid\"].unique().tolist()\n",
    "cc_labels = labels[labels[\"top\"] == \"CC\"][\"mid\"].unique().tolist()"
   ]
  },
  {
   "cell_type": "code",
   "execution_count": 32,
   "metadata": {},
   "outputs": [
    {
     "name": "stdout",
     "output_type": "stream",
     "text": [
      "'You are a classifier that classifies input into three categories: \"URW\", \"CC\", and \"Other\".\n",
      "URW refers to the Ukraine-Russia War, CC refers to Climate Change, and Other refers to all other topics.\n",
      "Follow a strict json format for the output. The JSON format is as follows:\n",
      "              {\"top_class\": str}\n",
      "    The top_class key should have one of the three values: \"URW\", \"CC\", or \"Other\".\n",
      "Sentences talking about Ukraine or Russia which are not related their war should be classified as \"Other\".\n",
      "talking about climate but not climate change should be classified as \"Other\".\n"
     ]
    }
   ],
   "source": [
    "top_classifier_instruction = \"\"\"'You are a classifier that classifies input into three categories: \"URW\", \"CC\", and \"Other\".\n",
    "URW refers to the Ukraine-Russia War, CC refers to Climate Change, and Other refers to all other topics.\n",
    "Follow a strict json format for the output. The JSON format is as follows:\\n              {\"top_class\": str}\n",
    "    The top_class key should have one of the three values: \"URW\", \"CC\", or \"Other\".\n",
    "Sentences talking about Ukraine or Russia which are not related their war should be classified as \"Other\".\n",
    "talking about climate but not climate change should be classified as \"Other\".\"\"\"\n",
    "print(top_classifier_instruction)"
   ]
  },
  {
   "cell_type": "code",
   "execution_count": 33,
   "metadata": {},
   "outputs": [],
   "source": [
    "def call_agent(instruction, prompt):\n",
    "    response = client.chat.completions.create(\n",
    "    model=\"gpt-4o-mini\",\n",
    "    messages=[\n",
    "        {\n",
    "            \"role\": \"system\", \n",
    "            \"content\": dedent(instruction)\n",
    "        },\n",
    "        {\n",
    "            \"role\": \"user\", \n",
    "            \"content\": prompt\n",
    "        }\n",
    "    ],\n",
    "    response_format={\n",
    "        \"type\": \"json_schema\",\n",
    "        \"json_schema\": {\n",
    "            \"name\": \"class\",\n",
    "            \"schema\": {\n",
    "                \"type\": \"object\",\n",
    "                \"properties\": {\n",
    "                    \"class\": {\"type\": \"string\"},\n",
    "                },\n",
    "                \"required\": [\"class\"],\n",
    "                \"additionalProperties\": False\n",
    "            },\n",
    "            \"strict\": True\n",
    "        }\n",
    "    }\n",
    "    )\n",
    "    return json.loads(response.choices[0].message.content)"
   ]
  },
  {
   "cell_type": "code",
   "execution_count": 77,
   "metadata": {},
   "outputs": [],
   "source": [
    "\n",
    "\n",
    "\n",
    "prompt = \"NASA's James Hansen claims extreme weather events would not have happened if CO2 had remained at its pre-industrial level of 280 parts per million\"\n",
    "prompt = \"Nuccitellis answer to this unexceptionable and temperately-expressed statement is that sea level rises chiefly through thermal expansion and melting land ice, so it is all our fault. However, it ought to have been obvious even to Nuccitelli thermal expansion and land-ice melt happen whether Man or nature is the cause.\"\n",
    "\n",
    "prompt = \"\"\"People concerned that manmade greenhouse gas emissions, in particular carbon dioxide (CO2), may be causing dangerous climate change worry such a change may disrupt the hydrosphere, which comprises all of the water on Earth and in its atmosphere. This disruption, they argue, would lead to increased rainfall and erratic weather patterns that would greatly increase sea level and produce potentially devastating consequences.A report from the Nongovernmental International Panel on Climate Change (NIPCC), an independent group of some 50 scientists from 15 countries, titled Climate Change Reconsidered II: Physical Science, summarizes a large body of research disputing these claims and finds the hydrosphere has exhibited only mild volatility over the past century in concert with natural climate cycles and with no correlation to human CO2 emissions.The data show short-term precipitation volatility is not correlated with either CO2 emissions or general climate warming. For example, monsoon intensity displayed no increase later in the century despite increased CO2 emissions, but instead was correlated with solar activity.In addition, monsoons were generally more intensive during the Little Ice Age (LIA) than the Medieval Warm Period (MWP), which runs directly contrary to the alarmist claims. On the other end of the volatility spectrum, CCR-II disputes the strength of the commonly cited connection between global warming and droughts, as evidenced by the similar rates of drought occurrence in the LIA and MWP.As with precipitation, CCR-II finds no significant connection between sea level or ocean temperature and human CO2 emissions. Sea level is determined by a multitude of factors, and CO2-induced global warming is a minor one. Ocean temperatures have remained virtually unchanged for nine years, according to data of the Argo buoy network.CCR-II found numerous problems with the consensus view of sea-level change. The global sea level has increased by an average of only 12 mm annually over the century, with a wide range of intra-year volatility between +5mm and -5mm away from the mean. Supposed instances of environmental harm caused by sea-level rises, such as coral reef destruction, are often the result of unaccounted alternative factors.Concern over manmade greenhouse gas emissions has been the impetus for many destructive public policies, including renewable portfolio standards, alternative energy subsidies, and high gasoline taxes. Yet, despite ever-increasing levels of CO2 emissions, scientists have been unable to demonstrate a connection to its alleged effects, such as hydrosphere alteration, over the previous century. CCR-II's findings demonstrate precipitation and ocean activity have little to no connection to human CO2 emissions. Therefore, energy production, the lifeblood of the global economy, should not be hindered by state intervention to reduce CO2 emissions.The above introduction was based on text from Climate Change Reconsidered II: Physical Science and its Summary for Policymakers, published by the Nongovernmental International Panel on Climate Change (NIPCC).The following documents provide additional information about the hydrosphere and oceans. Chapter 6 of Climate Change Reconsidered IIhttp://heartland.org/media-library/pdfs/CCR-II/Chapter-6-Hydrosphere-Oceans.pdfIn Chapter Six of Climate Change Reconsidered II: Physical Science, Willem de Lange and Robert M. Carter find little evidence for an overall increase in global precipitation during the twentieth century independent of natural multidecadal climate rhythms. Summary for Policymakers of Climate Change Reconsidered IIhttp://heartland.org/media-library/pdfs/CCR-II/Summary-for-Policymakers.pdfThe IPCC claims to know, apparently with rising certainty over time, that \"most of the observed increase in global average temperatures since the mid-20th century is very likely due to the observed increase in anthropogenic greenhouse gas concentrations\" (IPCC AR4 SPM, p. 10). This Summary for Policymakers summarizes and interprets Climate Change Reconsidered II, a major scientific report that refutes this claim. More IPCC Misdirection: Its Dodgy Sea Level-Rise Assessmenthttp://www.cato.org/blog/more-ipcc-misdirection-its-dodgy-sea-level-rise-assessmentPatrick J. Michaels and Paul C. Knappenberger of the Cato Institute criticize the Intergovernmental Panel on Climate Change's analysis of sea-level changes in a September 24, 2013 blog post. The authors point out the IPCC cherry-picks data clumps that coincide with their conclusions, while ignoring broader data that contradict them. For instance, the IPCC attributes the recent abnormally high increases in sea level to a new long-term trend, even though the rate of increase has already begun to decline to normal levels, thereby indicating this period was just another short-term cyclical increase. Precipitation Measurements and Trends in the Twentieth Century http://heartland.org/policy-documents/precipitation-measurements-and-trends-twentieth-centuryA research paper published in the International Journal of Climatology in 2002 presents the trends in precipitation over the last century. Global precipitation increased by only 9 mm per year over the century, despite enormous short-term volatility of up to 40mm. Short-term variability can be attributed to natural climate cycles, including reoccurring ENSOs, Arctic Oscillation, and Antarctic Oscillation. The authors admit global precipitation measurement is still primitive and not wholly reliable. Little Change in Global Drought Over the Past 60 Yearshttp://heartland.org/policy-documents/little-change-global-drought-over-past-60-yearsIn this paper published in 2012 in Nature, Justin Sheffield, Eric F. Wood, and Michael L. Roderick cast doubt on the supposed connection between global warming and the frequency of droughts over the past 60 years. The standard analysis used to estimate global moisture levels is highly flawed and underestimates moisture levels, they note. In reality, global moisture levels have barely changed, and by extension, theories that blame hydrosphere changes on global warming are also flawed. Research Explores Hidden Benefits of Intensive Rainfall in East Africahttp://phys.org/news/2012-11-explores-hidden-benefits-intensive-rainfall.htmlMaggie Clune looks at a new study published in 2012 in Nature Climate Change, which demonstrates some benefits of increased rainfall. Generally, climate scientists tend to focus on only the negative effects of climate change while ignoring the positive results it produces. One of these is that increased rainfall replenishes freshwater sources more often. This makes underwater aquifers, rivers, streams, etc. more bountiful, especially in technologically less-developed regions that are heavily dependent upon natural water sources, such as Central Africa. Indian Monsoon Variability in a Global Warming Scenariohttp://heartland.org/policy-documents/indian-monsoon-variability-global-warming-scenarioA paper published in 2003 in Natural Hazards applies to real historical data the IPCC's theory that global warming increases monsoon intensity. The researchers determined there is no correlation between monsoon intensity and global warming. Monsoon strength naturally oscillates along decade-long time intervals regardless of carbon production. Furthermore, increased global temperatures have no effect on intra-cycle variability. Nothing in this Research & Commentary is intended to influence the passage of legislation, and it does not necessarily represent the views of The Heartland Institute. For further information on this and other topics, visit the Environment & Climate News Web site at http://news.heartland.org/energy-and-environment, The Heartland Institute's Web site at http://www.heartland.org, and PolicyBot, Heartland's free online research database, at www.policybot.org.If you have any questions about this issue or The Heartland Institute, or would like a scientist to testify in your state, contact Heartland Institute Policy Analyst Taylor Smith at tsmith@heartland.org or 312/377-4000\"\"\"\n",
    "# prompt = \"\"\"The discussion is far from over. The true mind of science remains open to new data and alternative explanations. Whether and how much of the approximately 1/2 degree C of warming which occurred in the latter half of the 20th century is due to human industry has not been conclusively established. Neither have any of the incredibly expensive \"solutions\" proposed to address any global warming been shown to be meaningfully effective or worth their tremendous cost.\"\"\"\n",
    "\n",
    "\n",
    "def classifier(row):\n",
    "    prompt = row[\"text\"]\n",
    "    file = row[\"file\"]\n",
    "\n",
    "\n",
    "    top_classifier_output = {\"class\": None}\n",
    "    urw_classifier_output = {\"class\": None}\n",
    "    cc_classifier_output = {\"class\": None}\n",
    "\n",
    "    fine_grained_output = {\"class\": None}\n",
    "    top_classifier_output = call_agent(top_classifier_instruction, prompt)\n",
    "\n",
    "    if top_classifier_output[\"class\"] == \"Other\":\n",
    "        return file, \"Other\", \"Other\"\n",
    "    elif top_classifier_output[\"class\"] == \"URW\":\n",
    "        urw_classifier_instruction = f\"\"\"You are a disinformation classifier regarding the Ukraine-Russia War. \n",
    "        You have to classify the input into {len(urw_labels)} categories. The categories are: {urw_labels}.\n",
    "        Your output should be strict json format. The JSON format is as follows:\n",
    "        {{\"class\": str}}.\n",
    "        If you can't classify the input into any of the categories, classify it as \"Other\".\"\"\"\n",
    "        urw_classifier_output = call_agent(urw_classifier_instruction, prompt)\n",
    "\n",
    "        fine_grain_urw_labels = labels[labels[\"mid\"] == urw_classifier_output[\"class\"]][\"low\"].unique().tolist()\n",
    "\n",
    "        fine_grained_instruction = f\"\"\"You are a disinformation classifier that classifies input into {len(fine_grain_urw_labels)} categories from {urw_classifier_output[\"class\"]} narrative.\n",
    "        The categories are:{fine_grain_urw_labels}.\n",
    "        Your output should be strict json format. The JSON format is as follows:\n",
    "        {{\"class\": str}}.\n",
    "        If you can't classify the input into any of the categories, classify it as \"Other\".\n",
    "        \"\"\"\n",
    "        fine_grained_output = call_agent(fine_grained_instruction, prompt)\n",
    "        \n",
    "        # result =  top_classifier_output[\"class\"], \": \", urw_classifier_output[\"class\"],\": \", fine_grained_output[\"class\"]\n",
    "        narrative = top_classifier_output[\"class\"] + \": \" + urw_classifier_output[\"class\"]\n",
    "        subnarrative = narrative + \": \" + fine_grained_output[\"class\"]\n",
    "        return file, narrative, subnarrative\n",
    "\n",
    "\n",
    "\n",
    "\n",
    "\n",
    "    elif top_classifier_output[\"class\"] == \"CC\":\n",
    "        cc_classifier_instruction = f\"\"\"You are a disinformation classifier regarding Climate Change.\n",
    "        You have to classify the input into {len(cc_labels)} categories. The categories are: {cc_labels}.\n",
    "        Your output should be strict json format. The JSON format is as follows:\n",
    "        {{\"class\": str}}.\n",
    "        If you can't classify the input into any of the categories, classify it as \"Other\".\"\"\"\n",
    "        cc_classifier_output = call_agent(cc_classifier_instruction, prompt)\n",
    "\n",
    "        fine_grained_cc_labels = labels[labels[\"mid\"] == cc_classifier_output[\"class\"]][\"low\"].unique().tolist()\n",
    "        fine_grained_instruction = f\"\"\"You are a disinformation classifier that classifies input into {len(fine_grained_cc_labels)} categories from {cc_classifier_output[\"class\"]} narrative.\n",
    "        The categories are:{fine_grained_cc_labels}.\n",
    "        Your output should be strict json format. The JSON format is as follows:\n",
    "        {{\"class\": str}}.\n",
    "        If you can't classify the input into any of the categories, classify it as \"Other\".\n",
    "        \"\"\"\n",
    "        fine_grained_output = call_agent(fine_grained_instruction, prompt)\n",
    "        result =  top_classifier_output[\"class\"], \": \", cc_classifier_output[\"class\"],\": \", fine_grained_output[\"class\"]\\\n",
    "        # narrative = \": \".join(top_classifier_output[\"class\"], cc_classifier_output[\"class\"])\n",
    "        # subnarrative = \": \".join(narrative, fine_grained_output[\"class\"])\n",
    "        narrative = top_classifier_output[\"class\"] + \": \" + cc_classifier_output[\"class\"]\n",
    "        subnarrative = narrative + \": \" + fine_grained_output[\"class\"]\n",
    "        return file, narrative, subnarrative\n"
   ]
  },
  {
   "cell_type": "markdown",
   "metadata": {},
   "source": [
    "# load devset"
   ]
  },
  {
   "cell_type": "code",
   "execution_count": 63,
   "metadata": {},
   "outputs": [],
   "source": [
    "devset = pd.read_csv(\"dev.csv\")"
   ]
  },
  {
   "cell_type": "code",
   "execution_count": 64,
   "metadata": {},
   "outputs": [],
   "source": [
    "devset = devset[[\"file\", \"text\"]]"
   ]
  },
  {
   "cell_type": "code",
   "execution_count": 75,
   "metadata": {},
   "outputs": [],
   "source": [
    "res = classifier(devset.iloc[25])"
   ]
  },
  {
   "cell_type": "code",
   "execution_count": 76,
   "metadata": {},
   "outputs": [
    {
     "data": {
      "text/plain": [
       "('EN_UA_DEV_100003.txt',\n",
       " 'URW: Praise of Russia: Praise of Russian military might')"
      ]
     },
     "execution_count": 76,
     "metadata": {},
     "output_type": "execute_result"
    }
   ],
   "source": [
    "res"
   ]
  },
  {
   "cell_type": "code",
   "execution_count": 60,
   "metadata": {},
   "outputs": [
    {
     "data": {
      "text/html": [
       "<div>\n",
       "<style scoped>\n",
       "    .dataframe tbody tr th:only-of-type {\n",
       "        vertical-align: middle;\n",
       "    }\n",
       "\n",
       "    .dataframe tbody tr th {\n",
       "        vertical-align: top;\n",
       "    }\n",
       "\n",
       "    .dataframe thead th {\n",
       "        text-align: right;\n",
       "    }\n",
       "</style>\n",
       "<table border=\"1\" class=\"dataframe\">\n",
       "  <thead>\n",
       "    <tr style=\"text-align: right;\">\n",
       "      <th></th>\n",
       "      <th>file</th>\n",
       "      <th>text</th>\n",
       "    </tr>\n",
       "  </thead>\n",
       "  <tbody>\n",
       "    <tr>\n",
       "      <th>0</th>\n",
       "      <td>EN_CC_200030.txt</td>\n",
       "      <td>Bangladesh, Nordic countries to strengthen coo...</td>\n",
       "    </tr>\n",
       "    <tr>\n",
       "      <th>1</th>\n",
       "      <td>EN_CC_200033.txt</td>\n",
       "      <td>Greta Thunberg Calls For 'Overthrow of Whole C...</td>\n",
       "    </tr>\n",
       "    <tr>\n",
       "      <th>2</th>\n",
       "      <td>EN_CC_200034.txt</td>\n",
       "      <td>If we “just stop oil” like climate protesters ...</td>\n",
       "    </tr>\n",
       "    <tr>\n",
       "      <th>3</th>\n",
       "      <td>EN_CC_200035.txt</td>\n",
       "      <td>Gretchen Whitmer Orders Michigan’s State Fleet...</td>\n",
       "    </tr>\n",
       "    <tr>\n",
       "      <th>4</th>\n",
       "      <td>EN_CC_200036.txt</td>\n",
       "      <td>Climate cultists push bizarre scare language a...</td>\n",
       "    </tr>\n",
       "    <tr>\n",
       "      <th>5</th>\n",
       "      <td>EN_CC_200040.txt</td>\n",
       "      <td>Climate Protesters Out Of Control As They Atta...</td>\n",
       "    </tr>\n",
       "    <tr>\n",
       "      <th>6</th>\n",
       "      <td>EN_CC_200046.txt</td>\n",
       "      <td>CO2 is the GREENING molecule: New study shows ...</td>\n",
       "    </tr>\n",
       "    <tr>\n",
       "      <th>7</th>\n",
       "      <td>EN_CC_200047.txt</td>\n",
       "      <td>89% of ‘American Elites’ Back WEF’s Plan to Ra...</td>\n",
       "    </tr>\n",
       "    <tr>\n",
       "      <th>8</th>\n",
       "      <td>EN_CC_200049.txt</td>\n",
       "      <td>Alarmists Warn of U.S. ‘Heat Dome’ Tied to Hum...</td>\n",
       "    </tr>\n",
       "    <tr>\n",
       "      <th>9</th>\n",
       "      <td>EN_CC_200050.txt</td>\n",
       "      <td>Link to Major Banks Bend The Knee To Climate A...</td>\n",
       "    </tr>\n",
       "    <tr>\n",
       "      <th>10</th>\n",
       "      <td>EN_CC_200053.txt</td>\n",
       "      <td>UK’s Sunak Reverses Decision to Skip COP27 Cli...</td>\n",
       "    </tr>\n",
       "    <tr>\n",
       "      <th>11</th>\n",
       "      <td>EN_CC_200054.txt</td>\n",
       "      <td>EU Central Banker Pushes Bitcoin Ban Under Gui...</td>\n",
       "    </tr>\n",
       "    <tr>\n",
       "      <th>12</th>\n",
       "      <td>EN_CC_200060.txt</td>\n",
       "      <td>French state bank to end financing of oil and ...</td>\n",
       "    </tr>\n",
       "    <tr>\n",
       "      <th>13</th>\n",
       "      <td>EN_CC_200063.txt</td>\n",
       "      <td>How to Reestablish the Authority of Corporate ...</td>\n",
       "    </tr>\n",
       "    <tr>\n",
       "      <th>14</th>\n",
       "      <td>EN_CC_200064.txt</td>\n",
       "      <td>Watch: Eco-Loon Decked by Camera Crane After S...</td>\n",
       "    </tr>\n",
       "    <tr>\n",
       "      <th>15</th>\n",
       "      <td>EN_CC_200065.txt</td>\n",
       "      <td>Climate Alarmists Warn of ‘Hottest Day in Thou...</td>\n",
       "    </tr>\n",
       "    <tr>\n",
       "      <th>16</th>\n",
       "      <td>EN_CC_200069.txt</td>\n",
       "      <td>Oxford Residents Mount Resistance Against the ...</td>\n",
       "    </tr>\n",
       "    <tr>\n",
       "      <th>17</th>\n",
       "      <td>EN_CC_200070.txt</td>\n",
       "      <td>Wat? L.A. Mayor Garcetti Flies to Argentina to...</td>\n",
       "    </tr>\n",
       "    <tr>\n",
       "      <th>18</th>\n",
       "      <td>EN_CC_200071.txt</td>\n",
       "      <td>Biden’s green policies are making housing no l...</td>\n",
       "    </tr>\n",
       "    <tr>\n",
       "      <th>19</th>\n",
       "      <td>EN_CC_200077.txt</td>\n",
       "      <td>OBEY THE GREEN: Blue states depriving rural co...</td>\n",
       "    </tr>\n",
       "    <tr>\n",
       "      <th>20</th>\n",
       "      <td>EN_CC_200078.txt</td>\n",
       "      <td>Greta Thunberg Detained Again At Anti-Coal Pro...</td>\n",
       "    </tr>\n",
       "    <tr>\n",
       "      <th>21</th>\n",
       "      <td>EN_CC_200079.txt</td>\n",
       "      <td>Klaus Schwab Wants To Ban People Washing Their...</td>\n",
       "    </tr>\n",
       "    <tr>\n",
       "      <th>22</th>\n",
       "      <td>EN_CC_200081.txt</td>\n",
       "      <td>Green Madness: Leftist Scottish Govt Cut Down ...</td>\n",
       "    </tr>\n",
       "    <tr>\n",
       "      <th>23</th>\n",
       "      <td>EN_CC_200085.txt</td>\n",
       "      <td>The Great California Wind Energy Ripoff… \\n\\n ...</td>\n",
       "    </tr>\n",
       "    <tr>\n",
       "      <th>24</th>\n",
       "      <td>EN_UA_DEV_100002.txt</td>\n",
       "      <td>Ukrainian nationalism, Ukrainian patriotism wi...</td>\n",
       "    </tr>\n",
       "    <tr>\n",
       "      <th>25</th>\n",
       "      <td>EN_UA_DEV_100003.txt</td>\n",
       "      <td>Medvedev: Russia Seeks More in Ukraine, 'Proba...</td>\n",
       "    </tr>\n",
       "    <tr>\n",
       "      <th>26</th>\n",
       "      <td>EN_UA_DEV_100004.txt</td>\n",
       "      <td>RUSSIANS TO CUT COKE PLANT FROM AVDEEVKA \\n\\nW...</td>\n",
       "    </tr>\n",
       "    <tr>\n",
       "      <th>27</th>\n",
       "      <td>EN_UA_DEV_100005.txt</td>\n",
       "      <td>New Sarah Westall &amp; Scott Ritter: Russia is Wi...</td>\n",
       "    </tr>\n",
       "    <tr>\n",
       "      <th>28</th>\n",
       "      <td>EN_UA_DEV_100012.txt</td>\n",
       "      <td>Ukraine's Minerals: What the West is Fighting ...</td>\n",
       "    </tr>\n",
       "    <tr>\n",
       "      <th>29</th>\n",
       "      <td>EN_UA_DEV_100013.txt</td>\n",
       "      <td>Former Commander-in-Chief of Ukrainian Armed F...</td>\n",
       "    </tr>\n",
       "    <tr>\n",
       "      <th>30</th>\n",
       "      <td>EN_UA_DEV_100019.txt</td>\n",
       "      <td>Microsoft: Russians Have Begun Targeting 2024 ...</td>\n",
       "    </tr>\n",
       "    <tr>\n",
       "      <th>31</th>\n",
       "      <td>EN_UA_DEV_100026.txt</td>\n",
       "      <td>How Green Fanaticism and the Sanctions Regime ...</td>\n",
       "    </tr>\n",
       "    <tr>\n",
       "      <th>32</th>\n",
       "      <td>EN_UA_DEV_100029.txt</td>\n",
       "      <td>General Milley: Russian military stocks rapidl...</td>\n",
       "    </tr>\n",
       "    <tr>\n",
       "      <th>33</th>\n",
       "      <td>EN_UA_DEV_100033.txt</td>\n",
       "      <td>Wild Kremlin TV hosts threaten the U.S. with n...</td>\n",
       "    </tr>\n",
       "    <tr>\n",
       "      <th>34</th>\n",
       "      <td>EN_UA_DEV_100034.txt</td>\n",
       "      <td>Opinion: Restructuring Ukrainian debt is a ste...</td>\n",
       "    </tr>\n",
       "    <tr>\n",
       "      <th>35</th>\n",
       "      <td>EN_UA_DEV_100036.txt</td>\n",
       "      <td>Opinion: The unseen scars of Ukraine's mental ...</td>\n",
       "    </tr>\n",
       "    <tr>\n",
       "      <th>36</th>\n",
       "      <td>EN_UA_DEV_20.txt</td>\n",
       "      <td>There Are Only Downsides To Prolonging The War...</td>\n",
       "    </tr>\n",
       "    <tr>\n",
       "      <th>37</th>\n",
       "      <td>EN_UA_DEV_213.txt</td>\n",
       "      <td>US and NATO escalation of conflict with Russia...</td>\n",
       "    </tr>\n",
       "    <tr>\n",
       "      <th>38</th>\n",
       "      <td>EN_UA_DEV_214.txt</td>\n",
       "      <td>My Take | Nato barbarians are expanding and ga...</td>\n",
       "    </tr>\n",
       "    <tr>\n",
       "      <th>39</th>\n",
       "      <td>EN_UA_DEV_215.txt</td>\n",
       "      <td>Corruption In Ukraine Remains A Major Problem ...</td>\n",
       "    </tr>\n",
       "    <tr>\n",
       "      <th>40</th>\n",
       "      <td>EN_UA_DEV_22.txt</td>\n",
       "      <td>European Parliament members clash over support...</td>\n",
       "    </tr>\n",
       "  </tbody>\n",
       "</table>\n",
       "</div>"
      ],
      "text/plain": [
       "                    file                                               text\n",
       "0       EN_CC_200030.txt  Bangladesh, Nordic countries to strengthen coo...\n",
       "1       EN_CC_200033.txt  Greta Thunberg Calls For 'Overthrow of Whole C...\n",
       "2       EN_CC_200034.txt  If we “just stop oil” like climate protesters ...\n",
       "3       EN_CC_200035.txt  Gretchen Whitmer Orders Michigan’s State Fleet...\n",
       "4       EN_CC_200036.txt  Climate cultists push bizarre scare language a...\n",
       "5       EN_CC_200040.txt  Climate Protesters Out Of Control As They Atta...\n",
       "6       EN_CC_200046.txt  CO2 is the GREENING molecule: New study shows ...\n",
       "7       EN_CC_200047.txt  89% of ‘American Elites’ Back WEF’s Plan to Ra...\n",
       "8       EN_CC_200049.txt  Alarmists Warn of U.S. ‘Heat Dome’ Tied to Hum...\n",
       "9       EN_CC_200050.txt  Link to Major Banks Bend The Knee To Climate A...\n",
       "10      EN_CC_200053.txt  UK’s Sunak Reverses Decision to Skip COP27 Cli...\n",
       "11      EN_CC_200054.txt  EU Central Banker Pushes Bitcoin Ban Under Gui...\n",
       "12      EN_CC_200060.txt  French state bank to end financing of oil and ...\n",
       "13      EN_CC_200063.txt  How to Reestablish the Authority of Corporate ...\n",
       "14      EN_CC_200064.txt  Watch: Eco-Loon Decked by Camera Crane After S...\n",
       "15      EN_CC_200065.txt  Climate Alarmists Warn of ‘Hottest Day in Thou...\n",
       "16      EN_CC_200069.txt  Oxford Residents Mount Resistance Against the ...\n",
       "17      EN_CC_200070.txt  Wat? L.A. Mayor Garcetti Flies to Argentina to...\n",
       "18      EN_CC_200071.txt  Biden’s green policies are making housing no l...\n",
       "19      EN_CC_200077.txt  OBEY THE GREEN: Blue states depriving rural co...\n",
       "20      EN_CC_200078.txt  Greta Thunberg Detained Again At Anti-Coal Pro...\n",
       "21      EN_CC_200079.txt  Klaus Schwab Wants To Ban People Washing Their...\n",
       "22      EN_CC_200081.txt  Green Madness: Leftist Scottish Govt Cut Down ...\n",
       "23      EN_CC_200085.txt  The Great California Wind Energy Ripoff… \\n\\n ...\n",
       "24  EN_UA_DEV_100002.txt  Ukrainian nationalism, Ukrainian patriotism wi...\n",
       "25  EN_UA_DEV_100003.txt  Medvedev: Russia Seeks More in Ukraine, 'Proba...\n",
       "26  EN_UA_DEV_100004.txt  RUSSIANS TO CUT COKE PLANT FROM AVDEEVKA \\n\\nW...\n",
       "27  EN_UA_DEV_100005.txt  New Sarah Westall & Scott Ritter: Russia is Wi...\n",
       "28  EN_UA_DEV_100012.txt  Ukraine's Minerals: What the West is Fighting ...\n",
       "29  EN_UA_DEV_100013.txt  Former Commander-in-Chief of Ukrainian Armed F...\n",
       "30  EN_UA_DEV_100019.txt  Microsoft: Russians Have Begun Targeting 2024 ...\n",
       "31  EN_UA_DEV_100026.txt  How Green Fanaticism and the Sanctions Regime ...\n",
       "32  EN_UA_DEV_100029.txt  General Milley: Russian military stocks rapidl...\n",
       "33  EN_UA_DEV_100033.txt  Wild Kremlin TV hosts threaten the U.S. with n...\n",
       "34  EN_UA_DEV_100034.txt  Opinion: Restructuring Ukrainian debt is a ste...\n",
       "35  EN_UA_DEV_100036.txt  Opinion: The unseen scars of Ukraine's mental ...\n",
       "36      EN_UA_DEV_20.txt  There Are Only Downsides To Prolonging The War...\n",
       "37     EN_UA_DEV_213.txt  US and NATO escalation of conflict with Russia...\n",
       "38     EN_UA_DEV_214.txt  My Take | Nato barbarians are expanding and ga...\n",
       "39     EN_UA_DEV_215.txt  Corruption In Ukraine Remains A Major Problem ...\n",
       "40      EN_UA_DEV_22.txt  European Parliament members clash over support..."
      ]
     },
     "execution_count": 60,
     "metadata": {},
     "output_type": "execute_result"
    }
   ],
   "source": [
    "devset"
   ]
  },
  {
   "cell_type": "code",
   "execution_count": 78,
   "metadata": {},
   "outputs": [],
   "source": [
    "all_res = []\n",
    "\n",
    "for index, row in devset.iterrows():\n",
    "    res = classifier(row)\n",
    "    all_res.append(res)"
   ]
  },
  {
   "cell_type": "code",
   "execution_count": 80,
   "metadata": {},
   "outputs": [],
   "source": [
    "res_df = pd.DataFrame(all_res)"
   ]
  },
  {
   "cell_type": "code",
   "execution_count": 83,
   "metadata": {},
   "outputs": [],
   "source": [
    "res_df.to_csv(\"dev_results.txt\", index=False, header=False, sep=\"\\t\")"
   ]
  },
  {
   "cell_type": "code",
   "execution_count": null,
   "metadata": {},
   "outputs": [],
   "source": []
  }
 ],
 "metadata": {
  "kernelspec": {
   "display_name": ".venv",
   "language": "python",
   "name": "python3"
  },
  "language_info": {
   "codemirror_mode": {
    "name": "ipython",
    "version": 3
   },
   "file_extension": ".py",
   "mimetype": "text/x-python",
   "name": "python",
   "nbconvert_exporter": "python",
   "pygments_lexer": "ipython3",
   "version": "3.10.8"
  }
 },
 "nbformat": 4,
 "nbformat_minor": 2
}
